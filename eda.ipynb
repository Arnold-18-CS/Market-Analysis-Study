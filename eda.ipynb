{
 "cells": [
  {
   "cell_type": "markdown",
   "id": "9f6dcaff",
   "metadata": {},
   "source": [
    "# Data Cleaning, Preprocessing and Exploratory Data Analysis"
   ]
  },
  {
   "cell_type": "markdown",
   "id": "f9d93628",
   "metadata": {},
   "source": [
    "## Preliminary preparation"
   ]
  },
  {
   "cell_type": "markdown",
   "id": "c1340a0d",
   "metadata": {},
   "source": [
    "### 1. Importing the libraries"
   ]
  },
  {
   "cell_type": "code",
   "execution_count": 29,
   "id": "c8c3ee6f",
   "metadata": {},
   "outputs": [],
   "source": [
    "import pandas as pd\n",
    "import numpy as np\n",
    "import matplotlib.pyplot as plt\n",
    "import seaborn as sns\n",
    "import nbformat\n",
    "import plotly.express as px\n",
    "import plotly.graph_objects as go\n",
    "from plotly.subplots import make_subplots"
   ]
  },
  {
   "cell_type": "markdown",
   "id": "eb300d68",
   "metadata": {},
   "source": [
    "### 2. Importing the data"
   ]
  },
  {
   "cell_type": "code",
   "execution_count": 30,
   "id": "f6f95418",
   "metadata": {},
   "outputs": [
    {
     "data": {
      "application/vnd.microsoft.datawrangler.viewer.v0+json": {
       "columns": [
        {
         "name": "index",
         "rawType": "int64",
         "type": "integer"
        },
        {
         "name": "Serial-No",
         "rawType": "object",
         "type": "string"
        },
        {
         "name": "Period",
         "rawType": "object",
         "type": "string"
        },
        {
         "name": "Period.Year",
         "rawType": "int64",
         "type": "integer"
        },
        {
         "name": "Period.Quarter",
         "rawType": "int64",
         "type": "integer"
        },
        {
         "name": "Period.Month",
         "rawType": "int64",
         "type": "integer"
        },
        {
         "name": "Period.Day",
         "rawType": "int64",
         "type": "integer"
        },
        {
         "name": "2. Has it become more difficult or easier to find a job in your city?",
         "rawType": "object",
         "type": "string"
        },
        {
         "name": "3. Is this a good time for people to make a large purchase such as furniture or electrical appliances, given the economic climate?",
         "rawType": "object",
         "type": "string"
        },
        {
         "name": "4. Compared to the last 6 months, are you able to spend (more, the same or less) money on large purchases (furniture, electrical appliances) over the next 6 months?",
         "rawType": "object",
         "type": "string"
        },
        {
         "name": "5. Will you be able to meet your regular expenses over the next 6 months?",
         "rawType": "object",
         "type": "string"
        },
        {
         "name": "6. How do you expect your household's income to change over the next 6 months?",
         "rawType": "object",
         "type": "string"
        },
        {
         "name": "7. How do you expect general economic conditions in your city to change over the next 6 months?",
         "rawType": "object",
         "type": "string"
        },
        {
         "name": "8. How do you expect general economic conditions in your country to change over the next 6 months?",
         "rawType": "object",
         "type": "string"
        },
        {
         "name": "8a.Compared to the last 6 months, has it become more difficult or easier to make money in your city?",
         "rawType": "object",
         "type": "string"
        },
        {
         "name": "8b. Do you think your country is heading in the right direction or the wrong direction?",
         "rawType": "object",
         "type": "unknown"
        },
        {
         "name": "8c. How many meals do you take a day?",
         "rawType": "object",
         "type": "unknown"
        },
        {
         "name": "9. Gender",
         "rawType": "object",
         "type": "string"
        },
        {
         "name": "10. Marital status",
         "rawType": "object",
         "type": "string"
        },
        {
         "name": "11. Age",
         "rawType": "object",
         "type": "string"
        },
        {
         "name": "11b. Age-group",
         "rawType": "object",
         "type": "string"
        },
        {
         "name": "12. What's your highest level of education?",
         "rawType": "object",
         "type": "string"
        },
        {
         "name": "13. Occupation",
         "rawType": "object",
         "type": "string"
        },
        {
         "name": "14. Which population group do you identify with?",
         "rawType": "object",
         "type": "string"
        },
        {
         "name": "15. Do you have any children under the age of 18 years living in your home?",
         "rawType": "object",
         "type": "string"
        },
        {
         "name": "16. What is the size of your household (number of people in the family)?",
         "rawType": "object",
         "type": "unknown"
        },
        {
         "name": "18. What would you say is the COMBINED TOTAL amount of money that everyone in the household earns on an average month after tax.? This includes everyone's salaries and income from their businesses?",
         "rawType": "object",
         "type": "string"
        },
        {
         "name": "Income Level",
         "rawType": "object",
         "type": "string"
        },
        {
         "name": "19. Now, thinking about the things that are constantly worrying you and your community lately What would you say are the top three issues that you are most concerned about?",
         "rawType": "object",
         "type": "string"
        },
        {
         "name": "20. Over the past few months when shopping for Food & Beverages (groceries, take-out, etc), what have you noticed in terms of their prices?",
         "rawType": "object",
         "type": "string"
        },
        {
         "name": "20. Over the past few months when shopping for Utilities (Water, Electricity, Gas, etc), what have you noticed in terms of their prices?",
         "rawType": "object",
         "type": "string"
        },
        {
         "name": "20. Over the past few months when shopping for Household furniture & appliances (Beds, Fridge etc), what have you noticed in terms of their prices?",
         "rawType": "object",
         "type": "string"
        },
        {
         "name": "20. Over the past few months when shopping for Alcoholic Beverages, what have you noticed in terms of their prices?",
         "rawType": "object",
         "type": "string"
        },
        {
         "name": "20. Over the past few months when paying for Housing/Rent, what have you noticed in terms of their prices?",
         "rawType": "object",
         "type": "string"
        },
        {
         "name": "20. Over the past few months when paying for Transportation (Bus fare, Fuel etc), what have you noticed in terms of their prices?",
         "rawType": "object",
         "type": "string"
        },
        {
         "name": "20. Over the past few months when shopping for Clothing & Shoes, what have you noticed in terms of their prices?",
         "rawType": "object",
         "type": "string"
        },
        {
         "name": "20. Over the past few months when Paying for Education (School fees, school supplies), what have you noticed in terms of their prices?",
         "rawType": "object",
         "type": "string"
        },
        {
         "name": "20. Over the past few months when Paying for Recreation (social activities, going out, movies, travelling, sports), what have you noticed in terms of their prices?",
         "rawType": "object",
         "type": "string"
        },
        {
         "name": "20. Over the past few months when shopping for Communication (Airtime, Mobile data and internet costs), what have you noticed in terms of their prices?",
         "rawType": "object",
         "type": "string"
        },
        {
         "name": "21. How concerned are you about the rising prices?",
         "rawType": "object",
         "type": "string"
        },
        {
         "name": "22. Rating 1-4 Where 1 is no impact and 4 is A lot of impact. How are the rising prices negatively impacting your ability to meet my day to day expenses (food, transport, airtime)",
         "rawType": "object",
         "type": "string"
        },
        {
         "name": "22. Rating 1-4 Where 1 is no impact and 4 is A lot of impact. How are the rising prices negatively impacting your ability to make discretionary spending (furniture, car, travel)",
         "rawType": "object",
         "type": "string"
        },
        {
         "name": "22. Rating 1-4 Where 1 is no impact and 4 is A lot of impact. How are the rising prices negatively impacting your ability to find an affordable housing",
         "rawType": "object",
         "type": "string"
        },
        {
         "name": "22. Rating 1-4 Where 1 is no impact and 4 is A lot of impact. How are the rising prices negatively impacting your ability to invest, save for my retirement",
         "rawType": "object",
         "type": "string"
        },
        {
         "name": "22. Rating 1-4 Where 1 is no impact and 4 is A lot of impact. How are the rising prices negatively impacting your ability to get healthcare (doctors, exams, medications, etc)",
         "rawType": "object",
         "type": "string"
        },
        {
         "name": "22. Rating 1-4 Where 1 is no impact and 4 is A lot of impact. How are the rising prices negatively impacting your ability to get organic food to eat and/or healthier meals",
         "rawType": "object",
         "type": "string"
        },
        {
         "name": "23. In the past few months, what have you started doing, or done more than before, to deal with the rising prices?",
         "rawType": "object",
         "type": "string"
        },
        {
         "name": "24. Over the past few months have you had to borrow money to meet your day-to-day expenses due to the rising prices?",
         "rawType": "object",
         "type": "string"
        },
        {
         "name": "25. What do you believe is the main reason that is causing the increase in food and fuel prices?",
         "rawType": "object",
         "type": "string"
        },
        {
         "name": "26. Thinking about the amount of stress in your life as a result of rising prices and financial issues How would you describe most of your days recently?",
         "rawType": "object",
         "type": "string"
        },
        {
         "name": "27. In your opinion, what do you think is the best way to combat the increase in prices in Africa",
         "rawType": "object",
         "type": "string"
        },
        {
         "name": "28. Which of the following things are you currently doing to help you curb/contain inflation?",
         "rawType": "object",
         "type": "string"
        },
        {
         "name": "29. Compared to a year ago, How have your eating habits changed because of the rising food prices?",
         "rawType": "object",
         "type": "unknown"
        },
        {
         "name": "30. Compared to a year ago, How have your eating habits for meat and milk changed because of the rising food prices?",
         "rawType": "object",
         "type": "unknown"
        },
        {
         "name": "31. Which of the following types of alcoholic beverages have you drunk in the past 3 months?",
         "rawType": "object",
         "type": "unknown"
        },
        {
         "name": "32. Which ONE Alcohol category do you currently drink more often than any of the other types of alcohol?",
         "rawType": "object",
         "type": "unknown"
        }
       ],
       "ref": "ec4a72b1-1b0d-4a65-9291-96e052808089",
       "rows": [
        [
         "0",
         "R3229",
         "2022-06-20",
         "2022",
         "2",
         "6",
         "20",
         "Difficult",
         "Yes",
         "Same",
         "No",
         "Stay the same",
         "Stay the same",
         "Stay the same",
         "Same",
         null,
         null,
         "Male",
         "Married",
         "40-44",
         "Gen X",
         "Diploma",
         "Salaried employee",
         "Black",
         "Yes",
         null,
         "Under USD500",
         "Low Income",
         "Rising prices/ high cost of living;Political instability in the country;Upcoming elections",
         "Price went up",
         "Price went up",
         "Price went up",
         "Price went up",
         "Price went up",
         "Price went up",
         "Price went up",
         "Price went up",
         "Price went up",
         "Price went up",
         "Quite concerned",
         "Stayed the same",
         "Stayed the same",
         "Stayed the same",
         "Stayed the same",
         "Stayed the same",
         "Stayed the same",
         "Delayed non-essential purchases",
         "No, have not borrowed",
         "Impact of COVID-19 pandemic",
         "Quite stressful",
         "Governments should support the local production of goods and services",
         "I stopped specific diets e.g Keto, Vegan, Gluten free",
         null,
         null,
         null,
         null
        ],
        [
         "1",
         "R3377",
         "2022-06-20",
         "2022",
         "2",
         "6",
         "20",
         "Difficult",
         "Yes",
         "More",
         "Maybe",
         "Stay the same",
         "Stay the same",
         "Stay the same",
         "Difficult",
         null,
         null,
         "Female",
         "Dating",
         "40-44",
         "Gen X",
         "Diploma",
         "Salaried employee",
         "Black",
         "Yes",
         null,
         "Between USD901 and USD1,800",
         "Middle Income",
         "Shortage of goods/supply issues",
         "Price went up",
         "Price stayed the same",
         "Price stayed the same",
         "Price went up",
         "Price stayed the same",
         "Price stayed the same",
         "Price went up",
         "Price went up",
         "Price stayed the same",
         "Price stayed the same",
         "Not concerned",
         "Stayed the same",
         "Stayed the same",
         "Stayed the same",
         "Worsened",
         "Worsened",
         "Stayed the same",
         "Other changes in purchasing habits (e.g., buying meat less often, cutting back on take-out food, spending less on recreation and leisure, repairing items instead of replacing them, buying second-hand goods, reducing overconsumption);Used community services (e.g., community center feeding programs, school programs, faith-based organizations (church/mosque donations));Used my savings to pay for expenses",
         "Yes, had to borrow a few times",
         "Impact of Russia's invasion of Ukraine",
         "Quite stressful",
         "People should save more",
         "I am going to bars less often;I am purchasing less alcohol",
         null,
         null,
         null,
         null
        ],
        [
         "2",
         "R2149",
         "2022-11-20",
         "2022",
         "4",
         "11",
         "20",
         "Difficult",
         "No",
         "Less",
         "Yes",
         "Stay the same",
         "Worsen",
         "Worsen",
         "Difficult",
         null,
         null,
         "Female",
         "Married",
         "25-29",
         "Millennials",
         "Vocational training",
         "Salaried employee",
         "Black",
         "Yes",
         "3 or 4 people",
         "Under USD500",
         "Low Income",
         "Shortage of goods/supply issues;Global warming /Climate Change;Natural disasters (e.g. floods, drought)",
         "Price went up",
         "Price stayed the same",
         "Price went up",
         "Price went up",
         "Price stayed the same",
         "Price went up",
         "Price went up",
         "Price went up",
         "Price went up",
         "Price went up",
         "Quite concerned",
         "Worsened",
         "Worsened",
         "Worsened",
         "Worsened",
         "Worsened",
         "Worsened",
         "Searched for sales and promotions;Purchased cheaper alternatives, brands or items;Delayed non-essential purchases",
         "Yes, had to borrow a few times",
         "Impact of Russia's invasion of Ukraine",
         "Quite stressful",
         "People should spend less;People should save more",
         "I am purchasing less produce;I am purchasing less prepackaged or frozen food",
         null,
         null,
         null,
         null
        ],
        [
         "3",
         "R3410",
         "2022-06-20",
         "2022",
         "2",
         "6",
         "20",
         "Difficult",
         "Maybe",
         "More",
         "Maybe",
         "Stay the same",
         "Stay the same",
         "Stay the same",
         "Same",
         null,
         null,
         "Male",
         "Dating",
         "30-34",
         "Millennials",
         "University degree",
         "Salaried employee",
         "Black",
         "Yes",
         null,
         "Between USD901 and USD1,800",
         "Middle Income",
         "Rising prices/ high cost of living;Shortage of goods/supply issues;Government corruption",
         "Price went up",
         "Price went up",
         "Price went up",
         "Price went up",
         "Price went up",
         "Price went up",
         "Price went up",
         "Price went up",
         "Price went up",
         "Price went up",
         "Quite concerned",
         "Worsened",
         "Worsened",
         "Worsened",
         "Worsened",
         "Worsened",
         "Worsened",
         "Searched for sales and promotions;Purchased cheaper alternatives, brands or items;Delayed non-essential purchases",
         "Yes, had to borrow often",
         "Impact of Russia's invasion of Ukraine",
         "Quite stressful",
         "Governments should support the local production of goods and services",
         "I am eating out at restaurants less often;I am going to bars less often;I am purchasing less meat",
         null,
         null,
         null,
         null
        ],
        [
         "4",
         "R2099",
         "2022-11-20",
         "2022",
         "4",
         "11",
         "20",
         "Difficult",
         "No",
         "Less",
         "Maybe",
         "Improve",
         "Improve",
         "Improve",
         "Difficult",
         null,
         null,
         "Female",
         "Married",
         "25-29",
         "Millennials",
         "Vocational training",
         "Self employed/Contractor",
         "Black",
         "Yes",
         "3 or 4 people",
         "Between USD901 and USD1,800",
         "Middle Income",
         "Rising prices/ high cost of living;COVID-19;Natural disasters (e.g. floods, drought)",
         "Price went up",
         "Price dropped",
         "Price went up",
         "Don't know/Don't buy",
         "Price stayed the same",
         "Price went up",
         "Price stayed the same",
         "Price stayed the same",
         "Price stayed the same",
         "Price went up",
         "Quite concerned",
         "Worsened",
         "Worsened",
         "Stayed the same",
         "Worsened",
         "Worsened",
         "Worsened",
         "Other changes in purchasing habits (e.g., buying meat less often, cutting back on take-out food, spending less on recreation and leisure, repairing items instead of replacing them, buying second-hand goods, reducing overconsumption);Lifestyle changes to reduce costs e.g. sharing a vehicle on regular trips to save on fuel",
         "Yes, had to borrow a few times",
         "Impact of COVID-19 pandemic",
         "Quite stressful",
         "Governments should support the local production of goods and services;People should save more",
         "I am stocking up on cheap street/local market organic foods;I am spending less on beauty products and procedures e.g Manicure, facials, hair",
         null,
         null,
         null,
         null
        ]
       ],
       "shape": {
        "columns": 55,
        "rows": 5
       }
      },
      "text/html": [
       "<div>\n",
       "<style scoped>\n",
       "    .dataframe tbody tr th:only-of-type {\n",
       "        vertical-align: middle;\n",
       "    }\n",
       "\n",
       "    .dataframe tbody tr th {\n",
       "        vertical-align: top;\n",
       "    }\n",
       "\n",
       "    .dataframe thead th {\n",
       "        text-align: right;\n",
       "    }\n",
       "</style>\n",
       "<table border=\"1\" class=\"dataframe\">\n",
       "  <thead>\n",
       "    <tr style=\"text-align: right;\">\n",
       "      <th></th>\n",
       "      <th>Serial-No</th>\n",
       "      <th>Period</th>\n",
       "      <th>Period.Year</th>\n",
       "      <th>Period.Quarter</th>\n",
       "      <th>Period.Month</th>\n",
       "      <th>Period.Day</th>\n",
       "      <th>2. Has it become more difficult or easier to find a job in your city?</th>\n",
       "      <th>3. Is this a good time for people to make a large purchase such as furniture or electrical appliances, given the economic climate?</th>\n",
       "      <th>4. Compared to the last 6 months, are you able to spend (more, the same or less) money on large purchases (furniture, electrical appliances) over the next 6 months?</th>\n",
       "      <th>5. Will you be able to meet your regular expenses over the next 6 months?</th>\n",
       "      <th>...</th>\n",
       "      <th>23. In the past few months, what have you started doing, or done more than before, to deal with the rising prices?</th>\n",
       "      <th>24. Over the past few months have you had to borrow money to meet your day-to-day expenses due to the rising prices?</th>\n",
       "      <th>25. What do you believe is the main reason that is causing the increase in food and fuel prices?</th>\n",
       "      <th>26. Thinking about the amount of stress in your life as a result of rising prices and financial issues How would you describe most of your days recently?</th>\n",
       "      <th>27. In your opinion, what do you think is the best way to combat the increase in prices in Africa</th>\n",
       "      <th>28. Which of the following things are you currently doing to help you curb/contain inflation?</th>\n",
       "      <th>29. Compared to a year ago, How have your eating habits changed because of the rising food prices?</th>\n",
       "      <th>30. Compared to a year ago, How have your eating habits for meat and milk changed because of the rising food prices?</th>\n",
       "      <th>31. Which of the following types of alcoholic beverages have you drunk in the past 3 months?</th>\n",
       "      <th>32. Which ONE Alcohol category do you currently drink more often than any of the other types of alcohol?</th>\n",
       "    </tr>\n",
       "  </thead>\n",
       "  <tbody>\n",
       "    <tr>\n",
       "      <th>0</th>\n",
       "      <td>R3229</td>\n",
       "      <td>2022-06-20</td>\n",
       "      <td>2022</td>\n",
       "      <td>2</td>\n",
       "      <td>6</td>\n",
       "      <td>20</td>\n",
       "      <td>Difficult</td>\n",
       "      <td>Yes</td>\n",
       "      <td>Same</td>\n",
       "      <td>No</td>\n",
       "      <td>...</td>\n",
       "      <td>Delayed non-essential purchases</td>\n",
       "      <td>No, have not borrowed</td>\n",
       "      <td>Impact of COVID-19 pandemic</td>\n",
       "      <td>Quite stressful</td>\n",
       "      <td>Governments should support the local productio...</td>\n",
       "      <td>I stopped specific diets e.g Keto, Vegan, Glut...</td>\n",
       "      <td>NaN</td>\n",
       "      <td>NaN</td>\n",
       "      <td>NaN</td>\n",
       "      <td>NaN</td>\n",
       "    </tr>\n",
       "    <tr>\n",
       "      <th>1</th>\n",
       "      <td>R3377</td>\n",
       "      <td>2022-06-20</td>\n",
       "      <td>2022</td>\n",
       "      <td>2</td>\n",
       "      <td>6</td>\n",
       "      <td>20</td>\n",
       "      <td>Difficult</td>\n",
       "      <td>Yes</td>\n",
       "      <td>More</td>\n",
       "      <td>Maybe</td>\n",
       "      <td>...</td>\n",
       "      <td>Other changes in purchasing habits (e.g., buyi...</td>\n",
       "      <td>Yes, had to borrow a few times</td>\n",
       "      <td>Impact of Russia's invasion of Ukraine</td>\n",
       "      <td>Quite stressful</td>\n",
       "      <td>People should save more</td>\n",
       "      <td>I am going to bars less often;I am purchasing ...</td>\n",
       "      <td>NaN</td>\n",
       "      <td>NaN</td>\n",
       "      <td>NaN</td>\n",
       "      <td>NaN</td>\n",
       "    </tr>\n",
       "    <tr>\n",
       "      <th>2</th>\n",
       "      <td>R2149</td>\n",
       "      <td>2022-11-20</td>\n",
       "      <td>2022</td>\n",
       "      <td>4</td>\n",
       "      <td>11</td>\n",
       "      <td>20</td>\n",
       "      <td>Difficult</td>\n",
       "      <td>No</td>\n",
       "      <td>Less</td>\n",
       "      <td>Yes</td>\n",
       "      <td>...</td>\n",
       "      <td>Searched for sales and promotions;Purchased ch...</td>\n",
       "      <td>Yes, had to borrow a few times</td>\n",
       "      <td>Impact of Russia's invasion of Ukraine</td>\n",
       "      <td>Quite stressful</td>\n",
       "      <td>People should spend less;People should save more</td>\n",
       "      <td>I am purchasing less produce;I am purchasing l...</td>\n",
       "      <td>NaN</td>\n",
       "      <td>NaN</td>\n",
       "      <td>NaN</td>\n",
       "      <td>NaN</td>\n",
       "    </tr>\n",
       "    <tr>\n",
       "      <th>3</th>\n",
       "      <td>R3410</td>\n",
       "      <td>2022-06-20</td>\n",
       "      <td>2022</td>\n",
       "      <td>2</td>\n",
       "      <td>6</td>\n",
       "      <td>20</td>\n",
       "      <td>Difficult</td>\n",
       "      <td>Maybe</td>\n",
       "      <td>More</td>\n",
       "      <td>Maybe</td>\n",
       "      <td>...</td>\n",
       "      <td>Searched for sales and promotions;Purchased ch...</td>\n",
       "      <td>Yes, had to borrow often</td>\n",
       "      <td>Impact of Russia's invasion of Ukraine</td>\n",
       "      <td>Quite stressful</td>\n",
       "      <td>Governments should support the local productio...</td>\n",
       "      <td>I am eating out at restaurants less often;I am...</td>\n",
       "      <td>NaN</td>\n",
       "      <td>NaN</td>\n",
       "      <td>NaN</td>\n",
       "      <td>NaN</td>\n",
       "    </tr>\n",
       "    <tr>\n",
       "      <th>4</th>\n",
       "      <td>R2099</td>\n",
       "      <td>2022-11-20</td>\n",
       "      <td>2022</td>\n",
       "      <td>4</td>\n",
       "      <td>11</td>\n",
       "      <td>20</td>\n",
       "      <td>Difficult</td>\n",
       "      <td>No</td>\n",
       "      <td>Less</td>\n",
       "      <td>Maybe</td>\n",
       "      <td>...</td>\n",
       "      <td>Other changes in purchasing habits (e.g., buyi...</td>\n",
       "      <td>Yes, had to borrow a few times</td>\n",
       "      <td>Impact of COVID-19 pandemic</td>\n",
       "      <td>Quite stressful</td>\n",
       "      <td>Governments should support the local productio...</td>\n",
       "      <td>I am stocking up on cheap street/local market ...</td>\n",
       "      <td>NaN</td>\n",
       "      <td>NaN</td>\n",
       "      <td>NaN</td>\n",
       "      <td>NaN</td>\n",
       "    </tr>\n",
       "  </tbody>\n",
       "</table>\n",
       "<p>5 rows × 55 columns</p>\n",
       "</div>"
      ],
      "text/plain": [
       "  Serial-No      Period  Period.Year  Period.Quarter  Period.Month  \\\n",
       "0     R3229  2022-06-20         2022               2             6   \n",
       "1     R3377  2022-06-20         2022               2             6   \n",
       "2     R2149  2022-11-20         2022               4            11   \n",
       "3     R3410  2022-06-20         2022               2             6   \n",
       "4     R2099  2022-11-20         2022               4            11   \n",
       "\n",
       "   Period.Day  \\\n",
       "0          20   \n",
       "1          20   \n",
       "2          20   \n",
       "3          20   \n",
       "4          20   \n",
       "\n",
       "  2. Has it become more difficult or easier to find a job in your city?  \\\n",
       "0                                          Difficult                      \n",
       "1                                          Difficult                      \n",
       "2                                          Difficult                      \n",
       "3                                          Difficult                      \n",
       "4                                          Difficult                      \n",
       "\n",
       "  3. Is this a good time for people to make a large purchase such as furniture or electrical appliances, given the economic climate?  \\\n",
       "0                                                Yes                                                                                   \n",
       "1                                                Yes                                                                                   \n",
       "2                                                 No                                                                                   \n",
       "3                                              Maybe                                                                                   \n",
       "4                                                 No                                                                                   \n",
       "\n",
       "  4. Compared to the last 6 months, are you able to spend (more, the same or less) money on large purchases (furniture, electrical appliances) over the next 6 months?  \\\n",
       "0                                               Same                                                                                                                     \n",
       "1                                               More                                                                                                                     \n",
       "2                                               Less                                                                                                                     \n",
       "3                                               More                                                                                                                     \n",
       "4                                               Less                                                                                                                     \n",
       "\n",
       "  5. Will you be able to meet your regular expenses over the next 6 months?  \\\n",
       "0                                                 No                          \n",
       "1                                              Maybe                          \n",
       "2                                                Yes                          \n",
       "3                                              Maybe                          \n",
       "4                                              Maybe                          \n",
       "\n",
       "   ...  \\\n",
       "0  ...   \n",
       "1  ...   \n",
       "2  ...   \n",
       "3  ...   \n",
       "4  ...   \n",
       "\n",
       "  23. In the past few months, what have you started doing, or done more than before, to deal with the rising prices?  \\\n",
       "0                    Delayed non-essential purchases                                                                   \n",
       "1  Other changes in purchasing habits (e.g., buyi...                                                                   \n",
       "2  Searched for sales and promotions;Purchased ch...                                                                   \n",
       "3  Searched for sales and promotions;Purchased ch...                                                                   \n",
       "4  Other changes in purchasing habits (e.g., buyi...                                                                   \n",
       "\n",
       "  24. Over the past few months have you had to borrow money to meet your day-to-day expenses due to the rising prices?  \\\n",
       "0                              No, have not borrowed                                                                     \n",
       "1                     Yes, had to borrow a few times                                                                     \n",
       "2                     Yes, had to borrow a few times                                                                     \n",
       "3                           Yes, had to borrow often                                                                     \n",
       "4                     Yes, had to borrow a few times                                                                     \n",
       "\n",
       "  25. What do you believe is the main reason that is causing the increase in food and fuel prices?  \\\n",
       "0                        Impact of COVID-19 pandemic                                                 \n",
       "1             Impact of Russia's invasion of Ukraine                                                 \n",
       "2             Impact of Russia's invasion of Ukraine                                                 \n",
       "3             Impact of Russia's invasion of Ukraine                                                 \n",
       "4                        Impact of COVID-19 pandemic                                                 \n",
       "\n",
       "  26. Thinking about the amount of stress in your life as a result of rising prices and financial issues How would you describe most of your days recently?  \\\n",
       "0                                    Quite stressful                                                                                                          \n",
       "1                                    Quite stressful                                                                                                          \n",
       "2                                    Quite stressful                                                                                                          \n",
       "3                                    Quite stressful                                                                                                          \n",
       "4                                    Quite stressful                                                                                                          \n",
       "\n",
       "  27. In your opinion, what do you think is the best way to combat the increase in prices in Africa  \\\n",
       "0  Governments should support the local productio...                                                  \n",
       "1                            People should save more                                                  \n",
       "2   People should spend less;People should save more                                                  \n",
       "3  Governments should support the local productio...                                                  \n",
       "4  Governments should support the local productio...                                                  \n",
       "\n",
       "  28. Which of the following things are you currently doing to help you curb/contain inflation?  \\\n",
       "0  I stopped specific diets e.g Keto, Vegan, Glut...                                              \n",
       "1  I am going to bars less often;I am purchasing ...                                              \n",
       "2  I am purchasing less produce;I am purchasing l...                                              \n",
       "3  I am eating out at restaurants less often;I am...                                              \n",
       "4  I am stocking up on cheap street/local market ...                                              \n",
       "\n",
       "  29. Compared to a year ago, How have your eating habits changed because of the rising food prices?  \\\n",
       "0                                                NaN                                                   \n",
       "1                                                NaN                                                   \n",
       "2                                                NaN                                                   \n",
       "3                                                NaN                                                   \n",
       "4                                                NaN                                                   \n",
       "\n",
       "  30. Compared to a year ago, How have your eating habits for meat and milk changed because of the rising food prices?  \\\n",
       "0                                                NaN                                                                     \n",
       "1                                                NaN                                                                     \n",
       "2                                                NaN                                                                     \n",
       "3                                                NaN                                                                     \n",
       "4                                                NaN                                                                     \n",
       "\n",
       "  31. Which of the following types of alcoholic beverages have you drunk in the past 3 months?  \\\n",
       "0                                                NaN                                             \n",
       "1                                                NaN                                             \n",
       "2                                                NaN                                             \n",
       "3                                                NaN                                             \n",
       "4                                                NaN                                             \n",
       "\n",
       "  32. Which ONE Alcohol category do you currently drink more often than any of the other types of alcohol?  \n",
       "0                                                NaN                                                        \n",
       "1                                                NaN                                                        \n",
       "2                                                NaN                                                        \n",
       "3                                                NaN                                                        \n",
       "4                                                NaN                                                        \n",
       "\n",
       "[5 rows x 55 columns]"
      ]
     },
     "execution_count": 30,
     "metadata": {},
     "output_type": "execute_result"
    }
   ],
   "source": [
    "df = pd.read_csv('data.csv')\n",
    "df.head()"
   ]
  },
  {
   "cell_type": "markdown",
   "id": "7434a32d",
   "metadata": {},
   "source": [
    "### 3. Understanding the data structure"
   ]
  },
  {
   "cell_type": "code",
   "execution_count": 31,
   "id": "312be4d9",
   "metadata": {},
   "outputs": [
    {
     "data": {
      "text/plain": [
       "(3934, 55)"
      ]
     },
     "execution_count": 31,
     "metadata": {},
     "output_type": "execute_result"
    }
   ],
   "source": [
    "df.shape"
   ]
  },
  {
   "cell_type": "markdown",
   "id": "3f0f9fde",
   "metadata": {},
   "source": [
    "The data has about 4000 rows and 55 columns"
   ]
  },
  {
   "cell_type": "code",
   "execution_count": 32,
   "id": "17213c6f",
   "metadata": {},
   "outputs": [
    {
     "name": "stdout",
     "output_type": "stream",
     "text": [
      "<class 'pandas.core.frame.DataFrame'>\n",
      "RangeIndex: 3934 entries, 0 to 3933\n",
      "Data columns (total 55 columns):\n",
      " #   Column                                                                                                                                                                                                 Non-Null Count  Dtype \n",
      "---  ------                                                                                                                                                                                                 --------------  ----- \n",
      " 0   Serial-No                                                                                                                                                                                              3934 non-null   object\n",
      " 1   Period                                                                                                                                                                                                 3934 non-null   object\n",
      " 2   Period.Year                                                                                                                                                                                            3934 non-null   int64 \n",
      " 3   Period.Quarter                                                                                                                                                                                         3934 non-null   int64 \n",
      " 4   Period.Month                                                                                                                                                                                           3934 non-null   int64 \n",
      " 5   Period.Day                                                                                                                                                                                             3934 non-null   int64 \n",
      " 6   2. Has it become more difficult or easier to find a job in your city?                                                                                                                                  3934 non-null   object\n",
      " 7   3. Is this a good time for people to make a large purchase such as furniture or electrical appliances, given the economic climate?                                                                     3934 non-null   object\n",
      " 8   4. Compared to the last 6 months, are you able to spend (more, the same or less) money on large purchases (furniture, electrical appliances) over the next 6 months?                                   3934 non-null   object\n",
      " 9   5. Will you be able to meet your regular expenses over the next 6 months?                                                                                                                              3934 non-null   object\n",
      " 10  6. How do you expect your household's income to change over the next 6 months?                                                                                                                         3934 non-null   object\n",
      " 11  7. How do you expect general economic conditions in your city to change over the next 6 months?                                                                                                        3934 non-null   object\n",
      " 12  8. How do you expect general economic conditions in your country to change over the next 6 months?                                                                                                     3934 non-null   object\n",
      " 13  8a.Compared to the last 6 months, has it become more difficult or easier to make money in your city?                                                                                                   3934 non-null   object\n",
      " 14  8b. Do you think your country is heading in the right direction or the wrong direction?                                                                                                                1457 non-null   object\n",
      " 15  8c. How many meals do you take a day?                                                                                                                                                                  490 non-null    object\n",
      " 16  9. Gender                                                                                                                                                                                              3934 non-null   object\n",
      " 17  10. Marital status                                                                                                                                                                                     3934 non-null   object\n",
      " 18  11. Age                                                                                                                                                                                                3934 non-null   object\n",
      " 19  11b. Age-group                                                                                                                                                                                         3934 non-null   object\n",
      " 20  12. What's your highest level of education?                                                                                                                                                            3934 non-null   object\n",
      " 21  13. Occupation                                                                                                                                                                                         3934 non-null   object\n",
      " 22  14. Which population group do you identify with?                                                                                                                                                       3934 non-null   object\n",
      " 23  15. Do you have any children under the age of 18 years living in your home?                                                                                                                            3934 non-null   object\n",
      " 24  16. What is the size of your household (number of people in the family)?                                                                                                                               3464 non-null   object\n",
      " 25  18. What would you say is the COMBINED TOTAL amount of money that everyone in the household earns on an average month after tax.? This includes everyone's salaries and income from their businesses?  3934 non-null   object\n",
      " 26  Income Level                                                                                                                                                                                           3934 non-null   object\n",
      " 27  19. Now, thinking about the things that are constantly worrying you and your community lately What would you say are the top three issues that you are most concerned about?                           3934 non-null   object\n",
      " 28  20. Over the past few months when shopping for Food & Beverages (groceries, take-out, etc), what have you noticed in terms of their prices?                                                            3934 non-null   object\n",
      " 29  20. Over the past few months when shopping for Utilities (Water, Electricity, Gas, etc), what have you noticed in terms of their prices?                                                               3934 non-null   object\n",
      " 30  20. Over the past few months when shopping for Household furniture & appliances (Beds, Fridge etc), what have you noticed in terms of their prices?                                                    3934 non-null   object\n",
      " 31  20. Over the past few months when shopping for Alcoholic Beverages, what have you noticed in terms of their prices?                                                                                    3934 non-null   object\n",
      " 32  20. Over the past few months when paying for Housing/Rent, what have you noticed in terms of their prices?                                                                                             3934 non-null   object\n",
      " 33  20. Over the past few months when paying for Transportation (Bus fare, Fuel etc), what have you noticed in terms of their prices?                                                                      3934 non-null   object\n",
      " 34  20. Over the past few months when shopping for Clothing & Shoes, what have you noticed in terms of their prices?                                                                                       3934 non-null   object\n",
      " 35  20. Over the past few months when Paying for Education (School fees, school supplies), what have you noticed in terms of their prices?                                                                 3934 non-null   object\n",
      " 36  20. Over the past few months when Paying for Recreation (social activities, going out, movies, travelling, sports), what have you noticed in terms of their prices?                                    3934 non-null   object\n",
      " 37  20. Over the past few months when shopping for Communication (Airtime, Mobile data and internet costs), what have you noticed in terms of their prices?                                                3934 non-null   object\n",
      " 38  21. How concerned are you about the rising prices?                                                                                                                                                     3934 non-null   object\n",
      " 39  22. Rating 1-4 Where 1 is no impact and 4 is A lot of impact. How are the rising prices negatively impacting your ability to meet my day to day expenses (food, transport, airtime)                    3934 non-null   object\n",
      " 40  22. Rating 1-4 Where 1 is no impact and 4 is A lot of impact. How are the rising prices negatively impacting your ability to make discretionary spending (furniture, car, travel)                      3934 non-null   object\n",
      " 41  22. Rating 1-4 Where 1 is no impact and 4 is A lot of impact. How are the rising prices negatively impacting your ability to find an affordable housing                                                3934 non-null   object\n",
      " 42  22. Rating 1-4 Where 1 is no impact and 4 is A lot of impact. How are the rising prices negatively impacting your ability to invest, save for my retirement                                            3934 non-null   object\n",
      " 43  22. Rating 1-4 Where 1 is no impact and 4 is A lot of impact. How are the rising prices negatively impacting your ability to get healthcare (doctors, exams, medications, etc)                         3934 non-null   object\n",
      " 44  22. Rating 1-4 Where 1 is no impact and 4 is A lot of impact. How are the rising prices negatively impacting your ability to get organic food to eat and/or healthier meals                            3934 non-null   object\n",
      " 45  23. In the past few months, what have you started doing, or done more than before, to deal with the rising prices?                                                                                     3934 non-null   object\n",
      " 46  24. Over the past few months have you had to borrow money to meet your day-to-day expenses due to the rising prices?                                                                                   3934 non-null   object\n",
      " 47  25. What do you believe is the main reason that is causing the increase in food and fuel prices?                                                                                                       3934 non-null   object\n",
      " 48  26. Thinking about the amount of stress in your life as a result of rising prices and financial issues How would you describe most of your days recently?                                              3934 non-null   object\n",
      " 49  27. In your opinion, what do you think is the best way to combat the increase in prices in Africa                                                                                                      3933 non-null   object\n",
      " 50  28. Which of the following things are you currently doing to help you curb/contain inflation?                                                                                                          3934 non-null   object\n",
      " 51  29. Compared to a year ago, How have your eating habits changed because of the rising food prices?                                                                                                     2962 non-null   object\n",
      " 52  30. Compared to a year ago, How have your eating habits for meat and milk changed because of the rising food prices?                                                                                   2962 non-null   object\n",
      " 53  31. Which of the following types of alcoholic beverages have you drunk in the past 3 months?                                                                                                           1747 non-null   object\n",
      " 54  32. Which ONE Alcohol category do you currently drink more often than any of the other types of alcohol?                                                                                               1740 non-null   object\n",
      "dtypes: int64(4), object(51)\n",
      "memory usage: 1.7+ MB\n"
     ]
    }
   ],
   "source": [
    "df.info()"
   ]
  },
  {
   "cell_type": "code",
   "execution_count": 33,
   "id": "eb369522",
   "metadata": {},
   "outputs": [
    {
     "data": {
      "application/vnd.microsoft.datawrangler.viewer.v0+json": {
       "columns": [
        {
         "name": "index",
         "rawType": "object",
         "type": "string"
        },
        {
         "name": "Period.Year",
         "rawType": "float64",
         "type": "float"
        },
        {
         "name": "Period.Quarter",
         "rawType": "float64",
         "type": "float"
        },
        {
         "name": "Period.Month",
         "rawType": "float64",
         "type": "float"
        },
        {
         "name": "Period.Day",
         "rawType": "float64",
         "type": "float"
        }
       ],
       "ref": "22bb345e-f763-414d-b0fb-c8a5f232beec",
       "rows": [
        [
         "count",
         "3934.0",
         "3934.0",
         "3934.0",
         "3934.0"
        ],
        [
         "mean",
         "2023.1232841891206",
         "2.763091001525165",
         "7.528723945094052",
         "20.0"
        ],
        [
         "std",
         "0.7761390697879473",
         "1.1984820483825822",
         "3.317439384023132",
         "0.0"
        ],
        [
         "min",
         "2022.0",
         "1.0",
         "3.0",
         "20.0"
        ],
        [
         "25%",
         "2023.0",
         "2.0",
         "6.0",
         "20.0"
        ],
        [
         "50%",
         "2023.0",
         "3.0",
         "7.0",
         "20.0"
        ],
        [
         "75%",
         "2024.0",
         "4.0",
         "11.0",
         "20.0"
        ],
        [
         "max",
         "2024.0",
         "4.0",
         "12.0",
         "20.0"
        ]
       ],
       "shape": {
        "columns": 4,
        "rows": 8
       }
      },
      "text/html": [
       "<div>\n",
       "<style scoped>\n",
       "    .dataframe tbody tr th:only-of-type {\n",
       "        vertical-align: middle;\n",
       "    }\n",
       "\n",
       "    .dataframe tbody tr th {\n",
       "        vertical-align: top;\n",
       "    }\n",
       "\n",
       "    .dataframe thead th {\n",
       "        text-align: right;\n",
       "    }\n",
       "</style>\n",
       "<table border=\"1\" class=\"dataframe\">\n",
       "  <thead>\n",
       "    <tr style=\"text-align: right;\">\n",
       "      <th></th>\n",
       "      <th>Period.Year</th>\n",
       "      <th>Period.Quarter</th>\n",
       "      <th>Period.Month</th>\n",
       "      <th>Period.Day</th>\n",
       "    </tr>\n",
       "  </thead>\n",
       "  <tbody>\n",
       "    <tr>\n",
       "      <th>count</th>\n",
       "      <td>3934.000000</td>\n",
       "      <td>3934.000000</td>\n",
       "      <td>3934.000000</td>\n",
       "      <td>3934.0</td>\n",
       "    </tr>\n",
       "    <tr>\n",
       "      <th>mean</th>\n",
       "      <td>2023.123284</td>\n",
       "      <td>2.763091</td>\n",
       "      <td>7.528724</td>\n",
       "      <td>20.0</td>\n",
       "    </tr>\n",
       "    <tr>\n",
       "      <th>std</th>\n",
       "      <td>0.776139</td>\n",
       "      <td>1.198482</td>\n",
       "      <td>3.317439</td>\n",
       "      <td>0.0</td>\n",
       "    </tr>\n",
       "    <tr>\n",
       "      <th>min</th>\n",
       "      <td>2022.000000</td>\n",
       "      <td>1.000000</td>\n",
       "      <td>3.000000</td>\n",
       "      <td>20.0</td>\n",
       "    </tr>\n",
       "    <tr>\n",
       "      <th>25%</th>\n",
       "      <td>2023.000000</td>\n",
       "      <td>2.000000</td>\n",
       "      <td>6.000000</td>\n",
       "      <td>20.0</td>\n",
       "    </tr>\n",
       "    <tr>\n",
       "      <th>50%</th>\n",
       "      <td>2023.000000</td>\n",
       "      <td>3.000000</td>\n",
       "      <td>7.000000</td>\n",
       "      <td>20.0</td>\n",
       "    </tr>\n",
       "    <tr>\n",
       "      <th>75%</th>\n",
       "      <td>2024.000000</td>\n",
       "      <td>4.000000</td>\n",
       "      <td>11.000000</td>\n",
       "      <td>20.0</td>\n",
       "    </tr>\n",
       "    <tr>\n",
       "      <th>max</th>\n",
       "      <td>2024.000000</td>\n",
       "      <td>4.000000</td>\n",
       "      <td>12.000000</td>\n",
       "      <td>20.0</td>\n",
       "    </tr>\n",
       "  </tbody>\n",
       "</table>\n",
       "</div>"
      ],
      "text/plain": [
       "       Period.Year  Period.Quarter  Period.Month  Period.Day\n",
       "count  3934.000000     3934.000000   3934.000000      3934.0\n",
       "mean   2023.123284        2.763091      7.528724        20.0\n",
       "std       0.776139        1.198482      3.317439         0.0\n",
       "min    2022.000000        1.000000      3.000000        20.0\n",
       "25%    2023.000000        2.000000      6.000000        20.0\n",
       "50%    2023.000000        3.000000      7.000000        20.0\n",
       "75%    2024.000000        4.000000     11.000000        20.0\n",
       "max    2024.000000        4.000000     12.000000        20.0"
      ]
     },
     "execution_count": 33,
     "metadata": {},
     "output_type": "execute_result"
    }
   ],
   "source": [
    "df.describe()"
   ]
  },
  {
   "cell_type": "markdown",
   "id": "af993a07",
   "metadata": {},
   "source": [
    "The numerical columns in the data are those with temporal data"
   ]
  },
  {
   "cell_type": "markdown",
   "id": "4c469d7e",
   "metadata": {},
   "source": [
    "### 4. Data preparation"
   ]
  },
  {
   "cell_type": "code",
   "execution_count": 34,
   "id": "d023aa71",
   "metadata": {},
   "outputs": [
    {
     "data": {
      "text/plain": [
       "Index(['Serial-No', 'Period', 'Period.Year', 'Period.Quarter', 'Period.Month',\n",
       "       'Period.Day',\n",
       "       '2. Has it become more difficult or easier to find a job in your city?',\n",
       "       '3. Is this a good time for people to make a large purchase such as furniture or electrical appliances, given the economic climate?',\n",
       "       '4. Compared to the last 6 months, are you able to spend (more, the same or less) money on large purchases (furniture, electrical appliances) over the next 6 months?',\n",
       "       '5. Will you be able to meet your regular expenses over the next 6 months?',\n",
       "       '6. How do you expect your household's income to change over the next 6 months?',\n",
       "       '7. How do you expect general economic conditions in your city to change over the next 6 months?',\n",
       "       '8. How do you expect general economic conditions in your country to change over the next 6 months?',\n",
       "       '8a.Compared to the last 6 months, has it become more difficult or easier to make money in your city?',\n",
       "       '8b. Do you think your country is heading in the right direction or the wrong direction?',\n",
       "       '8c. How many meals do you take a day?', '9. Gender',\n",
       "       '10. Marital status', '11. Age', '11b. Age-group',\n",
       "       '12. What's your highest level of education?', '13. Occupation',\n",
       "       '14. Which population group do you identify with?',\n",
       "       '15. Do you have any children under the age of 18 years living in your home?',\n",
       "       '16. What is the size of your household (number of people in the family)?',\n",
       "       '18. What would you say is the COMBINED TOTAL amount of money that everyone in the household earns on an average month after tax.? This includes everyone's salaries and income from their businesses?',\n",
       "       'Income Level',\n",
       "       '19. Now, thinking about the things that are constantly worrying you and your community lately What would you say are the top three issues that you are most concerned about?',\n",
       "       '20. Over the past few months when shopping for Food & Beverages (groceries, take-out, etc), what have you noticed in terms of their prices?',\n",
       "       '20. Over the past few months when shopping for Utilities (Water, Electricity, Gas, etc), what have you noticed in terms of their prices?',\n",
       "       '20. Over the past few months when shopping for Household furniture & appliances (Beds, Fridge etc), what have you noticed in terms of their prices?',\n",
       "       '20. Over the past few months when shopping for Alcoholic Beverages, what have you noticed in terms of their prices?',\n",
       "       '20. Over the past few months when paying for Housing/Rent, what have you noticed in terms of their prices?',\n",
       "       '20. Over the past few months when paying for Transportation (Bus fare, Fuel etc), what have you noticed in terms of their prices?',\n",
       "       '20. Over the past few months when shopping for Clothing & Shoes, what have you noticed in terms of their prices?',\n",
       "       '20. Over the past few months when Paying for Education (School fees, school supplies), what have you noticed in terms of their prices?',\n",
       "       '20. Over the past few months when Paying for Recreation (social activities, going out, movies, travelling, sports), what have you noticed in terms of their prices?',\n",
       "       '20. Over the past few months when shopping for Communication (Airtime, Mobile data and internet costs), what have you noticed in terms of their prices?',\n",
       "       '21. How concerned are you about the rising prices?',\n",
       "       '22. Rating 1-4 Where 1 is no impact and 4 is A lot of impact. How are the rising prices negatively impacting your ability to meet my day to day expenses (food, transport, airtime)',\n",
       "       '22. Rating 1-4 Where 1 is no impact and 4 is A lot of impact. How are the rising prices negatively impacting your ability to make discretionary spending (furniture, car, travel)',\n",
       "       '22. Rating 1-4 Where 1 is no impact and 4 is A lot of impact. How are the rising prices negatively impacting your ability to find an affordable housing',\n",
       "       '22. Rating 1-4 Where 1 is no impact and 4 is A lot of impact. How are the rising prices negatively impacting your ability to invest, save for my retirement',\n",
       "       '22. Rating 1-4 Where 1 is no impact and 4 is A lot of impact. How are the rising prices negatively impacting your ability to get healthcare (doctors, exams, medications, etc)',\n",
       "       '22. Rating 1-4 Where 1 is no impact and 4 is A lot of impact. How are the rising prices negatively impacting your ability to get organic food to eat and/or healthier meals',\n",
       "       '23. In the past few months, what have you started doing, or done more than before, to deal with the rising prices?',\n",
       "       '24. Over the past few months have you had to borrow money to meet your day-to-day expenses due to the rising prices?',\n",
       "       '25. What do you believe is the main reason that is causing the increase in food and fuel prices?',\n",
       "       '26. Thinking about the amount of stress in your life as a result of rising prices and financial issues How would you describe most of your days recently?',\n",
       "       '27. In your opinion, what do you think is the best way to combat the increase in prices in Africa',\n",
       "       '28. Which of the following things are you currently doing to help you curb/contain inflation?',\n",
       "       '29. Compared to a year ago, How have your eating habits changed because of the rising food prices?',\n",
       "       '30. Compared to a year ago, How have your eating habits for meat and milk changed because of the rising food prices?',\n",
       "       '31. Which of the following types of alcoholic beverages have you drunk in the past 3 months?',\n",
       "       '32. Which ONE Alcohol category do you currently drink more often than any of the other types of alcohol?'],\n",
       "      dtype='object')"
      ]
     },
     "execution_count": 34,
     "metadata": {},
     "output_type": "execute_result"
    }
   ],
   "source": [
    "df.columns"
   ]
  },
  {
   "cell_type": "markdown",
   "id": "221931e8",
   "metadata": {},
   "source": [
    "Since the columns are each very long research questions, we need to shorten them to ease analysis"
   ]
  },
  {
   "cell_type": "code",
   "execution_count": 35,
   "id": "64d6ddbd",
   "metadata": {},
   "outputs": [],
   "source": [
    "column_mapping = {\n",
    "'Serial-No': 'Serial_No',\n",
    " 'Period': 'Period',\n",
    " 'Period.Year': 'Period.Year',\n",
    " 'Period.Quarter': 'Period.Quarter',\n",
    " 'Period.Month': 'Period.Month',\n",
    " 'Period.Day': 'Period.Day',\n",
    " '2. Has it become more difficult or easier to find a job in your city?': 'Job_Market_Difficulty',\n",
    " '3. Is this a good time for people to make a large purchase such as furniture or electrical appliances, given the economic climate?': 'Good_Time_For_Large_Purchase',\n",
    " '4. Compared to the last 6 months, are you able to spend (more, the same or less) money on large purchases (furniture, electrical appliances) over the next 6 months?': 'Future_Spend_On_Large_Purchases',\n",
    " '5. Will you be able to meet your regular expenses over the next 6 months?': 'Able_To_Meet_Regular_Expenses',\n",
    " \"6. How do you expect your household's income to change over the next 6 months?\": 'Expected_Income_Change',\n",
    " '7. How do you expect general economic conditions in your city to change over the next 6 months?': 'Expected_Economic_Change_City',\n",
    " '8. How do you expect general economic conditions in your country to change over the next 6 months?' : 'Expected_Economic_Change_Country',\n",
    " '8a.Compared to the last 6 months, has it become more difficult or easier to make money in your city?': 'Earning_Difficulty',\n",
    " '8b. Do you think your country is heading in the right direction or the wrong direction?': 'Country_Direction_Thoughts',\n",
    " '8c. How many meals do you take a day?': 'Meals_Per_Day',\n",
    " '9. Gender': 'Gender',\n",
    " '10. Marital status': 'Marital_Status',\n",
    " '11. Age': 'Age',\n",
    " '11b. Age-group': 'Age_Group',\n",
    " '12. What\\'s your highest level of education?': 'Highest_Education_Level',\n",
    " '13. Occupation': 'Occupation',\n",
    " '14. Which population group do you identify with?': 'Population_Group',\n",
    " '15. Do you have any children under the age of 18 years living in your home?' : 'Children_Under_18',\n",
    " '16. What is the size of your household (number of people in the family)?': 'Household_Size',\n",
    " \"18. What would you say is the COMBINED TOTAL amount of money that everyone in the household earns on an average month after tax.? This includes everyone's salaries and income from their businesses?\": 'Total_Household_Income',\n",
    " 'Income Level': 'Income_Level',\n",
    " '19. Now, thinking about the things that are constantly worrying you and your community lately What would you say are the top three issues that you are most concerned about?': 'Top_3_Concerns',\n",
    " '20. Over the past few months when shopping for Food & Beverages (groceries, take-out, etc), what have you noticed in terms of their prices?': 'Food_Beverages_Prices_Change',\n",
    " '20. Over the past few months when shopping for Utilities (Water, Electricity, Gas, etc), what have you noticed in terms of their prices?': 'Utilities_Prices_Change',\n",
    " '20. Over the past few months when shopping for Household furniture & appliances (Beds, Fridge etc), what have you noticed in terms of their prices?': 'Furniture_Appliances_Prices_Change',\n",
    " '20. Over the past few months when shopping for Alcoholic Beverages, what have you noticed in terms of their prices?': 'Alcoholics_Prices_Change',\n",
    " '20. Over the past few months when paying for Housing/Rent, what have you noticed in terms of their prices?': 'Housing_Rent_Prices_Change',\n",
    " '20. Over the past few months when paying for Transportation (Bus fare, Fuel etc), what have you noticed in terms of their prices?': 'Transportation_Prices_Change',\n",
    " '20. Over the past few months when shopping for Clothing & Shoes, what have you noticed in terms of their prices?': 'Clothing_Shoes_Prices_Change',\n",
    " '20. Over the past few months when Paying for Education (School fees, school supplies), what have you noticed in terms of their prices?': 'Education_Prices_Change',\n",
    " '20. Over the past few months when Paying for Recreation (social activities, going out, movies, travelling, sports), what have you noticed in terms of their prices?': 'Recreation_Prices_Change',\n",
    " '20. Over the past few months when shopping for Communication (Airtime, Mobile data and internet costs), what have you noticed in terms of their prices?': 'Communication_Prices_Change',\n",
    " '21. How concerned are you about the rising prices?': 'Concern_About_Rising_Prices',\n",
    " '22. Rating 1-4 Where 1 is no impact and 4 is A lot of impact. How are the rising prices negatively impacting your ability to meet my day to day expenses (food, transport, airtime)': 'Rising_Prices_Impact_Day_To_Day_Expenses',\n",
    " '22. Rating 1-4 Where 1 is no impact and 4 is A lot of impact. How are the rising prices negatively impacting your ability to make discretionary spending (furniture, car, travel)': 'Rising_Prices_Impact_Discretionary_Spending',\n",
    " '22. Rating 1-4 Where 1 is no impact and 4 is A lot of impact. How are the rising prices negatively impacting your ability to find an affordable housing': 'Rising_Prices_Impact_Affordable_Housing',\n",
    " '22. Rating 1-4 Where 1 is no impact and 4 is A lot of impact. How are the rising prices negatively impacting your ability to invest, save for my retirement': 'Rising_Prices_Impact_Invest_Retirement',\n",
    " '22. Rating 1-4 Where 1 is no impact and 4 is A lot of impact. How are the rising prices negatively impacting your ability to get healthcare (doctors, exams, medications, etc)': 'Rising_Prices_Impact_Healthcare',\n",
    " '22. Rating 1-4 Where 1 is no impact and 4 is A lot of impact. How are the rising prices negatively impacting your ability to get organic food to eat and/or healthier meals': 'Rising_Prices_Impact_Organic_Food',\n",
    " '22. Rating 1-4 Where 1 is no impact and 4 is A lot of impact. How are the rising prices negatively impacting your ability to get education for yourself or your children': 'Rising_Prices_Impact_Education',\n",
    " '23. In the past few months, what have you started doing, or done more than before, to deal with the rising prices?': 'Dealing_With_Rising_Prices',\n",
    " '24. Over the past few months have you had to borrow money to meet your day-to-day expenses due to the rising prices?': 'Borrowed_Money_For_Rising_Prices',\n",
    " '25. What do you believe is the main reason that is causing the increase in food and fuel prices?': 'Reason_For_Price_Increase',\n",
    " '26. Thinking about the amount of stress in your life as a result of rising prices and financial issues How would you describe most of your days recently?': 'Stress_Level',\n",
    " '27. In your opinion, what do you think is the best way to combat the increase in prices in Africa': 'Combat_Price_Increase',\n",
    " '28. Which of the following things are you currently doing to help you curb/contain inflation?': 'Curb_Inflation_Methods',\n",
    " '29. Compared to a year ago, How have your eating habits changed because of the rising food prices?': 'Eating_Habits_Change',\n",
    " '30. Compared to a year ago, How have your eating habits for meat and milk changed because of the rising food prices?': 'Meat_Milk_Habits_Change',\n",
    " '31. Which of the following types of alcoholic beverages have you drunk in the past 3 months?': 'Alcohol_Types_Drunk',\n",
    " '32. Which ONE Alcohol category do you currently drink more often than any of the other types of alcohol?': 'Alcohol_Category_Most_Drunk',\n",
    "}"
   ]
  },
  {
   "cell_type": "code",
   "execution_count": 36,
   "id": "dae1422c",
   "metadata": {},
   "outputs": [
    {
     "data": {
      "text/plain": [
       "['Serial_No',\n",
       " 'Period',\n",
       " 'Period.Year',\n",
       " 'Period.Quarter',\n",
       " 'Period.Month',\n",
       " 'Period.Day',\n",
       " 'Job_Market_Difficulty',\n",
       " 'Good_Time_For_Large_Purchase',\n",
       " 'Future_Spend_On_Large_Purchases',\n",
       " 'Able_To_Meet_Regular_Expenses',\n",
       " 'Expected_Income_Change',\n",
       " 'Expected_Economic_Change_City',\n",
       " 'Expected_Economic_Change_Country',\n",
       " 'Earning_Difficulty',\n",
       " 'Country_Direction_Thoughts',\n",
       " 'Meals_Per_Day',\n",
       " 'Gender',\n",
       " 'Marital_Status',\n",
       " 'Age',\n",
       " 'Age_Group',\n",
       " 'Highest_Education_Level',\n",
       " 'Occupation',\n",
       " 'Population_Group',\n",
       " 'Children_Under_18',\n",
       " 'Household_Size',\n",
       " 'Total_Household_Income',\n",
       " 'Income_Level',\n",
       " 'Top_3_Concerns',\n",
       " 'Food_Beverages_Prices_Change',\n",
       " 'Utilities_Prices_Change',\n",
       " 'Furniture_Appliances_Prices_Change',\n",
       " 'Alcoholics_Prices_Change',\n",
       " 'Housing_Rent_Prices_Change',\n",
       " 'Transportation_Prices_Change',\n",
       " 'Clothing_Shoes_Prices_Change',\n",
       " 'Education_Prices_Change',\n",
       " 'Recreation_Prices_Change',\n",
       " 'Communication_Prices_Change',\n",
       " 'Concern_About_Rising_Prices',\n",
       " 'Rising_Prices_Impact_Day_To_Day_Expenses',\n",
       " 'Rising_Prices_Impact_Discretionary_Spending',\n",
       " 'Rising_Prices_Impact_Affordable_Housing',\n",
       " 'Rising_Prices_Impact_Invest_Retirement',\n",
       " 'Rising_Prices_Impact_Healthcare',\n",
       " 'Rising_Prices_Impact_Organic_Food',\n",
       " 'Dealing_With_Rising_Prices',\n",
       " 'Borrowed_Money_For_Rising_Prices',\n",
       " 'Reason_For_Price_Increase',\n",
       " 'Stress_Level',\n",
       " 'Combat_Price_Increase',\n",
       " 'Curb_Inflation_Methods',\n",
       " 'Eating_Habits_Change',\n",
       " 'Meat_Milk_Habits_Change',\n",
       " 'Alcohol_Types_Drunk',\n",
       " 'Alcohol_Category_Most_Drunk']"
      ]
     },
     "execution_count": 36,
     "metadata": {},
     "output_type": "execute_result"
    }
   ],
   "source": [
    "df = df.rename(columns=column_mapping)\n",
    "df.columns.tolist()"
   ]
  },
  {
   "cell_type": "markdown",
   "id": "fb14596c",
   "metadata": {},
   "source": [
    "### 5. Handling duplicates"
   ]
  },
  {
   "cell_type": "code",
   "execution_count": 37,
   "id": "3e481742",
   "metadata": {},
   "outputs": [
    {
     "name": "stdout",
     "output_type": "stream",
     "text": [
      "0\n"
     ]
    }
   ],
   "source": [
    "print(df.duplicated().sum())"
   ]
  },
  {
   "cell_type": "markdown",
   "id": "3584b492",
   "metadata": {},
   "source": [
    "Dataset has no duplicates"
   ]
  },
  {
   "cell_type": "markdown",
   "id": "81a072f4",
   "metadata": {},
   "source": [
    "### 6. Handling missing figures"
   ]
  },
  {
   "cell_type": "code",
   "execution_count": 38,
   "id": "ac9a8b7e",
   "metadata": {},
   "outputs": [
    {
     "name": "stdout",
     "output_type": "stream",
     "text": [
      "Index(['Country_Direction_Thoughts', 'Meals_Per_Day', 'Household_Size',\n",
      "       'Combat_Price_Increase', 'Eating_Habits_Change',\n",
      "       'Meat_Milk_Habits_Change', 'Alcohol_Types_Drunk',\n",
      "       'Alcohol_Category_Most_Drunk'],\n",
      "      dtype='object')\n"
     ]
    }
   ],
   "source": [
    "print(df.columns[df.isnull().any()])"
   ]
  },
  {
   "cell_type": "markdown",
   "id": "b4e20237",
   "metadata": {},
   "source": [
    "There are 8 columns that contain a missing value. Next step is to determine how much data is missing in each thus determine next course of action"
   ]
  },
  {
   "cell_type": "code",
   "execution_count": 39,
   "id": "81ed63fa",
   "metadata": {},
   "outputs": [
    {
     "data": {
      "application/vnd.microsoft.datawrangler.viewer.v0+json": {
       "columns": [
        {
         "name": "index",
         "rawType": "object",
         "type": "string"
        },
        {
         "name": "Missing Values",
         "rawType": "int64",
         "type": "integer"
        },
        {
         "name": "Percentage Missing",
         "rawType": "float64",
         "type": "float"
        }
       ],
       "ref": "5c8b8ed8-3595-49a9-8fee-cdcbbe852e42",
       "rows": [
        [
         "Combat_Price_Increase",
         "1",
         "0.03"
        ],
        [
         "Household_Size",
         "470",
         "11.95"
        ],
        [
         "Meat_Milk_Habits_Change",
         "972",
         "24.71"
        ],
        [
         "Eating_Habits_Change",
         "972",
         "24.71"
        ],
        [
         "Alcohol_Types_Drunk",
         "2187",
         "55.59"
        ],
        [
         "Alcohol_Category_Most_Drunk",
         "2194",
         "55.77"
        ],
        [
         "Country_Direction_Thoughts",
         "2477",
         "62.96"
        ],
        [
         "Meals_Per_Day",
         "3444",
         "87.54"
        ]
       ],
       "shape": {
        "columns": 2,
        "rows": 8
       }
      },
      "text/html": [
       "<div>\n",
       "<style scoped>\n",
       "    .dataframe tbody tr th:only-of-type {\n",
       "        vertical-align: middle;\n",
       "    }\n",
       "\n",
       "    .dataframe tbody tr th {\n",
       "        vertical-align: top;\n",
       "    }\n",
       "\n",
       "    .dataframe thead th {\n",
       "        text-align: right;\n",
       "    }\n",
       "</style>\n",
       "<table border=\"1\" class=\"dataframe\">\n",
       "  <thead>\n",
       "    <tr style=\"text-align: right;\">\n",
       "      <th></th>\n",
       "      <th>Missing Values</th>\n",
       "      <th>Percentage Missing</th>\n",
       "    </tr>\n",
       "  </thead>\n",
       "  <tbody>\n",
       "    <tr>\n",
       "      <th>Combat_Price_Increase</th>\n",
       "      <td>1</td>\n",
       "      <td>0.03</td>\n",
       "    </tr>\n",
       "    <tr>\n",
       "      <th>Household_Size</th>\n",
       "      <td>470</td>\n",
       "      <td>11.95</td>\n",
       "    </tr>\n",
       "    <tr>\n",
       "      <th>Meat_Milk_Habits_Change</th>\n",
       "      <td>972</td>\n",
       "      <td>24.71</td>\n",
       "    </tr>\n",
       "    <tr>\n",
       "      <th>Eating_Habits_Change</th>\n",
       "      <td>972</td>\n",
       "      <td>24.71</td>\n",
       "    </tr>\n",
       "    <tr>\n",
       "      <th>Alcohol_Types_Drunk</th>\n",
       "      <td>2187</td>\n",
       "      <td>55.59</td>\n",
       "    </tr>\n",
       "    <tr>\n",
       "      <th>Alcohol_Category_Most_Drunk</th>\n",
       "      <td>2194</td>\n",
       "      <td>55.77</td>\n",
       "    </tr>\n",
       "    <tr>\n",
       "      <th>Country_Direction_Thoughts</th>\n",
       "      <td>2477</td>\n",
       "      <td>62.96</td>\n",
       "    </tr>\n",
       "    <tr>\n",
       "      <th>Meals_Per_Day</th>\n",
       "      <td>3444</td>\n",
       "      <td>87.54</td>\n",
       "    </tr>\n",
       "  </tbody>\n",
       "</table>\n",
       "</div>"
      ],
      "text/plain": [
       "                             Missing Values  Percentage Missing\n",
       "Combat_Price_Increase                     1                0.03\n",
       "Household_Size                          470               11.95\n",
       "Meat_Milk_Habits_Change                 972               24.71\n",
       "Eating_Habits_Change                    972               24.71\n",
       "Alcohol_Types_Drunk                    2187               55.59\n",
       "Alcohol_Category_Most_Drunk            2194               55.77\n",
       "Country_Direction_Thoughts             2477               62.96\n",
       "Meals_Per_Day                          3444               87.54"
      ]
     },
     "execution_count": 39,
     "metadata": {},
     "output_type": "execute_result"
    }
   ],
   "source": [
    "missing_val_per_column = df.isnull().sum()\n",
    "percentage_missing = ((missing_val_per_column / len(df)) * 100).round(2)\n",
    "missing_data = pd.DataFrame({'Missing Values': missing_val_per_column[missing_val_per_column > 0], 'Percentage Missing': percentage_missing[missing_val_per_column > 0]}).sort_values(by='Percentage Missing', ascending=True)\n",
    "\n",
    "missing_data"
   ]
  },
  {
   "cell_type": "markdown",
   "id": "1751dcc9",
   "metadata": {},
   "source": [
    "Seeing the varying anmount of missing data, for each case we decided to use different ways to hadle each."
   ]
  },
  {
   "cell_type": "markdown",
   "id": "c4819131",
   "metadata": {},
   "source": [
    "1. **Country_Direction_Thoughts && Meals_Per_Day** - as it is missing more that 60% and is not going to be used later on, we have decided to drop them.\n",
    "2. **Household_Size** - as it has a low missing count, we will fill with \"Not Specified\" as it is categorical but not important enough to perform model based imputation for.\n",
    "3. **Combat_Price_Increase** - only one row is missing so it will be filled with the mode.\n",
    "4. **Remaining** - as they have a moderate-high missing count, I will introduce a new category \"Not Provided\". _Eating_Habits_Change_, _Meat_Milk_Habits_Change_, _Alcohol_Types_Drunk_ come in with multiple responses thus a modal imputation would not represent well. For Alcohol_Category_Most_Drunk, since we are not taking the data from _Alcohol_Types_Drunk_, I decided to also fill them with a new category."
   ]
  },
  {
   "cell_type": "code",
   "execution_count": 40,
   "id": "3342216d",
   "metadata": {},
   "outputs": [],
   "source": [
    "# Dropping columns with more than 60% missing values\n",
    "df.drop(columns=['Country_Direction_Thoughts', 'Meals_Per_Day'], axis=1, inplace=True)\n",
    "\n",
    "# Fill in missing value for Combat Price Increase with mode\n",
    "df['Combat_Price_Increase'] = df['Combat_Price_Increase'].fillna(df['Combat_Price_Increase'].mode()[0])\n",
    "\n",
    "# Converting to category and adding a new category 'Not Specified' then back to object datatype\n",
    "df['Household_Size'] = df['Household_Size'].astype('category')\n",
    "df['Household_Size'] = df['Household_Size'].cat.add_categories(\"Not Specified\")\n",
    "df['Household_Size'] = df['Household_Size'].astype('object') \n",
    "\n",
    "# Filling in remaining rows with missing values with 'Not Provided'\n",
    "df.fillna('Not Provided', inplace=True)"
   ]
  },
  {
   "cell_type": "markdown",
   "id": "297a6644",
   "metadata": {},
   "source": [
    "### 7. Handling inconsistencies"
   ]
  },
  {
   "cell_type": "code",
   "execution_count": 41,
   "id": "adb14c31",
   "metadata": {},
   "outputs": [
    {
     "data": {
      "application/vnd.microsoft.datawrangler.viewer.v0+json": {
       "columns": [
        {
         "name": "index",
         "rawType": "object",
         "type": "string"
        },
        {
         "name": "0",
         "rawType": "object",
         "type": "unknown"
        }
       ],
       "ref": "f682fe18-3425-4cff-87e4-c834677e668e",
       "rows": [
        [
         "Serial_No",
         "object"
        ],
        [
         "Period",
         "object"
        ],
        [
         "Period.Year",
         "int64"
        ],
        [
         "Period.Quarter",
         "int64"
        ],
        [
         "Period.Month",
         "int64"
        ],
        [
         "Period.Day",
         "int64"
        ],
        [
         "Job_Market_Difficulty",
         "object"
        ],
        [
         "Good_Time_For_Large_Purchase",
         "object"
        ],
        [
         "Future_Spend_On_Large_Purchases",
         "object"
        ],
        [
         "Able_To_Meet_Regular_Expenses",
         "object"
        ],
        [
         "Expected_Income_Change",
         "object"
        ],
        [
         "Expected_Economic_Change_City",
         "object"
        ],
        [
         "Expected_Economic_Change_Country",
         "object"
        ],
        [
         "Earning_Difficulty",
         "object"
        ],
        [
         "Gender",
         "object"
        ],
        [
         "Marital_Status",
         "object"
        ],
        [
         "Age",
         "object"
        ],
        [
         "Age_Group",
         "object"
        ],
        [
         "Highest_Education_Level",
         "object"
        ],
        [
         "Occupation",
         "object"
        ],
        [
         "Population_Group",
         "object"
        ],
        [
         "Children_Under_18",
         "object"
        ],
        [
         "Household_Size",
         "object"
        ],
        [
         "Total_Household_Income",
         "object"
        ],
        [
         "Income_Level",
         "object"
        ],
        [
         "Top_3_Concerns",
         "object"
        ],
        [
         "Food_Beverages_Prices_Change",
         "object"
        ],
        [
         "Utilities_Prices_Change",
         "object"
        ],
        [
         "Furniture_Appliances_Prices_Change",
         "object"
        ],
        [
         "Alcoholics_Prices_Change",
         "object"
        ],
        [
         "Housing_Rent_Prices_Change",
         "object"
        ],
        [
         "Transportation_Prices_Change",
         "object"
        ],
        [
         "Clothing_Shoes_Prices_Change",
         "object"
        ],
        [
         "Education_Prices_Change",
         "object"
        ],
        [
         "Recreation_Prices_Change",
         "object"
        ],
        [
         "Communication_Prices_Change",
         "object"
        ],
        [
         "Concern_About_Rising_Prices",
         "object"
        ],
        [
         "Rising_Prices_Impact_Day_To_Day_Expenses",
         "object"
        ],
        [
         "Rising_Prices_Impact_Discretionary_Spending",
         "object"
        ],
        [
         "Rising_Prices_Impact_Affordable_Housing",
         "object"
        ],
        [
         "Rising_Prices_Impact_Invest_Retirement",
         "object"
        ],
        [
         "Rising_Prices_Impact_Healthcare",
         "object"
        ],
        [
         "Rising_Prices_Impact_Organic_Food",
         "object"
        ],
        [
         "Dealing_With_Rising_Prices",
         "object"
        ],
        [
         "Borrowed_Money_For_Rising_Prices",
         "object"
        ],
        [
         "Reason_For_Price_Increase",
         "object"
        ],
        [
         "Stress_Level",
         "object"
        ],
        [
         "Combat_Price_Increase",
         "object"
        ],
        [
         "Curb_Inflation_Methods",
         "object"
        ],
        [
         "Eating_Habits_Change",
         "object"
        ]
       ],
       "shape": {
        "columns": 1,
        "rows": 53
       }
      },
      "text/plain": [
       "Serial_No                                      object\n",
       "Period                                         object\n",
       "Period.Year                                     int64\n",
       "Period.Quarter                                  int64\n",
       "Period.Month                                    int64\n",
       "Period.Day                                      int64\n",
       "Job_Market_Difficulty                          object\n",
       "Good_Time_For_Large_Purchase                   object\n",
       "Future_Spend_On_Large_Purchases                object\n",
       "Able_To_Meet_Regular_Expenses                  object\n",
       "Expected_Income_Change                         object\n",
       "Expected_Economic_Change_City                  object\n",
       "Expected_Economic_Change_Country               object\n",
       "Earning_Difficulty                             object\n",
       "Gender                                         object\n",
       "Marital_Status                                 object\n",
       "Age                                            object\n",
       "Age_Group                                      object\n",
       "Highest_Education_Level                        object\n",
       "Occupation                                     object\n",
       "Population_Group                               object\n",
       "Children_Under_18                              object\n",
       "Household_Size                                 object\n",
       "Total_Household_Income                         object\n",
       "Income_Level                                   object\n",
       "Top_3_Concerns                                 object\n",
       "Food_Beverages_Prices_Change                   object\n",
       "Utilities_Prices_Change                        object\n",
       "Furniture_Appliances_Prices_Change             object\n",
       "Alcoholics_Prices_Change                       object\n",
       "Housing_Rent_Prices_Change                     object\n",
       "Transportation_Prices_Change                   object\n",
       "Clothing_Shoes_Prices_Change                   object\n",
       "Education_Prices_Change                        object\n",
       "Recreation_Prices_Change                       object\n",
       "Communication_Prices_Change                    object\n",
       "Concern_About_Rising_Prices                    object\n",
       "Rising_Prices_Impact_Day_To_Day_Expenses       object\n",
       "Rising_Prices_Impact_Discretionary_Spending    object\n",
       "Rising_Prices_Impact_Affordable_Housing        object\n",
       "Rising_Prices_Impact_Invest_Retirement         object\n",
       "Rising_Prices_Impact_Healthcare                object\n",
       "Rising_Prices_Impact_Organic_Food              object\n",
       "Dealing_With_Rising_Prices                     object\n",
       "Borrowed_Money_For_Rising_Prices               object\n",
       "Reason_For_Price_Increase                      object\n",
       "Stress_Level                                   object\n",
       "Combat_Price_Increase                          object\n",
       "Curb_Inflation_Methods                         object\n",
       "Eating_Habits_Change                           object\n",
       "Meat_Milk_Habits_Change                        object\n",
       "Alcohol_Types_Drunk                            object\n",
       "Alcohol_Category_Most_Drunk                    object\n",
       "dtype: object"
      ]
     },
     "execution_count": 41,
     "metadata": {},
     "output_type": "execute_result"
    }
   ],
   "source": [
    "df.dtypes"
   ]
  },
  {
   "cell_type": "markdown",
   "id": "fb4f94c4",
   "metadata": {},
   "source": [
    "- The following require attention:\n",
    "    - Period (object) -> (datetime)"
   ]
  },
  {
   "cell_type": "code",
   "execution_count": 42,
   "id": "134e8228",
   "metadata": {},
   "outputs": [],
   "source": [
    "df['Period'] = pd.to_datetime(df['Period'], format='%Y-%m-%d')"
   ]
  },
  {
   "cell_type": "markdown",
   "id": "56ad0748",
   "metadata": {},
   "source": [
    "## Exploratory Data Analysis (EDA)"
   ]
  },
  {
   "cell_type": "markdown",
   "id": "f54a2b34",
   "metadata": {},
   "source": [
    "### 1. Numerical Columns"
   ]
  },
  {
   "cell_type": "code",
   "execution_count": 43,
   "id": "8caa4e74",
   "metadata": {},
   "outputs": [
    {
     "data": {
      "application/vnd.microsoft.datawrangler.viewer.v0+json": {
       "columns": [
        {
         "name": "index",
         "rawType": "object",
         "type": "string"
        },
        {
         "name": "Period",
         "rawType": "object",
         "type": "unknown"
        },
        {
         "name": "Period.Year",
         "rawType": "float64",
         "type": "float"
        },
        {
         "name": "Period.Quarter",
         "rawType": "float64",
         "type": "float"
        },
        {
         "name": "Period.Month",
         "rawType": "float64",
         "type": "float"
        },
        {
         "name": "Period.Day",
         "rawType": "float64",
         "type": "float"
        }
       ],
       "ref": "defaa1a7-6590-4220-bb06-e03f93e15aa4",
       "rows": [
        [
         "count",
         "3934",
         "3934.0",
         "3934.0",
         "3934.0",
         "3934.0"
        ],
        [
         "mean",
         "2023-09-19 20:55:30.960854016",
         "2023.1232841891206",
         "2.763091001525165",
         "7.528723945094052",
         "20.0"
        ],
        [
         "min",
         "2022-06-20 00:00:00",
         "2022.0",
         "1.0",
         "3.0",
         "20.0"
        ],
        [
         "25%",
         "2023-03-20 00:00:00",
         "2023.0",
         "2.0",
         "6.0",
         "20.0"
        ],
        [
         "50%",
         "2023-07-20 00:00:00",
         "2023.0",
         "3.0",
         "7.0",
         "20.0"
        ],
        [
         "75%",
         "2024-03-20 00:00:00",
         "2024.0",
         "4.0",
         "11.0",
         "20.0"
        ],
        [
         "max",
         "2024-12-20 00:00:00",
         "2024.0",
         "4.0",
         "12.0",
         "20.0"
        ],
        [
         "std",
         null,
         "0.7761390697879473",
         "1.1984820483825822",
         "3.317439384023132",
         "0.0"
        ]
       ],
       "shape": {
        "columns": 5,
        "rows": 8
       }
      },
      "text/html": [
       "<div>\n",
       "<style scoped>\n",
       "    .dataframe tbody tr th:only-of-type {\n",
       "        vertical-align: middle;\n",
       "    }\n",
       "\n",
       "    .dataframe tbody tr th {\n",
       "        vertical-align: top;\n",
       "    }\n",
       "\n",
       "    .dataframe thead th {\n",
       "        text-align: right;\n",
       "    }\n",
       "</style>\n",
       "<table border=\"1\" class=\"dataframe\">\n",
       "  <thead>\n",
       "    <tr style=\"text-align: right;\">\n",
       "      <th></th>\n",
       "      <th>Period</th>\n",
       "      <th>Period.Year</th>\n",
       "      <th>Period.Quarter</th>\n",
       "      <th>Period.Month</th>\n",
       "      <th>Period.Day</th>\n",
       "    </tr>\n",
       "  </thead>\n",
       "  <tbody>\n",
       "    <tr>\n",
       "      <th>count</th>\n",
       "      <td>3934</td>\n",
       "      <td>3934.000000</td>\n",
       "      <td>3934.000000</td>\n",
       "      <td>3934.000000</td>\n",
       "      <td>3934.0</td>\n",
       "    </tr>\n",
       "    <tr>\n",
       "      <th>mean</th>\n",
       "      <td>2023-09-19 20:55:30.960854016</td>\n",
       "      <td>2023.123284</td>\n",
       "      <td>2.763091</td>\n",
       "      <td>7.528724</td>\n",
       "      <td>20.0</td>\n",
       "    </tr>\n",
       "    <tr>\n",
       "      <th>min</th>\n",
       "      <td>2022-06-20 00:00:00</td>\n",
       "      <td>2022.000000</td>\n",
       "      <td>1.000000</td>\n",
       "      <td>3.000000</td>\n",
       "      <td>20.0</td>\n",
       "    </tr>\n",
       "    <tr>\n",
       "      <th>25%</th>\n",
       "      <td>2023-03-20 00:00:00</td>\n",
       "      <td>2023.000000</td>\n",
       "      <td>2.000000</td>\n",
       "      <td>6.000000</td>\n",
       "      <td>20.0</td>\n",
       "    </tr>\n",
       "    <tr>\n",
       "      <th>50%</th>\n",
       "      <td>2023-07-20 00:00:00</td>\n",
       "      <td>2023.000000</td>\n",
       "      <td>3.000000</td>\n",
       "      <td>7.000000</td>\n",
       "      <td>20.0</td>\n",
       "    </tr>\n",
       "    <tr>\n",
       "      <th>75%</th>\n",
       "      <td>2024-03-20 00:00:00</td>\n",
       "      <td>2024.000000</td>\n",
       "      <td>4.000000</td>\n",
       "      <td>11.000000</td>\n",
       "      <td>20.0</td>\n",
       "    </tr>\n",
       "    <tr>\n",
       "      <th>max</th>\n",
       "      <td>2024-12-20 00:00:00</td>\n",
       "      <td>2024.000000</td>\n",
       "      <td>4.000000</td>\n",
       "      <td>12.000000</td>\n",
       "      <td>20.0</td>\n",
       "    </tr>\n",
       "    <tr>\n",
       "      <th>std</th>\n",
       "      <td>NaN</td>\n",
       "      <td>0.776139</td>\n",
       "      <td>1.198482</td>\n",
       "      <td>3.317439</td>\n",
       "      <td>0.0</td>\n",
       "    </tr>\n",
       "  </tbody>\n",
       "</table>\n",
       "</div>"
      ],
      "text/plain": [
       "                              Period  Period.Year  Period.Quarter  \\\n",
       "count                           3934  3934.000000     3934.000000   \n",
       "mean   2023-09-19 20:55:30.960854016  2023.123284        2.763091   \n",
       "min              2022-06-20 00:00:00  2022.000000        1.000000   \n",
       "25%              2023-03-20 00:00:00  2023.000000        2.000000   \n",
       "50%              2023-07-20 00:00:00  2023.000000        3.000000   \n",
       "75%              2024-03-20 00:00:00  2024.000000        4.000000   \n",
       "max              2024-12-20 00:00:00  2024.000000        4.000000   \n",
       "std                              NaN     0.776139        1.198482   \n",
       "\n",
       "       Period.Month  Period.Day  \n",
       "count   3934.000000      3934.0  \n",
       "mean       7.528724        20.0  \n",
       "min        3.000000        20.0  \n",
       "25%        6.000000        20.0  \n",
       "50%        7.000000        20.0  \n",
       "75%       11.000000        20.0  \n",
       "max       12.000000        20.0  \n",
       "std        3.317439         0.0  "
      ]
     },
     "execution_count": 43,
     "metadata": {},
     "output_type": "execute_result"
    }
   ],
   "source": [
    "df.describe()"
   ]
  },
  {
   "cell_type": "code",
   "execution_count": 44,
   "id": "d266317b",
   "metadata": {},
   "outputs": [
    {
     "data": {
      "application/vnd.microsoft.datawrangler.viewer.v0+json": {
       "columns": [
        {
         "name": "Period.Year",
         "rawType": "int64",
         "type": "integer"
        },
        {
         "name": "count",
         "rawType": "int64",
         "type": "integer"
        }
       ],
       "ref": "642a6c10-4a97-4bab-9faf-e210a67154d5",
       "rows": [
        [
         "2023",
         "1505"
        ],
        [
         "2024",
         "1457"
        ],
        [
         "2022",
         "972"
        ]
       ],
       "shape": {
        "columns": 1,
        "rows": 3
       }
      },
      "text/plain": [
       "Period.Year\n",
       "2023    1505\n",
       "2024    1457\n",
       "2022     972\n",
       "Name: count, dtype: int64"
      ]
     },
     "execution_count": 44,
     "metadata": {},
     "output_type": "execute_result"
    }
   ],
   "source": [
    "df['Period.Year'].value_counts()"
   ]
  },
  {
   "cell_type": "code",
   "execution_count": 45,
   "id": "323399b7",
   "metadata": {},
   "outputs": [
    {
     "data": {
      "application/vnd.microsoft.datawrangler.viewer.v0+json": {
       "columns": [
        {
         "name": "Period.Quarter",
         "rawType": "int64",
         "type": "integer"
        },
        {
         "name": "count",
         "rawType": "int64",
         "type": "integer"
        }
       ],
       "ref": "36b283fe-52de-4620-b569-60ed4f03d950",
       "rows": [
        [
         "4",
         "1492"
        ],
        [
         "3",
         "995"
        ],
        [
         "1",
         "977"
        ],
        [
         "2",
         "470"
        ]
       ],
       "shape": {
        "columns": 1,
        "rows": 4
       }
      },
      "text/plain": [
       "Period.Quarter\n",
       "4    1492\n",
       "3     995\n",
       "1     977\n",
       "2     470\n",
       "Name: count, dtype: int64"
      ]
     },
     "execution_count": 45,
     "metadata": {},
     "output_type": "execute_result"
    }
   ],
   "source": [
    "df['Period.Quarter'].value_counts()    "
   ]
  },
  {
   "cell_type": "code",
   "execution_count": 46,
   "id": "51a6f600",
   "metadata": {},
   "outputs": [
    {
     "data": {
      "application/vnd.microsoft.datawrangler.viewer.v0+json": {
       "columns": [
        {
         "name": "Period.Month",
         "rawType": "int64",
         "type": "integer"
        },
        {
         "name": "count",
         "rawType": "int64",
         "type": "integer"
        }
       ],
       "ref": "09f97029-c13c-4b2d-b747-f0c6d574fa05",
       "rows": [
        [
         "11",
         "1002"
        ],
        [
         "7",
         "995"
        ],
        [
         "3",
         "977"
        ],
        [
         "12",
         "490"
        ],
        [
         "6",
         "470"
        ]
       ],
       "shape": {
        "columns": 1,
        "rows": 5
       }
      },
      "text/plain": [
       "Period.Month\n",
       "11    1002\n",
       "7      995\n",
       "3      977\n",
       "12     490\n",
       "6      470\n",
       "Name: count, dtype: int64"
      ]
     },
     "execution_count": 46,
     "metadata": {},
     "output_type": "execute_result"
    }
   ],
   "source": [
    "df['Period.Month'].value_counts() "
   ]
  },
  {
   "cell_type": "markdown",
   "id": "2f77e081",
   "metadata": {},
   "source": [
    "#### Insights on Time"
   ]
  },
  {
   "cell_type": "markdown",
   "id": "2a7a38df",
   "metadata": {},
   "source": [
    "From the information in the table above the following insights can be derived.\n",
    "\n",
    "- The study was carried out between 2022-2024\n",
    "- The study was carried out on the 20th day of every month\n",
    "- Most observations were in the year 2023 and least in 2022 -- (COVID issues possibility)\n",
    "- Observations were done in 5 months; Mar, Jun, Jul, Nov, Dev for each quarter\n",
    "- Most observations were done in the last quarter (Nov, Dec)"
   ]
  },
  {
   "cell_type": "markdown",
   "id": "8240f1f0",
   "metadata": {},
   "source": [
    "### 2. Categorical Columns"
   ]
  },
  {
   "cell_type": "markdown",
   "id": "85c8522d",
   "metadata": {},
   "source": [
    "As most of the remaining columns are categorical, we can generate frequency destributions for only those that will be used in the later hypotheses and research questions.\n",
    "\n",
    "1. Age_Group\n",
    "\n",
    "2. Gender\n",
    "\n",
    "3. Highest_Education_Level\n",
    "\n",
    "4. Population_Group\n",
    "\n",
    "5. Occupation\n",
    "\n",
    "6. Job_Market_Difficulty\n",
    "\n",
    "7. Income_Level\n",
    "\n",
    "8. Total_Household_Income\n",
    "\n",
    "9. Children_Under_18\n",
    "\n",
    "10. Household_Size"
   ]
  },
  {
   "cell_type": "markdown",
   "id": "7a36e280",
   "metadata": {},
   "source": [
    "#### Insights on Demographic Variables"
   ]
  },
  {
   "cell_type": "code",
   "execution_count": 47,
   "id": "0e555cfb",
   "metadata": {},
   "outputs": [
    {
     "data": {
      "application/vnd.plotly.v1+json": {
       "config": {
        "plotlyServerURL": "https://plot.ly"
       },
       "data": [
        {
         "type": "bar",
         "x": [
          "Millennials",
          "Gen Z",
          "Gen X",
          "Baby Boomers"
         ],
         "xaxis": "x",
         "y": {
          "bdata": "wAdFBIAC2QA=",
          "dtype": "i2"
         },
         "yaxis": "y"
        },
        {
         "type": "bar",
         "x": [
          "Male",
          "Female"
         ],
         "xaxis": "x2",
         "y": {
          "bdata": "wAdFBIAC2QA=",
          "dtype": "i2"
         },
         "yaxis": "y2"
        },
        {
         "type": "bar",
         "x": [
          "University degree",
          "Vocational training",
          "Diploma",
          "High school",
          "Studying",
          "Professional Qualification",
          "Up to Primary School"
         ],
         "xaxis": "x3",
         "y": {
          "bdata": "QgX8BPoCdgFWADoAIAA=",
          "dtype": "i2"
         },
         "yaxis": "y3"
        },
        {
         "type": "bar",
         "x": [
          "Black",
          "Mixed race",
          "White",
          "Indian or Asian"
         ],
         "xaxis": "x4",
         "y": {
          "bdata": "PA8PAAoACQA=",
          "dtype": "i2"
         },
         "yaxis": "y4"
        }
       ],
       "layout": {
        "annotations": [
         {
          "font": {
           "size": 16
          },
          "showarrow": false,
          "text": "Age Group Distribution",
          "x": 0.225,
          "xanchor": "center",
          "xref": "paper",
          "y": 1,
          "yanchor": "bottom",
          "yref": "paper"
         },
         {
          "font": {
           "size": 16
          },
          "showarrow": false,
          "text": "Gender Distribution",
          "x": 0.775,
          "xanchor": "center",
          "xref": "paper",
          "y": 1,
          "yanchor": "bottom",
          "yref": "paper"
         },
         {
          "font": {
           "size": 16
          },
          "showarrow": false,
          "text": "Education Level Distribution",
          "x": 0.225,
          "xanchor": "center",
          "xref": "paper",
          "y": 0.375,
          "yanchor": "bottom",
          "yref": "paper"
         },
         {
          "font": {
           "size": 16
          },
          "showarrow": false,
          "text": "Population Group Distribution",
          "x": 0.775,
          "xanchor": "center",
          "xref": "paper",
          "y": 0.375,
          "yanchor": "bottom",
          "yref": "paper"
         }
        ],
        "height": 800,
        "showlegend": false,
        "template": {
         "data": {
          "bar": [
           {
            "error_x": {
             "color": "#2a3f5f"
            },
            "error_y": {
             "color": "#2a3f5f"
            },
            "marker": {
             "line": {
              "color": "#E5ECF6",
              "width": 0.5
             },
             "pattern": {
              "fillmode": "overlay",
              "size": 10,
              "solidity": 0.2
             }
            },
            "type": "bar"
           }
          ],
          "barpolar": [
           {
            "marker": {
             "line": {
              "color": "#E5ECF6",
              "width": 0.5
             },
             "pattern": {
              "fillmode": "overlay",
              "size": 10,
              "solidity": 0.2
             }
            },
            "type": "barpolar"
           }
          ],
          "carpet": [
           {
            "aaxis": {
             "endlinecolor": "#2a3f5f",
             "gridcolor": "white",
             "linecolor": "white",
             "minorgridcolor": "white",
             "startlinecolor": "#2a3f5f"
            },
            "baxis": {
             "endlinecolor": "#2a3f5f",
             "gridcolor": "white",
             "linecolor": "white",
             "minorgridcolor": "white",
             "startlinecolor": "#2a3f5f"
            },
            "type": "carpet"
           }
          ],
          "choropleth": [
           {
            "colorbar": {
             "outlinewidth": 0,
             "ticks": ""
            },
            "type": "choropleth"
           }
          ],
          "contour": [
           {
            "colorbar": {
             "outlinewidth": 0,
             "ticks": ""
            },
            "colorscale": [
             [
              0,
              "#0d0887"
             ],
             [
              0.1111111111111111,
              "#46039f"
             ],
             [
              0.2222222222222222,
              "#7201a8"
             ],
             [
              0.3333333333333333,
              "#9c179e"
             ],
             [
              0.4444444444444444,
              "#bd3786"
             ],
             [
              0.5555555555555556,
              "#d8576b"
             ],
             [
              0.6666666666666666,
              "#ed7953"
             ],
             [
              0.7777777777777778,
              "#fb9f3a"
             ],
             [
              0.8888888888888888,
              "#fdca26"
             ],
             [
              1,
              "#f0f921"
             ]
            ],
            "type": "contour"
           }
          ],
          "contourcarpet": [
           {
            "colorbar": {
             "outlinewidth": 0,
             "ticks": ""
            },
            "type": "contourcarpet"
           }
          ],
          "heatmap": [
           {
            "colorbar": {
             "outlinewidth": 0,
             "ticks": ""
            },
            "colorscale": [
             [
              0,
              "#0d0887"
             ],
             [
              0.1111111111111111,
              "#46039f"
             ],
             [
              0.2222222222222222,
              "#7201a8"
             ],
             [
              0.3333333333333333,
              "#9c179e"
             ],
             [
              0.4444444444444444,
              "#bd3786"
             ],
             [
              0.5555555555555556,
              "#d8576b"
             ],
             [
              0.6666666666666666,
              "#ed7953"
             ],
             [
              0.7777777777777778,
              "#fb9f3a"
             ],
             [
              0.8888888888888888,
              "#fdca26"
             ],
             [
              1,
              "#f0f921"
             ]
            ],
            "type": "heatmap"
           }
          ],
          "histogram": [
           {
            "marker": {
             "pattern": {
              "fillmode": "overlay",
              "size": 10,
              "solidity": 0.2
             }
            },
            "type": "histogram"
           }
          ],
          "histogram2d": [
           {
            "colorbar": {
             "outlinewidth": 0,
             "ticks": ""
            },
            "colorscale": [
             [
              0,
              "#0d0887"
             ],
             [
              0.1111111111111111,
              "#46039f"
             ],
             [
              0.2222222222222222,
              "#7201a8"
             ],
             [
              0.3333333333333333,
              "#9c179e"
             ],
             [
              0.4444444444444444,
              "#bd3786"
             ],
             [
              0.5555555555555556,
              "#d8576b"
             ],
             [
              0.6666666666666666,
              "#ed7953"
             ],
             [
              0.7777777777777778,
              "#fb9f3a"
             ],
             [
              0.8888888888888888,
              "#fdca26"
             ],
             [
              1,
              "#f0f921"
             ]
            ],
            "type": "histogram2d"
           }
          ],
          "histogram2dcontour": [
           {
            "colorbar": {
             "outlinewidth": 0,
             "ticks": ""
            },
            "colorscale": [
             [
              0,
              "#0d0887"
             ],
             [
              0.1111111111111111,
              "#46039f"
             ],
             [
              0.2222222222222222,
              "#7201a8"
             ],
             [
              0.3333333333333333,
              "#9c179e"
             ],
             [
              0.4444444444444444,
              "#bd3786"
             ],
             [
              0.5555555555555556,
              "#d8576b"
             ],
             [
              0.6666666666666666,
              "#ed7953"
             ],
             [
              0.7777777777777778,
              "#fb9f3a"
             ],
             [
              0.8888888888888888,
              "#fdca26"
             ],
             [
              1,
              "#f0f921"
             ]
            ],
            "type": "histogram2dcontour"
           }
          ],
          "mesh3d": [
           {
            "colorbar": {
             "outlinewidth": 0,
             "ticks": ""
            },
            "type": "mesh3d"
           }
          ],
          "parcoords": [
           {
            "line": {
             "colorbar": {
              "outlinewidth": 0,
              "ticks": ""
             }
            },
            "type": "parcoords"
           }
          ],
          "pie": [
           {
            "automargin": true,
            "type": "pie"
           }
          ],
          "scatter": [
           {
            "fillpattern": {
             "fillmode": "overlay",
             "size": 10,
             "solidity": 0.2
            },
            "type": "scatter"
           }
          ],
          "scatter3d": [
           {
            "line": {
             "colorbar": {
              "outlinewidth": 0,
              "ticks": ""
             }
            },
            "marker": {
             "colorbar": {
              "outlinewidth": 0,
              "ticks": ""
             }
            },
            "type": "scatter3d"
           }
          ],
          "scattercarpet": [
           {
            "marker": {
             "colorbar": {
              "outlinewidth": 0,
              "ticks": ""
             }
            },
            "type": "scattercarpet"
           }
          ],
          "scattergeo": [
           {
            "marker": {
             "colorbar": {
              "outlinewidth": 0,
              "ticks": ""
             }
            },
            "type": "scattergeo"
           }
          ],
          "scattergl": [
           {
            "marker": {
             "colorbar": {
              "outlinewidth": 0,
              "ticks": ""
             }
            },
            "type": "scattergl"
           }
          ],
          "scattermap": [
           {
            "marker": {
             "colorbar": {
              "outlinewidth": 0,
              "ticks": ""
             }
            },
            "type": "scattermap"
           }
          ],
          "scattermapbox": [
           {
            "marker": {
             "colorbar": {
              "outlinewidth": 0,
              "ticks": ""
             }
            },
            "type": "scattermapbox"
           }
          ],
          "scatterpolar": [
           {
            "marker": {
             "colorbar": {
              "outlinewidth": 0,
              "ticks": ""
             }
            },
            "type": "scatterpolar"
           }
          ],
          "scatterpolargl": [
           {
            "marker": {
             "colorbar": {
              "outlinewidth": 0,
              "ticks": ""
             }
            },
            "type": "scatterpolargl"
           }
          ],
          "scatterternary": [
           {
            "marker": {
             "colorbar": {
              "outlinewidth": 0,
              "ticks": ""
             }
            },
            "type": "scatterternary"
           }
          ],
          "surface": [
           {
            "colorbar": {
             "outlinewidth": 0,
             "ticks": ""
            },
            "colorscale": [
             [
              0,
              "#0d0887"
             ],
             [
              0.1111111111111111,
              "#46039f"
             ],
             [
              0.2222222222222222,
              "#7201a8"
             ],
             [
              0.3333333333333333,
              "#9c179e"
             ],
             [
              0.4444444444444444,
              "#bd3786"
             ],
             [
              0.5555555555555556,
              "#d8576b"
             ],
             [
              0.6666666666666666,
              "#ed7953"
             ],
             [
              0.7777777777777778,
              "#fb9f3a"
             ],
             [
              0.8888888888888888,
              "#fdca26"
             ],
             [
              1,
              "#f0f921"
             ]
            ],
            "type": "surface"
           }
          ],
          "table": [
           {
            "cells": {
             "fill": {
              "color": "#EBF0F8"
             },
             "line": {
              "color": "white"
             }
            },
            "header": {
             "fill": {
              "color": "#C8D4E3"
             },
             "line": {
              "color": "white"
             }
            },
            "type": "table"
           }
          ]
         },
         "layout": {
          "annotationdefaults": {
           "arrowcolor": "#2a3f5f",
           "arrowhead": 0,
           "arrowwidth": 1
          },
          "autotypenumbers": "strict",
          "coloraxis": {
           "colorbar": {
            "outlinewidth": 0,
            "ticks": ""
           }
          },
          "colorscale": {
           "diverging": [
            [
             0,
             "#8e0152"
            ],
            [
             0.1,
             "#c51b7d"
            ],
            [
             0.2,
             "#de77ae"
            ],
            [
             0.3,
             "#f1b6da"
            ],
            [
             0.4,
             "#fde0ef"
            ],
            [
             0.5,
             "#f7f7f7"
            ],
            [
             0.6,
             "#e6f5d0"
            ],
            [
             0.7,
             "#b8e186"
            ],
            [
             0.8,
             "#7fbc41"
            ],
            [
             0.9,
             "#4d9221"
            ],
            [
             1,
             "#276419"
            ]
           ],
           "sequential": [
            [
             0,
             "#0d0887"
            ],
            [
             0.1111111111111111,
             "#46039f"
            ],
            [
             0.2222222222222222,
             "#7201a8"
            ],
            [
             0.3333333333333333,
             "#9c179e"
            ],
            [
             0.4444444444444444,
             "#bd3786"
            ],
            [
             0.5555555555555556,
             "#d8576b"
            ],
            [
             0.6666666666666666,
             "#ed7953"
            ],
            [
             0.7777777777777778,
             "#fb9f3a"
            ],
            [
             0.8888888888888888,
             "#fdca26"
            ],
            [
             1,
             "#f0f921"
            ]
           ],
           "sequentialminus": [
            [
             0,
             "#0d0887"
            ],
            [
             0.1111111111111111,
             "#46039f"
            ],
            [
             0.2222222222222222,
             "#7201a8"
            ],
            [
             0.3333333333333333,
             "#9c179e"
            ],
            [
             0.4444444444444444,
             "#bd3786"
            ],
            [
             0.5555555555555556,
             "#d8576b"
            ],
            [
             0.6666666666666666,
             "#ed7953"
            ],
            [
             0.7777777777777778,
             "#fb9f3a"
            ],
            [
             0.8888888888888888,
             "#fdca26"
            ],
            [
             1,
             "#f0f921"
            ]
           ]
          },
          "colorway": [
           "#636efa",
           "#EF553B",
           "#00cc96",
           "#ab63fa",
           "#FFA15A",
           "#19d3f3",
           "#FF6692",
           "#B6E880",
           "#FF97FF",
           "#FECB52"
          ],
          "font": {
           "color": "#2a3f5f"
          },
          "geo": {
           "bgcolor": "white",
           "lakecolor": "white",
           "landcolor": "#E5ECF6",
           "showlakes": true,
           "showland": true,
           "subunitcolor": "white"
          },
          "hoverlabel": {
           "align": "left"
          },
          "hovermode": "closest",
          "mapbox": {
           "style": "light"
          },
          "paper_bgcolor": "white",
          "plot_bgcolor": "#E5ECF6",
          "polar": {
           "angularaxis": {
            "gridcolor": "white",
            "linecolor": "white",
            "ticks": ""
           },
           "bgcolor": "#E5ECF6",
           "radialaxis": {
            "gridcolor": "white",
            "linecolor": "white",
            "ticks": ""
           }
          },
          "scene": {
           "xaxis": {
            "backgroundcolor": "#E5ECF6",
            "gridcolor": "white",
            "gridwidth": 2,
            "linecolor": "white",
            "showbackground": true,
            "ticks": "",
            "zerolinecolor": "white"
           },
           "yaxis": {
            "backgroundcolor": "#E5ECF6",
            "gridcolor": "white",
            "gridwidth": 2,
            "linecolor": "white",
            "showbackground": true,
            "ticks": "",
            "zerolinecolor": "white"
           },
           "zaxis": {
            "backgroundcolor": "#E5ECF6",
            "gridcolor": "white",
            "gridwidth": 2,
            "linecolor": "white",
            "showbackground": true,
            "ticks": "",
            "zerolinecolor": "white"
           }
          },
          "shapedefaults": {
           "line": {
            "color": "#2a3f5f"
           }
          },
          "ternary": {
           "aaxis": {
            "gridcolor": "white",
            "linecolor": "white",
            "ticks": ""
           },
           "baxis": {
            "gridcolor": "white",
            "linecolor": "white",
            "ticks": ""
           },
           "bgcolor": "#E5ECF6",
           "caxis": {
            "gridcolor": "white",
            "linecolor": "white",
            "ticks": ""
           }
          },
          "title": {
           "x": 0.05
          },
          "xaxis": {
           "automargin": true,
           "gridcolor": "white",
           "linecolor": "white",
           "ticks": "",
           "title": {
            "standoff": 15
           },
           "zerolinecolor": "white",
           "zerolinewidth": 2
          },
          "yaxis": {
           "automargin": true,
           "gridcolor": "white",
           "linecolor": "white",
           "ticks": "",
           "title": {
            "standoff": 15
           },
           "zerolinecolor": "white",
           "zerolinewidth": 2
          }
         }
        },
        "title": {
         "text": "Demographic Distribution"
        },
        "width": 800,
        "xaxis": {
         "anchor": "y",
         "domain": [
          0,
          0.45
         ],
         "title": {
          "text": "Age Group"
         }
        },
        "xaxis2": {
         "anchor": "y2",
         "domain": [
          0.55,
          1
         ],
         "title": {
          "text": "Gender"
         }
        },
        "xaxis3": {
         "anchor": "y3",
         "domain": [
          0,
          0.45
         ],
         "title": {
          "text": "Education Level"
         }
        },
        "xaxis4": {
         "anchor": "y4",
         "domain": [
          0.55,
          1
         ],
         "title": {
          "text": "Population Group"
         }
        },
        "yaxis": {
         "anchor": "x",
         "domain": [
          0.625,
          1
         ],
         "title": {
          "text": "Count"
         }
        },
        "yaxis2": {
         "anchor": "x2",
         "domain": [
          0.625,
          1
         ],
         "title": {
          "text": "Count"
         }
        },
        "yaxis3": {
         "anchor": "x3",
         "domain": [
          0,
          0.375
         ],
         "title": {
          "text": "Count"
         }
        },
        "yaxis4": {
         "anchor": "x4",
         "domain": [
          0,
          0.375
         ],
         "title": {
          "text": "Count"
         }
        }
       }
      }
     },
     "metadata": {},
     "output_type": "display_data"
    },
    {
     "name": "stdout",
     "output_type": "stream",
     "text": [
      "Age_Group value counts:\n",
      " Age_Group\n",
      "Millennials     1984\n",
      "Gen Z           1093\n",
      "Gen X            640\n",
      "Baby Boomers     217\n",
      "Name: count, dtype: int64 \n",
      "\n",
      "Gender value counts:\n",
      " Gender\n",
      "Male      1974\n",
      "Female    1960\n",
      "Name: count, dtype: int64 \n",
      "\n",
      "Highest_Education_Level value counts:\n",
      " Highest_Education_Level\n",
      "University degree             1346\n",
      "Vocational training           1276\n",
      "Diploma                        762\n",
      "High school                    374\n",
      "Studying                        86\n",
      "Professional Qualification      58\n",
      "Up to Primary School            32\n",
      "Name: count, dtype: int64 \n",
      "\n",
      "Population_Group value counts:\n",
      " Population_Group\n",
      "Black              3900\n",
      "Mixed race           15\n",
      "White                10\n",
      "Indian or Asian       9\n",
      "Name: count, dtype: int64 \n",
      "\n"
     ]
    }
   ],
   "source": [
    "fig = make_subplots(rows=2, cols=2, subplot_titles=('Age Group Distribution', 'Gender Distribution', 'Education Level Distribution', 'Population Group Distribution'))\n",
    "\n",
    "fig.add_trace(go.Bar(x=df['Age_Group'].value_counts().index, y=df['Age_Group'].value_counts().values), row=1, col=1)\n",
    "\n",
    "fig.add_trace(go.Bar(x=df['Gender'].value_counts().index, y=df['Age_Group'].value_counts().values), row=1, col=2)\n",
    "\n",
    "fig.add_trace(go.Bar(x=df['Highest_Education_Level'].value_counts().index, y=df['Highest_Education_Level'].value_counts().values), row=2, col=1)\n",
    "\n",
    "fig.add_trace(go.Bar(x=df['Population_Group'].value_counts().index, y=df['Population_Group'].value_counts().values), row=2, col=2) \n",
    "\n",
    "fig.update_layout(height=800, width=800, title_text=\"Demographic Distribution\", showlegend=False)\n",
    "\n",
    "fig.update_xaxes(title_text=\"Age Group\", row=1, col=1)\n",
    "fig.update_xaxes(title_text='Gender', row=1, col=2)\n",
    "fig.update_xaxes(title_text='Education Level', row=2, col=1)\n",
    "fig.update_xaxes(title_text='Population Group', row=2, col=2)\n",
    "\n",
    "fig.update_yaxes(title_text=\"Count\", row=1, col=1)\n",
    "fig.update_yaxes(title_text='Count', row=1, col=2)\n",
    "fig.update_yaxes(title_text='Count', row=2, col=1)\n",
    "fig.update_yaxes(title_text='Count', row=2, col=2)\n",
    "\n",
    "fig.show()\n",
    "\n",
    "print(\"Age_Group value counts:\\n\", df['Age_Group'].value_counts(), \"\\n\")\n",
    "print(\"Gender value counts:\\n\", df['Gender'].value_counts(), \"\\n\")\n",
    "print(\"Highest_Education_Level value counts:\\n\", df['Highest_Education_Level'].value_counts(), \"\\n\")\n",
    "print(\"Population_Group value counts:\\n\", df['Population_Group'].value_counts(), \"\\n\")"
   ]
  },
  {
   "cell_type": "markdown",
   "id": "e5a5e691",
   "metadata": {},
   "source": [
    "\n",
    "From these demographic variables we can conclude that:\n",
    "- The data was collected was predominantly from Millenials and Gen Zs.\n",
    "- The data was collected from about twice more males than females.\n",
    "- The education level is fairly high with most people having finished high school.\n",
    "- The dominant group was black during collection."
   ]
  },
  {
   "cell_type": "code",
   "execution_count": 48,
   "id": "40099847",
   "metadata": {},
   "outputs": [
    {
     "data": {
      "application/vnd.microsoft.datawrangler.viewer.v0+json": {
       "columns": [
        {
         "name": "Occupation",
         "rawType": "object",
         "type": "string"
        },
        {
         "name": "Difficult",
         "rawType": "int64",
         "type": "integer"
        },
        {
         "name": "Same",
         "rawType": "int64",
         "type": "integer"
        },
        {
         "name": "Easier",
         "rawType": "int64",
         "type": "integer"
        }
       ],
       "ref": "c72eba3a-971b-4644-8d80-fae92101e376",
       "rows": [
        [
         "Salaried employee",
         "1501",
         "363",
         "38"
        ],
        [
         "Self employed/Contractor",
         "519",
         "147",
         "34"
        ],
        [
         "Business owner",
         "507",
         "144",
         "38"
        ],
        [
         "Unemployed",
         "262",
         "90",
         "20"
        ],
        [
         "Student",
         "211",
         "33",
         "6"
        ],
        [
         "Stay-at-home mom or dad",
         "19",
         "2",
         "0"
        ]
       ],
       "shape": {
        "columns": 3,
        "rows": 6
       }
      },
      "text/html": [
       "<div>\n",
       "<style scoped>\n",
       "    .dataframe tbody tr th:only-of-type {\n",
       "        vertical-align: middle;\n",
       "    }\n",
       "\n",
       "    .dataframe tbody tr th {\n",
       "        vertical-align: top;\n",
       "    }\n",
       "\n",
       "    .dataframe thead th {\n",
       "        text-align: right;\n",
       "    }\n",
       "</style>\n",
       "<table border=\"1\" class=\"dataframe\">\n",
       "  <thead>\n",
       "    <tr style=\"text-align: right;\">\n",
       "      <th>Job_Market_Difficulty</th>\n",
       "      <th>Difficult</th>\n",
       "      <th>Same</th>\n",
       "      <th>Easier</th>\n",
       "    </tr>\n",
       "    <tr>\n",
       "      <th>Occupation</th>\n",
       "      <th></th>\n",
       "      <th></th>\n",
       "      <th></th>\n",
       "    </tr>\n",
       "  </thead>\n",
       "  <tbody>\n",
       "    <tr>\n",
       "      <th>Salaried employee</th>\n",
       "      <td>1501</td>\n",
       "      <td>363</td>\n",
       "      <td>38</td>\n",
       "    </tr>\n",
       "    <tr>\n",
       "      <th>Self employed/Contractor</th>\n",
       "      <td>519</td>\n",
       "      <td>147</td>\n",
       "      <td>34</td>\n",
       "    </tr>\n",
       "    <tr>\n",
       "      <th>Business owner</th>\n",
       "      <td>507</td>\n",
       "      <td>144</td>\n",
       "      <td>38</td>\n",
       "    </tr>\n",
       "    <tr>\n",
       "      <th>Unemployed</th>\n",
       "      <td>262</td>\n",
       "      <td>90</td>\n",
       "      <td>20</td>\n",
       "    </tr>\n",
       "    <tr>\n",
       "      <th>Student</th>\n",
       "      <td>211</td>\n",
       "      <td>33</td>\n",
       "      <td>6</td>\n",
       "    </tr>\n",
       "    <tr>\n",
       "      <th>Stay-at-home mom or dad</th>\n",
       "      <td>19</td>\n",
       "      <td>2</td>\n",
       "      <td>0</td>\n",
       "    </tr>\n",
       "  </tbody>\n",
       "</table>\n",
       "</div>"
      ],
      "text/plain": [
       "Job_Market_Difficulty     Difficult  Same  Easier\n",
       "Occupation                                       \n",
       "Salaried employee              1501   363      38\n",
       "Self employed/Contractor        519   147      34\n",
       "Business owner                  507   144      38\n",
       "Unemployed                      262    90      20\n",
       "Student                         211    33       6\n",
       "Stay-at-home mom or dad          19     2       0"
      ]
     },
     "execution_count": 48,
     "metadata": {},
     "output_type": "execute_result"
    }
   ],
   "source": [
    "crosstab = pd.crosstab(df['Occupation'], df['Job_Market_Difficulty']).sort_values(by='Difficult', ascending=False)\n",
    "crosstab = crosstab[['Difficult', 'Same', 'Easier']]\n",
    "crosstab"
   ]
  },
  {
   "cell_type": "code",
   "execution_count": 49,
   "id": "03c1cefe",
   "metadata": {},
   "outputs": [
    {
     "data": {
      "application/vnd.plotly.v1+json": {
       "config": {
        "plotlyServerURL": "https://plot.ly"
       },
       "data": [
        {
         "type": "bar",
         "x": [
          "Salaried employee",
          "Self employed/Contractor",
          "Business owner",
          "Unemployed",
          "Student",
          "Stay-at-home mom or dad"
         ],
         "xaxis": "x",
         "y": {
          "bdata": "bge8ArECdAH6ABUA",
          "dtype": "i2"
         },
         "yaxis": "y"
        },
        {
         "type": "bar",
         "x": [
          "Difficult",
          "Same",
          "Easier"
         ],
         "xaxis": "x2",
         "y": {
          "bdata": "ywsLA4gA",
          "dtype": "i2"
         },
         "yaxis": "y2"
        },
        {
         "marker": {
          "color": "darkred"
         },
         "name": "Difficult",
         "type": "bar",
         "x": [
          "Salaried employee",
          "Self employed/Contractor",
          "Business owner",
          "Unemployed",
          "Student",
          "Stay-at-home mom or dad"
         ],
         "xaxis": "x3",
         "y": {
          "bdata": "3QUHAvsBBgHTABMA",
          "dtype": "i2"
         },
         "yaxis": "y3"
        },
        {
         "marker": {
          "color": "goldenrod"
         },
         "name": "Same",
         "type": "bar",
         "x": [
          "Salaried employee",
          "Self employed/Contractor",
          "Business owner",
          "Unemployed",
          "Student",
          "Stay-at-home mom or dad"
         ],
         "xaxis": "x3",
         "y": {
          "bdata": "awGTAJAAWgAhAAIA",
          "dtype": "i2"
         },
         "yaxis": "y3"
        },
        {
         "marker": {
          "color": "forestgreen"
         },
         "name": "Easier",
         "type": "bar",
         "x": [
          "Salaried employee",
          "Self employed/Contractor",
          "Business owner",
          "Unemployed",
          "Student",
          "Stay-at-home mom or dad"
         ],
         "xaxis": "x3",
         "y": {
          "bdata": "JiImFAYA",
          "dtype": "i1"
         },
         "yaxis": "y3"
        }
       ],
       "layout": {
        "annotations": [
         {
          "font": {
           "size": 16
          },
          "showarrow": false,
          "text": "Occupation Distribution",
          "x": 0.14444444444444446,
          "xanchor": "center",
          "xref": "paper",
          "y": 1,
          "yanchor": "bottom",
          "yref": "paper"
         },
         {
          "font": {
           "size": 16
          },
          "showarrow": false,
          "text": "Job Market Difficulty Distribution",
          "x": 0.5,
          "xanchor": "center",
          "xref": "paper",
          "y": 1,
          "yanchor": "bottom",
          "yref": "paper"
         },
         {
          "font": {
           "size": 16
          },
          "showarrow": false,
          "text": "Occupation and Job Market Difficulty Comparison",
          "x": 0.8555555555555556,
          "xanchor": "center",
          "xref": "paper",
          "y": 1,
          "yanchor": "bottom",
          "yref": "paper"
         }
        ],
        "height": 600,
        "showlegend": false,
        "template": {
         "data": {
          "bar": [
           {
            "error_x": {
             "color": "#2a3f5f"
            },
            "error_y": {
             "color": "#2a3f5f"
            },
            "marker": {
             "line": {
              "color": "#E5ECF6",
              "width": 0.5
             },
             "pattern": {
              "fillmode": "overlay",
              "size": 10,
              "solidity": 0.2
             }
            },
            "type": "bar"
           }
          ],
          "barpolar": [
           {
            "marker": {
             "line": {
              "color": "#E5ECF6",
              "width": 0.5
             },
             "pattern": {
              "fillmode": "overlay",
              "size": 10,
              "solidity": 0.2
             }
            },
            "type": "barpolar"
           }
          ],
          "carpet": [
           {
            "aaxis": {
             "endlinecolor": "#2a3f5f",
             "gridcolor": "white",
             "linecolor": "white",
             "minorgridcolor": "white",
             "startlinecolor": "#2a3f5f"
            },
            "baxis": {
             "endlinecolor": "#2a3f5f",
             "gridcolor": "white",
             "linecolor": "white",
             "minorgridcolor": "white",
             "startlinecolor": "#2a3f5f"
            },
            "type": "carpet"
           }
          ],
          "choropleth": [
           {
            "colorbar": {
             "outlinewidth": 0,
             "ticks": ""
            },
            "type": "choropleth"
           }
          ],
          "contour": [
           {
            "colorbar": {
             "outlinewidth": 0,
             "ticks": ""
            },
            "colorscale": [
             [
              0,
              "#0d0887"
             ],
             [
              0.1111111111111111,
              "#46039f"
             ],
             [
              0.2222222222222222,
              "#7201a8"
             ],
             [
              0.3333333333333333,
              "#9c179e"
             ],
             [
              0.4444444444444444,
              "#bd3786"
             ],
             [
              0.5555555555555556,
              "#d8576b"
             ],
             [
              0.6666666666666666,
              "#ed7953"
             ],
             [
              0.7777777777777778,
              "#fb9f3a"
             ],
             [
              0.8888888888888888,
              "#fdca26"
             ],
             [
              1,
              "#f0f921"
             ]
            ],
            "type": "contour"
           }
          ],
          "contourcarpet": [
           {
            "colorbar": {
             "outlinewidth": 0,
             "ticks": ""
            },
            "type": "contourcarpet"
           }
          ],
          "heatmap": [
           {
            "colorbar": {
             "outlinewidth": 0,
             "ticks": ""
            },
            "colorscale": [
             [
              0,
              "#0d0887"
             ],
             [
              0.1111111111111111,
              "#46039f"
             ],
             [
              0.2222222222222222,
              "#7201a8"
             ],
             [
              0.3333333333333333,
              "#9c179e"
             ],
             [
              0.4444444444444444,
              "#bd3786"
             ],
             [
              0.5555555555555556,
              "#d8576b"
             ],
             [
              0.6666666666666666,
              "#ed7953"
             ],
             [
              0.7777777777777778,
              "#fb9f3a"
             ],
             [
              0.8888888888888888,
              "#fdca26"
             ],
             [
              1,
              "#f0f921"
             ]
            ],
            "type": "heatmap"
           }
          ],
          "histogram": [
           {
            "marker": {
             "pattern": {
              "fillmode": "overlay",
              "size": 10,
              "solidity": 0.2
             }
            },
            "type": "histogram"
           }
          ],
          "histogram2d": [
           {
            "colorbar": {
             "outlinewidth": 0,
             "ticks": ""
            },
            "colorscale": [
             [
              0,
              "#0d0887"
             ],
             [
              0.1111111111111111,
              "#46039f"
             ],
             [
              0.2222222222222222,
              "#7201a8"
             ],
             [
              0.3333333333333333,
              "#9c179e"
             ],
             [
              0.4444444444444444,
              "#bd3786"
             ],
             [
              0.5555555555555556,
              "#d8576b"
             ],
             [
              0.6666666666666666,
              "#ed7953"
             ],
             [
              0.7777777777777778,
              "#fb9f3a"
             ],
             [
              0.8888888888888888,
              "#fdca26"
             ],
             [
              1,
              "#f0f921"
             ]
            ],
            "type": "histogram2d"
           }
          ],
          "histogram2dcontour": [
           {
            "colorbar": {
             "outlinewidth": 0,
             "ticks": ""
            },
            "colorscale": [
             [
              0,
              "#0d0887"
             ],
             [
              0.1111111111111111,
              "#46039f"
             ],
             [
              0.2222222222222222,
              "#7201a8"
             ],
             [
              0.3333333333333333,
              "#9c179e"
             ],
             [
              0.4444444444444444,
              "#bd3786"
             ],
             [
              0.5555555555555556,
              "#d8576b"
             ],
             [
              0.6666666666666666,
              "#ed7953"
             ],
             [
              0.7777777777777778,
              "#fb9f3a"
             ],
             [
              0.8888888888888888,
              "#fdca26"
             ],
             [
              1,
              "#f0f921"
             ]
            ],
            "type": "histogram2dcontour"
           }
          ],
          "mesh3d": [
           {
            "colorbar": {
             "outlinewidth": 0,
             "ticks": ""
            },
            "type": "mesh3d"
           }
          ],
          "parcoords": [
           {
            "line": {
             "colorbar": {
              "outlinewidth": 0,
              "ticks": ""
             }
            },
            "type": "parcoords"
           }
          ],
          "pie": [
           {
            "automargin": true,
            "type": "pie"
           }
          ],
          "scatter": [
           {
            "fillpattern": {
             "fillmode": "overlay",
             "size": 10,
             "solidity": 0.2
            },
            "type": "scatter"
           }
          ],
          "scatter3d": [
           {
            "line": {
             "colorbar": {
              "outlinewidth": 0,
              "ticks": ""
             }
            },
            "marker": {
             "colorbar": {
              "outlinewidth": 0,
              "ticks": ""
             }
            },
            "type": "scatter3d"
           }
          ],
          "scattercarpet": [
           {
            "marker": {
             "colorbar": {
              "outlinewidth": 0,
              "ticks": ""
             }
            },
            "type": "scattercarpet"
           }
          ],
          "scattergeo": [
           {
            "marker": {
             "colorbar": {
              "outlinewidth": 0,
              "ticks": ""
             }
            },
            "type": "scattergeo"
           }
          ],
          "scattergl": [
           {
            "marker": {
             "colorbar": {
              "outlinewidth": 0,
              "ticks": ""
             }
            },
            "type": "scattergl"
           }
          ],
          "scattermap": [
           {
            "marker": {
             "colorbar": {
              "outlinewidth": 0,
              "ticks": ""
             }
            },
            "type": "scattermap"
           }
          ],
          "scattermapbox": [
           {
            "marker": {
             "colorbar": {
              "outlinewidth": 0,
              "ticks": ""
             }
            },
            "type": "scattermapbox"
           }
          ],
          "scatterpolar": [
           {
            "marker": {
             "colorbar": {
              "outlinewidth": 0,
              "ticks": ""
             }
            },
            "type": "scatterpolar"
           }
          ],
          "scatterpolargl": [
           {
            "marker": {
             "colorbar": {
              "outlinewidth": 0,
              "ticks": ""
             }
            },
            "type": "scatterpolargl"
           }
          ],
          "scatterternary": [
           {
            "marker": {
             "colorbar": {
              "outlinewidth": 0,
              "ticks": ""
             }
            },
            "type": "scatterternary"
           }
          ],
          "surface": [
           {
            "colorbar": {
             "outlinewidth": 0,
             "ticks": ""
            },
            "colorscale": [
             [
              0,
              "#0d0887"
             ],
             [
              0.1111111111111111,
              "#46039f"
             ],
             [
              0.2222222222222222,
              "#7201a8"
             ],
             [
              0.3333333333333333,
              "#9c179e"
             ],
             [
              0.4444444444444444,
              "#bd3786"
             ],
             [
              0.5555555555555556,
              "#d8576b"
             ],
             [
              0.6666666666666666,
              "#ed7953"
             ],
             [
              0.7777777777777778,
              "#fb9f3a"
             ],
             [
              0.8888888888888888,
              "#fdca26"
             ],
             [
              1,
              "#f0f921"
             ]
            ],
            "type": "surface"
           }
          ],
          "table": [
           {
            "cells": {
             "fill": {
              "color": "#EBF0F8"
             },
             "line": {
              "color": "white"
             }
            },
            "header": {
             "fill": {
              "color": "#C8D4E3"
             },
             "line": {
              "color": "white"
             }
            },
            "type": "table"
           }
          ]
         },
         "layout": {
          "annotationdefaults": {
           "arrowcolor": "#2a3f5f",
           "arrowhead": 0,
           "arrowwidth": 1
          },
          "autotypenumbers": "strict",
          "coloraxis": {
           "colorbar": {
            "outlinewidth": 0,
            "ticks": ""
           }
          },
          "colorscale": {
           "diverging": [
            [
             0,
             "#8e0152"
            ],
            [
             0.1,
             "#c51b7d"
            ],
            [
             0.2,
             "#de77ae"
            ],
            [
             0.3,
             "#f1b6da"
            ],
            [
             0.4,
             "#fde0ef"
            ],
            [
             0.5,
             "#f7f7f7"
            ],
            [
             0.6,
             "#e6f5d0"
            ],
            [
             0.7,
             "#b8e186"
            ],
            [
             0.8,
             "#7fbc41"
            ],
            [
             0.9,
             "#4d9221"
            ],
            [
             1,
             "#276419"
            ]
           ],
           "sequential": [
            [
             0,
             "#0d0887"
            ],
            [
             0.1111111111111111,
             "#46039f"
            ],
            [
             0.2222222222222222,
             "#7201a8"
            ],
            [
             0.3333333333333333,
             "#9c179e"
            ],
            [
             0.4444444444444444,
             "#bd3786"
            ],
            [
             0.5555555555555556,
             "#d8576b"
            ],
            [
             0.6666666666666666,
             "#ed7953"
            ],
            [
             0.7777777777777778,
             "#fb9f3a"
            ],
            [
             0.8888888888888888,
             "#fdca26"
            ],
            [
             1,
             "#f0f921"
            ]
           ],
           "sequentialminus": [
            [
             0,
             "#0d0887"
            ],
            [
             0.1111111111111111,
             "#46039f"
            ],
            [
             0.2222222222222222,
             "#7201a8"
            ],
            [
             0.3333333333333333,
             "#9c179e"
            ],
            [
             0.4444444444444444,
             "#bd3786"
            ],
            [
             0.5555555555555556,
             "#d8576b"
            ],
            [
             0.6666666666666666,
             "#ed7953"
            ],
            [
             0.7777777777777778,
             "#fb9f3a"
            ],
            [
             0.8888888888888888,
             "#fdca26"
            ],
            [
             1,
             "#f0f921"
            ]
           ]
          },
          "colorway": [
           "#636efa",
           "#EF553B",
           "#00cc96",
           "#ab63fa",
           "#FFA15A",
           "#19d3f3",
           "#FF6692",
           "#B6E880",
           "#FF97FF",
           "#FECB52"
          ],
          "font": {
           "color": "#2a3f5f"
          },
          "geo": {
           "bgcolor": "white",
           "lakecolor": "white",
           "landcolor": "#E5ECF6",
           "showlakes": true,
           "showland": true,
           "subunitcolor": "white"
          },
          "hoverlabel": {
           "align": "left"
          },
          "hovermode": "closest",
          "mapbox": {
           "style": "light"
          },
          "paper_bgcolor": "white",
          "plot_bgcolor": "#E5ECF6",
          "polar": {
           "angularaxis": {
            "gridcolor": "white",
            "linecolor": "white",
            "ticks": ""
           },
           "bgcolor": "#E5ECF6",
           "radialaxis": {
            "gridcolor": "white",
            "linecolor": "white",
            "ticks": ""
           }
          },
          "scene": {
           "xaxis": {
            "backgroundcolor": "#E5ECF6",
            "gridcolor": "white",
            "gridwidth": 2,
            "linecolor": "white",
            "showbackground": true,
            "ticks": "",
            "zerolinecolor": "white"
           },
           "yaxis": {
            "backgroundcolor": "#E5ECF6",
            "gridcolor": "white",
            "gridwidth": 2,
            "linecolor": "white",
            "showbackground": true,
            "ticks": "",
            "zerolinecolor": "white"
           },
           "zaxis": {
            "backgroundcolor": "#E5ECF6",
            "gridcolor": "white",
            "gridwidth": 2,
            "linecolor": "white",
            "showbackground": true,
            "ticks": "",
            "zerolinecolor": "white"
           }
          },
          "shapedefaults": {
           "line": {
            "color": "#2a3f5f"
           }
          },
          "ternary": {
           "aaxis": {
            "gridcolor": "white",
            "linecolor": "white",
            "ticks": ""
           },
           "baxis": {
            "gridcolor": "white",
            "linecolor": "white",
            "ticks": ""
           },
           "bgcolor": "#E5ECF6",
           "caxis": {
            "gridcolor": "white",
            "linecolor": "white",
            "ticks": ""
           }
          },
          "title": {
           "x": 0.05
          },
          "xaxis": {
           "automargin": true,
           "gridcolor": "white",
           "linecolor": "white",
           "ticks": "",
           "title": {
            "standoff": 15
           },
           "zerolinecolor": "white",
           "zerolinewidth": 2
          },
          "yaxis": {
           "automargin": true,
           "gridcolor": "white",
           "linecolor": "white",
           "ticks": "",
           "title": {
            "standoff": 15
           },
           "zerolinecolor": "white",
           "zerolinewidth": 2
          }
         }
        },
        "title": {
         "text": "Occupation and Job Market Difficulty Distribution"
        },
        "width": 1400,
        "xaxis": {
         "anchor": "y",
         "domain": [
          0,
          0.2888888888888889
         ],
         "title": {
          "text": "Occupation"
         }
        },
        "xaxis2": {
         "anchor": "y2",
         "domain": [
          0.35555555555555557,
          0.6444444444444445
         ],
         "title": {
          "text": "Job Market Difficulty"
         }
        },
        "xaxis3": {
         "anchor": "y3",
         "domain": [
          0.7111111111111111,
          1
         ]
        },
        "yaxis": {
         "anchor": "x",
         "domain": [
          0,
          1
         ],
         "title": {
          "text": "Count"
         }
        },
        "yaxis2": {
         "anchor": "x2",
         "domain": [
          0,
          1
         ],
         "title": {
          "text": "Count"
         }
        },
        "yaxis3": {
         "anchor": "x3",
         "domain": [
          0,
          1
         ]
        }
       }
      }
     },
     "metadata": {},
     "output_type": "display_data"
    },
    {
     "name": "stdout",
     "output_type": "stream",
     "text": [
      "Occupation value counts:\n",
      " Occupation\n",
      "Salaried employee           1902\n",
      "Self employed/Contractor     700\n",
      "Business owner               689\n",
      "Unemployed                   372\n",
      "Student                      250\n",
      "Stay-at-home mom or dad       21\n",
      "Name: count, dtype: int64 \n",
      "\n",
      "Job_Market_Difficulty value counts:\n",
      " Job_Market_Difficulty\n",
      "Difficult    3019\n",
      "Same          779\n",
      "Easier        136\n",
      "Name: count, dtype: int64 \n",
      "\n"
     ]
    }
   ],
   "source": [
    "fig2 = make_subplots(rows=1, cols=3, subplot_titles=('Occupation Distribution', 'Job Market Difficulty Distribution',  'Occupation and Job Market Difficulty Comparison'))\n",
    "\n",
    "fig2.add_trace(\n",
    "    go.Bar(\n",
    "        x=df['Occupation'].value_counts().index,\n",
    "        y=df['Occupation'].value_counts().values\n",
    "    ),\n",
    "    row=1, col=1\n",
    ")\n",
    "\n",
    "fig2.add_trace(\n",
    "    go.Bar(\n",
    "        x=df['Job_Market_Difficulty'].value_counts().index,\n",
    "        y=df['Job_Market_Difficulty'].value_counts().values\n",
    "    ),\n",
    "    row=1, col=2\n",
    ")\n",
    "\n",
    "for difficulty in crosstab.columns:\n",
    "    fig2.add_trace(\n",
    "        go.Bar(\n",
    "        x=crosstab.index,\n",
    "        y=crosstab[difficulty],\n",
    "        name=difficulty,\n",
    "        marker_color='darkred' if difficulty == 'Difficult' else 'goldenrod' if difficulty == 'Same' else 'forestgreen'),\n",
    "                  row=1, col=3)\n",
    "\n",
    "fig2.update_layout(\n",
    "    height=600, width=1400, title_text=\"Occupation and Job Market Difficulty Distribution\", showlegend=False\n",
    ")\n",
    "fig2.update_xaxes(title_text=\"Occupation\", row=1, col=1)\n",
    "fig2.update_xaxes(title_text=\"Job Market Difficulty\", row=1, col=2)\n",
    "fig2.update_yaxes(title_text=\"Count\", row=1, col=1)\n",
    "fig2.update_yaxes(title_text=\"Count\", row=1, col=2)\n",
    "\n",
    "fig2.show()\n",
    "\n",
    "print(\"Occupation value counts:\\n\", df['Occupation'].value_counts(), \"\\n\")\n",
    "print(\"Job_Market_Difficulty value counts:\\n\", df['Job_Market_Difficulty'].value_counts(), \"\\n\")"
   ]
  },
  {
   "cell_type": "markdown",
   "id": "9e63b1fb",
   "metadata": {},
   "source": [
    "#### Insights on Occupational Variables"
   ]
  },
  {
   "cell_type": "code",
   "execution_count": 50,
   "id": "3c1867cd",
   "metadata": {},
   "outputs": [
    {
     "data": {
      "application/vnd.plotly.v1+json": {
       "config": {
        "plotlyServerURL": "https://plot.ly"
       },
       "data": [
        {
         "type": "bar",
         "x": [
          "Middle Income",
          "Low Income",
          "High Income"
         ],
         "xaxis": "x",
         "y": {
          "bdata": "CgjrBWkB",
          "dtype": "i2"
         },
         "yaxis": "y"
        },
        {
         "type": "bar",
         "x": [
          "Under USD500",
          "Between USD501 and USD900",
          "Between USD901 and USD1,800",
          "Between USD1,801 and USD4,500",
          "More than USD4,500"
         ],
         "xaxis": "x2",
         "y": {
          "bdata": "6wWwBFoDKAFBAA==",
          "dtype": "i2"
         },
         "yaxis": "y2"
        },
        {
         "type": "bar",
         "x": [
          "Yes",
          "No"
         ],
         "xaxis": "x3",
         "y": {
          "bdata": "fwrfBA==",
          "dtype": "i2"
         },
         "yaxis": "y3"
        },
        {
         "type": "bar",
         "x": [
          "3 or 4 people",
          "Up to 2 people",
          "5 or 6 people",
          "Not Provided",
          "More than 6 people"
         ],
         "xaxis": "x4",
         "y": {
          "bdata": "gAblA8cC1gFcAA==",
          "dtype": "i2"
         },
         "yaxis": "y4"
        }
       ],
       "layout": {
        "annotations": [
         {
          "font": {
           "size": 16
          },
          "showarrow": false,
          "text": "Income Level Distribution",
          "x": 0.225,
          "xanchor": "center",
          "xref": "paper",
          "y": 1,
          "yanchor": "bottom",
          "yref": "paper"
         },
         {
          "font": {
           "size": 16
          },
          "showarrow": false,
          "text": "Total Household Income Distribution",
          "x": 0.775,
          "xanchor": "center",
          "xref": "paper",
          "y": 1,
          "yanchor": "bottom",
          "yref": "paper"
         },
         {
          "font": {
           "size": 16
          },
          "showarrow": false,
          "text": "Children Under 18 Distribution",
          "x": 0.225,
          "xanchor": "center",
          "xref": "paper",
          "y": 0.375,
          "yanchor": "bottom",
          "yref": "paper"
         },
         {
          "font": {
           "size": 16
          },
          "showarrow": false,
          "text": "Household Size Distribution",
          "x": 0.775,
          "xanchor": "center",
          "xref": "paper",
          "y": 0.375,
          "yanchor": "bottom",
          "yref": "paper"
         }
        ],
        "height": 800,
        "showlegend": false,
        "template": {
         "data": {
          "bar": [
           {
            "error_x": {
             "color": "#2a3f5f"
            },
            "error_y": {
             "color": "#2a3f5f"
            },
            "marker": {
             "line": {
              "color": "#E5ECF6",
              "width": 0.5
             },
             "pattern": {
              "fillmode": "overlay",
              "size": 10,
              "solidity": 0.2
             }
            },
            "type": "bar"
           }
          ],
          "barpolar": [
           {
            "marker": {
             "line": {
              "color": "#E5ECF6",
              "width": 0.5
             },
             "pattern": {
              "fillmode": "overlay",
              "size": 10,
              "solidity": 0.2
             }
            },
            "type": "barpolar"
           }
          ],
          "carpet": [
           {
            "aaxis": {
             "endlinecolor": "#2a3f5f",
             "gridcolor": "white",
             "linecolor": "white",
             "minorgridcolor": "white",
             "startlinecolor": "#2a3f5f"
            },
            "baxis": {
             "endlinecolor": "#2a3f5f",
             "gridcolor": "white",
             "linecolor": "white",
             "minorgridcolor": "white",
             "startlinecolor": "#2a3f5f"
            },
            "type": "carpet"
           }
          ],
          "choropleth": [
           {
            "colorbar": {
             "outlinewidth": 0,
             "ticks": ""
            },
            "type": "choropleth"
           }
          ],
          "contour": [
           {
            "colorbar": {
             "outlinewidth": 0,
             "ticks": ""
            },
            "colorscale": [
             [
              0,
              "#0d0887"
             ],
             [
              0.1111111111111111,
              "#46039f"
             ],
             [
              0.2222222222222222,
              "#7201a8"
             ],
             [
              0.3333333333333333,
              "#9c179e"
             ],
             [
              0.4444444444444444,
              "#bd3786"
             ],
             [
              0.5555555555555556,
              "#d8576b"
             ],
             [
              0.6666666666666666,
              "#ed7953"
             ],
             [
              0.7777777777777778,
              "#fb9f3a"
             ],
             [
              0.8888888888888888,
              "#fdca26"
             ],
             [
              1,
              "#f0f921"
             ]
            ],
            "type": "contour"
           }
          ],
          "contourcarpet": [
           {
            "colorbar": {
             "outlinewidth": 0,
             "ticks": ""
            },
            "type": "contourcarpet"
           }
          ],
          "heatmap": [
           {
            "colorbar": {
             "outlinewidth": 0,
             "ticks": ""
            },
            "colorscale": [
             [
              0,
              "#0d0887"
             ],
             [
              0.1111111111111111,
              "#46039f"
             ],
             [
              0.2222222222222222,
              "#7201a8"
             ],
             [
              0.3333333333333333,
              "#9c179e"
             ],
             [
              0.4444444444444444,
              "#bd3786"
             ],
             [
              0.5555555555555556,
              "#d8576b"
             ],
             [
              0.6666666666666666,
              "#ed7953"
             ],
             [
              0.7777777777777778,
              "#fb9f3a"
             ],
             [
              0.8888888888888888,
              "#fdca26"
             ],
             [
              1,
              "#f0f921"
             ]
            ],
            "type": "heatmap"
           }
          ],
          "histogram": [
           {
            "marker": {
             "pattern": {
              "fillmode": "overlay",
              "size": 10,
              "solidity": 0.2
             }
            },
            "type": "histogram"
           }
          ],
          "histogram2d": [
           {
            "colorbar": {
             "outlinewidth": 0,
             "ticks": ""
            },
            "colorscale": [
             [
              0,
              "#0d0887"
             ],
             [
              0.1111111111111111,
              "#46039f"
             ],
             [
              0.2222222222222222,
              "#7201a8"
             ],
             [
              0.3333333333333333,
              "#9c179e"
             ],
             [
              0.4444444444444444,
              "#bd3786"
             ],
             [
              0.5555555555555556,
              "#d8576b"
             ],
             [
              0.6666666666666666,
              "#ed7953"
             ],
             [
              0.7777777777777778,
              "#fb9f3a"
             ],
             [
              0.8888888888888888,
              "#fdca26"
             ],
             [
              1,
              "#f0f921"
             ]
            ],
            "type": "histogram2d"
           }
          ],
          "histogram2dcontour": [
           {
            "colorbar": {
             "outlinewidth": 0,
             "ticks": ""
            },
            "colorscale": [
             [
              0,
              "#0d0887"
             ],
             [
              0.1111111111111111,
              "#46039f"
             ],
             [
              0.2222222222222222,
              "#7201a8"
             ],
             [
              0.3333333333333333,
              "#9c179e"
             ],
             [
              0.4444444444444444,
              "#bd3786"
             ],
             [
              0.5555555555555556,
              "#d8576b"
             ],
             [
              0.6666666666666666,
              "#ed7953"
             ],
             [
              0.7777777777777778,
              "#fb9f3a"
             ],
             [
              0.8888888888888888,
              "#fdca26"
             ],
             [
              1,
              "#f0f921"
             ]
            ],
            "type": "histogram2dcontour"
           }
          ],
          "mesh3d": [
           {
            "colorbar": {
             "outlinewidth": 0,
             "ticks": ""
            },
            "type": "mesh3d"
           }
          ],
          "parcoords": [
           {
            "line": {
             "colorbar": {
              "outlinewidth": 0,
              "ticks": ""
             }
            },
            "type": "parcoords"
           }
          ],
          "pie": [
           {
            "automargin": true,
            "type": "pie"
           }
          ],
          "scatter": [
           {
            "fillpattern": {
             "fillmode": "overlay",
             "size": 10,
             "solidity": 0.2
            },
            "type": "scatter"
           }
          ],
          "scatter3d": [
           {
            "line": {
             "colorbar": {
              "outlinewidth": 0,
              "ticks": ""
             }
            },
            "marker": {
             "colorbar": {
              "outlinewidth": 0,
              "ticks": ""
             }
            },
            "type": "scatter3d"
           }
          ],
          "scattercarpet": [
           {
            "marker": {
             "colorbar": {
              "outlinewidth": 0,
              "ticks": ""
             }
            },
            "type": "scattercarpet"
           }
          ],
          "scattergeo": [
           {
            "marker": {
             "colorbar": {
              "outlinewidth": 0,
              "ticks": ""
             }
            },
            "type": "scattergeo"
           }
          ],
          "scattergl": [
           {
            "marker": {
             "colorbar": {
              "outlinewidth": 0,
              "ticks": ""
             }
            },
            "type": "scattergl"
           }
          ],
          "scattermap": [
           {
            "marker": {
             "colorbar": {
              "outlinewidth": 0,
              "ticks": ""
             }
            },
            "type": "scattermap"
           }
          ],
          "scattermapbox": [
           {
            "marker": {
             "colorbar": {
              "outlinewidth": 0,
              "ticks": ""
             }
            },
            "type": "scattermapbox"
           }
          ],
          "scatterpolar": [
           {
            "marker": {
             "colorbar": {
              "outlinewidth": 0,
              "ticks": ""
             }
            },
            "type": "scatterpolar"
           }
          ],
          "scatterpolargl": [
           {
            "marker": {
             "colorbar": {
              "outlinewidth": 0,
              "ticks": ""
             }
            },
            "type": "scatterpolargl"
           }
          ],
          "scatterternary": [
           {
            "marker": {
             "colorbar": {
              "outlinewidth": 0,
              "ticks": ""
             }
            },
            "type": "scatterternary"
           }
          ],
          "surface": [
           {
            "colorbar": {
             "outlinewidth": 0,
             "ticks": ""
            },
            "colorscale": [
             [
              0,
              "#0d0887"
             ],
             [
              0.1111111111111111,
              "#46039f"
             ],
             [
              0.2222222222222222,
              "#7201a8"
             ],
             [
              0.3333333333333333,
              "#9c179e"
             ],
             [
              0.4444444444444444,
              "#bd3786"
             ],
             [
              0.5555555555555556,
              "#d8576b"
             ],
             [
              0.6666666666666666,
              "#ed7953"
             ],
             [
              0.7777777777777778,
              "#fb9f3a"
             ],
             [
              0.8888888888888888,
              "#fdca26"
             ],
             [
              1,
              "#f0f921"
             ]
            ],
            "type": "surface"
           }
          ],
          "table": [
           {
            "cells": {
             "fill": {
              "color": "#EBF0F8"
             },
             "line": {
              "color": "white"
             }
            },
            "header": {
             "fill": {
              "color": "#C8D4E3"
             },
             "line": {
              "color": "white"
             }
            },
            "type": "table"
           }
          ]
         },
         "layout": {
          "annotationdefaults": {
           "arrowcolor": "#2a3f5f",
           "arrowhead": 0,
           "arrowwidth": 1
          },
          "autotypenumbers": "strict",
          "coloraxis": {
           "colorbar": {
            "outlinewidth": 0,
            "ticks": ""
           }
          },
          "colorscale": {
           "diverging": [
            [
             0,
             "#8e0152"
            ],
            [
             0.1,
             "#c51b7d"
            ],
            [
             0.2,
             "#de77ae"
            ],
            [
             0.3,
             "#f1b6da"
            ],
            [
             0.4,
             "#fde0ef"
            ],
            [
             0.5,
             "#f7f7f7"
            ],
            [
             0.6,
             "#e6f5d0"
            ],
            [
             0.7,
             "#b8e186"
            ],
            [
             0.8,
             "#7fbc41"
            ],
            [
             0.9,
             "#4d9221"
            ],
            [
             1,
             "#276419"
            ]
           ],
           "sequential": [
            [
             0,
             "#0d0887"
            ],
            [
             0.1111111111111111,
             "#46039f"
            ],
            [
             0.2222222222222222,
             "#7201a8"
            ],
            [
             0.3333333333333333,
             "#9c179e"
            ],
            [
             0.4444444444444444,
             "#bd3786"
            ],
            [
             0.5555555555555556,
             "#d8576b"
            ],
            [
             0.6666666666666666,
             "#ed7953"
            ],
            [
             0.7777777777777778,
             "#fb9f3a"
            ],
            [
             0.8888888888888888,
             "#fdca26"
            ],
            [
             1,
             "#f0f921"
            ]
           ],
           "sequentialminus": [
            [
             0,
             "#0d0887"
            ],
            [
             0.1111111111111111,
             "#46039f"
            ],
            [
             0.2222222222222222,
             "#7201a8"
            ],
            [
             0.3333333333333333,
             "#9c179e"
            ],
            [
             0.4444444444444444,
             "#bd3786"
            ],
            [
             0.5555555555555556,
             "#d8576b"
            ],
            [
             0.6666666666666666,
             "#ed7953"
            ],
            [
             0.7777777777777778,
             "#fb9f3a"
            ],
            [
             0.8888888888888888,
             "#fdca26"
            ],
            [
             1,
             "#f0f921"
            ]
           ]
          },
          "colorway": [
           "#636efa",
           "#EF553B",
           "#00cc96",
           "#ab63fa",
           "#FFA15A",
           "#19d3f3",
           "#FF6692",
           "#B6E880",
           "#FF97FF",
           "#FECB52"
          ],
          "font": {
           "color": "#2a3f5f"
          },
          "geo": {
           "bgcolor": "white",
           "lakecolor": "white",
           "landcolor": "#E5ECF6",
           "showlakes": true,
           "showland": true,
           "subunitcolor": "white"
          },
          "hoverlabel": {
           "align": "left"
          },
          "hovermode": "closest",
          "mapbox": {
           "style": "light"
          },
          "paper_bgcolor": "white",
          "plot_bgcolor": "#E5ECF6",
          "polar": {
           "angularaxis": {
            "gridcolor": "white",
            "linecolor": "white",
            "ticks": ""
           },
           "bgcolor": "#E5ECF6",
           "radialaxis": {
            "gridcolor": "white",
            "linecolor": "white",
            "ticks": ""
           }
          },
          "scene": {
           "xaxis": {
            "backgroundcolor": "#E5ECF6",
            "gridcolor": "white",
            "gridwidth": 2,
            "linecolor": "white",
            "showbackground": true,
            "ticks": "",
            "zerolinecolor": "white"
           },
           "yaxis": {
            "backgroundcolor": "#E5ECF6",
            "gridcolor": "white",
            "gridwidth": 2,
            "linecolor": "white",
            "showbackground": true,
            "ticks": "",
            "zerolinecolor": "white"
           },
           "zaxis": {
            "backgroundcolor": "#E5ECF6",
            "gridcolor": "white",
            "gridwidth": 2,
            "linecolor": "white",
            "showbackground": true,
            "ticks": "",
            "zerolinecolor": "white"
           }
          },
          "shapedefaults": {
           "line": {
            "color": "#2a3f5f"
           }
          },
          "ternary": {
           "aaxis": {
            "gridcolor": "white",
            "linecolor": "white",
            "ticks": ""
           },
           "baxis": {
            "gridcolor": "white",
            "linecolor": "white",
            "ticks": ""
           },
           "bgcolor": "#E5ECF6",
           "caxis": {
            "gridcolor": "white",
            "linecolor": "white",
            "ticks": ""
           }
          },
          "title": {
           "x": 0.05
          },
          "xaxis": {
           "automargin": true,
           "gridcolor": "white",
           "linecolor": "white",
           "ticks": "",
           "title": {
            "standoff": 15
           },
           "zerolinecolor": "white",
           "zerolinewidth": 2
          },
          "yaxis": {
           "automargin": true,
           "gridcolor": "white",
           "linecolor": "white",
           "ticks": "",
           "title": {
            "standoff": 15
           },
           "zerolinecolor": "white",
           "zerolinewidth": 2
          }
         }
        },
        "title": {
         "text": "Income and Household Characteristics Distribution"
        },
        "width": 900,
        "xaxis": {
         "anchor": "y",
         "domain": [
          0,
          0.45
         ],
         "title": {
          "text": "Income Level"
         }
        },
        "xaxis2": {
         "anchor": "y2",
         "domain": [
          0.55,
          1
         ],
         "title": {
          "text": "Total Household Income"
         }
        },
        "xaxis3": {
         "anchor": "y3",
         "domain": [
          0,
          0.45
         ],
         "title": {
          "text": "Children Under 18"
         }
        },
        "xaxis4": {
         "anchor": "y4",
         "domain": [
          0.55,
          1
         ],
         "title": {
          "text": "Household Size"
         }
        },
        "yaxis": {
         "anchor": "x",
         "domain": [
          0.625,
          1
         ],
         "title": {
          "text": "Count"
         }
        },
        "yaxis2": {
         "anchor": "x2",
         "domain": [
          0.625,
          1
         ],
         "title": {
          "text": "Count"
         }
        },
        "yaxis3": {
         "anchor": "x3",
         "domain": [
          0,
          0.375
         ],
         "title": {
          "text": "Count"
         }
        },
        "yaxis4": {
         "anchor": "x4",
         "domain": [
          0,
          0.375
         ],
         "title": {
          "text": "Count"
         }
        }
       }
      }
     },
     "metadata": {},
     "output_type": "display_data"
    },
    {
     "name": "stdout",
     "output_type": "stream",
     "text": [
      "Income_Level value counts:\n",
      " Income_Level\n",
      "Middle Income    2058\n",
      "Low Income       1515\n",
      "High Income       361\n",
      "Name: count, dtype: int64 \n",
      "\n",
      "Total_Household_Income value counts:\n",
      " Total_Household_Income\n",
      "Under USD500                     1515\n",
      "Between USD501 and USD900        1200\n",
      "Between USD901 and USD1,800       858\n",
      "Between USD1,801 and USD4,500     296\n",
      "More than USD4,500                 65\n",
      "Name: count, dtype: int64 \n",
      "\n",
      "Children_Under_18 value counts:\n",
      " Children_Under_18\n",
      "Yes    2687\n",
      "No     1247\n",
      "Name: count, dtype: int64 \n",
      "\n",
      "Household_Size value counts:\n",
      " Household_Size\n",
      "3 or 4 people         1664\n",
      "Up to 2 people         997\n",
      "5 or 6 people          711\n",
      "Not Provided           470\n",
      "More than 6 people      92\n",
      "Name: count, dtype: int64 \n",
      "\n"
     ]
    }
   ],
   "source": [
    "fig3 = make_subplots(rows=2, cols=2, subplot_titles=(\n",
    "    'Income Level Distribution',\n",
    "    'Total Household Income Distribution',\n",
    "    'Children Under 18 Distribution',\n",
    "    'Household Size Distribution'\n",
    "))\n",
    "\n",
    "fig3.add_trace(\n",
    "    go.Bar(\n",
    "        x=df['Income_Level'].value_counts().index,\n",
    "        y=df['Income_Level'].value_counts().values\n",
    "    ),\n",
    "    row=1, col=1\n",
    ")\n",
    "\n",
    "fig3.add_trace(\n",
    "    go.Bar(\n",
    "        x=df['Total_Household_Income'].value_counts().index,\n",
    "        y=df['Total_Household_Income'].value_counts().values\n",
    "    ),\n",
    "    row=1, col=2\n",
    ")\n",
    "\n",
    "fig3.add_trace(\n",
    "    go.Bar(\n",
    "        x=df['Children_Under_18'].value_counts().index,\n",
    "        y=df['Children_Under_18'].value_counts().values\n",
    "    ),\n",
    "    row=2, col=1\n",
    ")\n",
    "\n",
    "fig3.add_trace(\n",
    "    go.Bar(\n",
    "        x=df['Household_Size'].value_counts().index,\n",
    "        y=df['Household_Size'].value_counts().values\n",
    "    ),\n",
    "    row=2, col=2\n",
    ")\n",
    "\n",
    "fig3.update_layout(\n",
    "    height=800, width=900, title_text=\"Income and Household Characteristics Distribution\", showlegend=False\n",
    ")\n",
    "\n",
    "fig3.update_xaxes(title_text=\"Income Level\", row=1, col=1)\n",
    "fig3.update_xaxes(title_text=\"Total Household Income\", row=1, col=2)\n",
    "fig3.update_xaxes(title_text=\"Children Under 18\", row=2, col=1)\n",
    "fig3.update_xaxes(title_text=\"Household Size\", row=2, col=2)\n",
    "\n",
    "fig3.update_yaxes(title_text=\"Count\", row=1, col=1)\n",
    "fig3.update_yaxes(title_text=\"Count\", row=1, col=2)\n",
    "fig3.update_yaxes(title_text=\"Count\", row=2, col=1)\n",
    "fig3.update_yaxes(title_text=\"Count\", row=2, col=2)\n",
    "\n",
    "fig3.show()\n",
    "\n",
    "print(\"Income_Level value counts:\\n\", df['Income_Level'].value_counts(), \"\\n\")\n",
    "print(\"Total_Household_Income value counts:\\n\", df['Total_Household_Income'].value_counts(), \"\\n\")\n",
    "print(\"Children_Under_18 value counts:\\n\", df['Children_Under_18'].value_counts(), \"\\n\")\n",
    "print(\"Household_Size value counts:\\n\", df['Household_Size'].value_counts(), \"\\n\")"
   ]
  },
  {
   "cell_type": "code",
   "execution_count": 51,
   "id": "889365fd",
   "metadata": {},
   "outputs": [
    {
     "data": {
      "application/vnd.microsoft.datawrangler.viewer.v0+json": {
       "columns": [
        {
         "name": "index",
         "rawType": "int64",
         "type": "integer"
        },
        {
         "name": "Occupation",
         "rawType": "object",
         "type": "string"
        },
        {
         "name": "Percentage",
         "rawType": "float64",
         "type": "float"
        }
       ],
       "ref": "88aabc6a-2a73-403e-8dfe-f495a7e8b096",
       "rows": [
        [
         "0",
         "Salaried employee",
         "48.35"
        ],
        [
         "1",
         "Self employed/Contractor",
         "17.79"
        ],
        [
         "2",
         "Business owner",
         "17.51"
        ],
        [
         "3",
         "Unemployed",
         "9.46"
        ],
        [
         "4",
         "Student",
         "6.35"
        ],
        [
         "5",
         "Stay-at-home mom or dad",
         "0.53"
        ]
       ],
       "shape": {
        "columns": 2,
        "rows": 6
       }
      },
      "text/html": [
       "<div>\n",
       "<style scoped>\n",
       "    .dataframe tbody tr th:only-of-type {\n",
       "        vertical-align: middle;\n",
       "    }\n",
       "\n",
       "    .dataframe tbody tr th {\n",
       "        vertical-align: top;\n",
       "    }\n",
       "\n",
       "    .dataframe thead th {\n",
       "        text-align: right;\n",
       "    }\n",
       "</style>\n",
       "<table border=\"1\" class=\"dataframe\">\n",
       "  <thead>\n",
       "    <tr style=\"text-align: right;\">\n",
       "      <th></th>\n",
       "      <th>Occupation</th>\n",
       "      <th>Percentage</th>\n",
       "    </tr>\n",
       "  </thead>\n",
       "  <tbody>\n",
       "    <tr>\n",
       "      <th>0</th>\n",
       "      <td>Salaried employee</td>\n",
       "      <td>48.35</td>\n",
       "    </tr>\n",
       "    <tr>\n",
       "      <th>1</th>\n",
       "      <td>Self employed/Contractor</td>\n",
       "      <td>17.79</td>\n",
       "    </tr>\n",
       "    <tr>\n",
       "      <th>2</th>\n",
       "      <td>Business owner</td>\n",
       "      <td>17.51</td>\n",
       "    </tr>\n",
       "    <tr>\n",
       "      <th>3</th>\n",
       "      <td>Unemployed</td>\n",
       "      <td>9.46</td>\n",
       "    </tr>\n",
       "    <tr>\n",
       "      <th>4</th>\n",
       "      <td>Student</td>\n",
       "      <td>6.35</td>\n",
       "    </tr>\n",
       "    <tr>\n",
       "      <th>5</th>\n",
       "      <td>Stay-at-home mom or dad</td>\n",
       "      <td>0.53</td>\n",
       "    </tr>\n",
       "  </tbody>\n",
       "</table>\n",
       "</div>"
      ],
      "text/plain": [
       "                 Occupation  Percentage\n",
       "0         Salaried employee       48.35\n",
       "1  Self employed/Contractor       17.79\n",
       "2            Business owner       17.51\n",
       "3                Unemployed        9.46\n",
       "4                   Student        6.35\n",
       "5   Stay-at-home mom or dad        0.53"
      ]
     },
     "execution_count": 51,
     "metadata": {},
     "output_type": "execute_result"
    }
   ],
   "source": [
    "occupation_percentage = (df['Occupation'].value_counts(normalize=True) * 100).round(2)\n",
    "occupation_percentage_df = occupation_percentage.reset_index()\n",
    "occupation_percentage_df.columns = ['Occupation', 'Percentage']\n",
    "\n",
    "occupation_percentage_df"
   ]
  },
  {
   "cell_type": "code",
   "execution_count": 52,
   "id": "f1b14f12",
   "metadata": {},
   "outputs": [
    {
     "data": {
      "application/vnd.microsoft.datawrangler.viewer.v0+json": {
       "columns": [
        {
         "name": "Occupation",
         "rawType": "object",
         "type": "string"
        },
        {
         "name": "Difficult",
         "rawType": "float64",
         "type": "float"
        },
        {
         "name": "Same",
         "rawType": "float64",
         "type": "float"
        },
        {
         "name": "Easier",
         "rawType": "float64",
         "type": "float"
        }
       ],
       "ref": "338244c3-65e5-41b4-8f94-f5cbc4678fc1",
       "rows": [
        [
         "Salaried employee",
         "78.92",
         "19.09",
         "2.0"
        ],
        [
         "Self employed/Contractor",
         "74.14",
         "21.0",
         "4.86"
        ],
        [
         "Business owner",
         "73.58",
         "20.9",
         "5.52"
        ],
        [
         "Unemployed",
         "70.43",
         "24.19",
         "5.38"
        ],
        [
         "Student",
         "84.4",
         "13.2",
         "2.4"
        ],
        [
         "Stay-at-home mom or dad",
         "90.48",
         "9.52",
         "0.0"
        ]
       ],
       "shape": {
        "columns": 3,
        "rows": 6
       }
      },
      "text/html": [
       "<div>\n",
       "<style scoped>\n",
       "    .dataframe tbody tr th:only-of-type {\n",
       "        vertical-align: middle;\n",
       "    }\n",
       "\n",
       "    .dataframe tbody tr th {\n",
       "        vertical-align: top;\n",
       "    }\n",
       "\n",
       "    .dataframe thead th {\n",
       "        text-align: right;\n",
       "    }\n",
       "</style>\n",
       "<table border=\"1\" class=\"dataframe\">\n",
       "  <thead>\n",
       "    <tr style=\"text-align: right;\">\n",
       "      <th>Job_Market_Difficulty</th>\n",
       "      <th>Difficult</th>\n",
       "      <th>Same</th>\n",
       "      <th>Easier</th>\n",
       "    </tr>\n",
       "    <tr>\n",
       "      <th>Occupation</th>\n",
       "      <th></th>\n",
       "      <th></th>\n",
       "      <th></th>\n",
       "    </tr>\n",
       "  </thead>\n",
       "  <tbody>\n",
       "    <tr>\n",
       "      <th>Salaried employee</th>\n",
       "      <td>78.92</td>\n",
       "      <td>19.09</td>\n",
       "      <td>2.00</td>\n",
       "    </tr>\n",
       "    <tr>\n",
       "      <th>Self employed/Contractor</th>\n",
       "      <td>74.14</td>\n",
       "      <td>21.00</td>\n",
       "      <td>4.86</td>\n",
       "    </tr>\n",
       "    <tr>\n",
       "      <th>Business owner</th>\n",
       "      <td>73.58</td>\n",
       "      <td>20.90</td>\n",
       "      <td>5.52</td>\n",
       "    </tr>\n",
       "    <tr>\n",
       "      <th>Unemployed</th>\n",
       "      <td>70.43</td>\n",
       "      <td>24.19</td>\n",
       "      <td>5.38</td>\n",
       "    </tr>\n",
       "    <tr>\n",
       "      <th>Student</th>\n",
       "      <td>84.40</td>\n",
       "      <td>13.20</td>\n",
       "      <td>2.40</td>\n",
       "    </tr>\n",
       "    <tr>\n",
       "      <th>Stay-at-home mom or dad</th>\n",
       "      <td>90.48</td>\n",
       "      <td>9.52</td>\n",
       "      <td>0.00</td>\n",
       "    </tr>\n",
       "  </tbody>\n",
       "</table>\n",
       "</div>"
      ],
      "text/plain": [
       "Job_Market_Difficulty     Difficult   Same  Easier\n",
       "Occupation                                        \n",
       "Salaried employee             78.92  19.09    2.00\n",
       "Self employed/Contractor      74.14  21.00    4.86\n",
       "Business owner                73.58  20.90    5.52\n",
       "Unemployed                    70.43  24.19    5.38\n",
       "Student                       84.40  13.20    2.40\n",
       "Stay-at-home mom or dad       90.48   9.52    0.00"
      ]
     },
     "execution_count": 52,
     "metadata": {},
     "output_type": "execute_result"
    }
   ],
   "source": [
    "# Normalize the crosstab by rows to get percentages\n",
    "crosstab_percentage = (crosstab.div(crosstab.sum(axis=1), axis=0) * 100).round(2)\n",
    "\n",
    "crosstab_percentage"
   ]
  },
  {
   "cell_type": "markdown",
   "id": "e13a6a37",
   "metadata": {},
   "source": [
    "From the data gotten above we can reach the following conclusions:\n",
    "- The job market analyzed is predominatly of salaried employees.\n",
    "- Most people find that the job market is getting more difficult.\n",
    "- Across all occupations, respondents agree that the job market is most difficult with even stay-at-home parents agreeing so."
   ]
  },
  {
   "cell_type": "markdown",
   "id": "750c4b8d",
   "metadata": {},
   "source": [
    "#### Insights from the Financial Variables"
   ]
  },
  {
   "cell_type": "code",
   "execution_count": 77,
   "id": "5b4bea2b",
   "metadata": {},
   "outputs": [
    {
     "data": {
      "application/vnd.plotly.v1+json": {
       "config": {
        "plotlyServerURL": "https://plot.ly"
       },
       "data": [
        {
         "showlegend": false,
         "type": "bar",
         "x": [
          "Middle Income",
          "Low Income",
          "High Income"
         ],
         "xaxis": "x",
         "y": {
          "bdata": "CgjrBWkB",
          "dtype": "i2"
         },
         "yaxis": "y"
        },
        {
         "showlegend": false,
         "type": "bar",
         "x": [
          "Under USD500",
          "Between USD501 and USD900",
          "Between USD901 and USD1,800",
          "Between USD1,801 and USD4,500",
          "More than USD4,500"
         ],
         "xaxis": "x2",
         "y": {
          "bdata": "6wWwBFoDKAFBAA==",
          "dtype": "i2"
         },
         "yaxis": "y2"
        }
       ],
       "layout": {
        "annotations": [
         {
          "font": {
           "size": 16
          },
          "showarrow": false,
          "text": "Income Level Distribution",
          "x": 0.225,
          "xanchor": "center",
          "xref": "paper",
          "y": 1,
          "yanchor": "bottom",
          "yref": "paper"
         },
         {
          "font": {
           "size": 16
          },
          "showarrow": false,
          "text": "Total Household Income Distribution",
          "x": 0.775,
          "xanchor": "center",
          "xref": "paper",
          "y": 1,
          "yanchor": "bottom",
          "yref": "paper"
         }
        ],
        "height": 500,
        "legend": {
         "title": {
          "text": "Legend Groups"
         },
         "tracegroupgap": 30
        },
        "template": {
         "data": {
          "bar": [
           {
            "error_x": {
             "color": "#2a3f5f"
            },
            "error_y": {
             "color": "#2a3f5f"
            },
            "marker": {
             "line": {
              "color": "#E5ECF6",
              "width": 0.5
             },
             "pattern": {
              "fillmode": "overlay",
              "size": 10,
              "solidity": 0.2
             }
            },
            "type": "bar"
           }
          ],
          "barpolar": [
           {
            "marker": {
             "line": {
              "color": "#E5ECF6",
              "width": 0.5
             },
             "pattern": {
              "fillmode": "overlay",
              "size": 10,
              "solidity": 0.2
             }
            },
            "type": "barpolar"
           }
          ],
          "carpet": [
           {
            "aaxis": {
             "endlinecolor": "#2a3f5f",
             "gridcolor": "white",
             "linecolor": "white",
             "minorgridcolor": "white",
             "startlinecolor": "#2a3f5f"
            },
            "baxis": {
             "endlinecolor": "#2a3f5f",
             "gridcolor": "white",
             "linecolor": "white",
             "minorgridcolor": "white",
             "startlinecolor": "#2a3f5f"
            },
            "type": "carpet"
           }
          ],
          "choropleth": [
           {
            "colorbar": {
             "outlinewidth": 0,
             "ticks": ""
            },
            "type": "choropleth"
           }
          ],
          "contour": [
           {
            "colorbar": {
             "outlinewidth": 0,
             "ticks": ""
            },
            "colorscale": [
             [
              0,
              "#0d0887"
             ],
             [
              0.1111111111111111,
              "#46039f"
             ],
             [
              0.2222222222222222,
              "#7201a8"
             ],
             [
              0.3333333333333333,
              "#9c179e"
             ],
             [
              0.4444444444444444,
              "#bd3786"
             ],
             [
              0.5555555555555556,
              "#d8576b"
             ],
             [
              0.6666666666666666,
              "#ed7953"
             ],
             [
              0.7777777777777778,
              "#fb9f3a"
             ],
             [
              0.8888888888888888,
              "#fdca26"
             ],
             [
              1,
              "#f0f921"
             ]
            ],
            "type": "contour"
           }
          ],
          "contourcarpet": [
           {
            "colorbar": {
             "outlinewidth": 0,
             "ticks": ""
            },
            "type": "contourcarpet"
           }
          ],
          "heatmap": [
           {
            "colorbar": {
             "outlinewidth": 0,
             "ticks": ""
            },
            "colorscale": [
             [
              0,
              "#0d0887"
             ],
             [
              0.1111111111111111,
              "#46039f"
             ],
             [
              0.2222222222222222,
              "#7201a8"
             ],
             [
              0.3333333333333333,
              "#9c179e"
             ],
             [
              0.4444444444444444,
              "#bd3786"
             ],
             [
              0.5555555555555556,
              "#d8576b"
             ],
             [
              0.6666666666666666,
              "#ed7953"
             ],
             [
              0.7777777777777778,
              "#fb9f3a"
             ],
             [
              0.8888888888888888,
              "#fdca26"
             ],
             [
              1,
              "#f0f921"
             ]
            ],
            "type": "heatmap"
           }
          ],
          "histogram": [
           {
            "marker": {
             "pattern": {
              "fillmode": "overlay",
              "size": 10,
              "solidity": 0.2
             }
            },
            "type": "histogram"
           }
          ],
          "histogram2d": [
           {
            "colorbar": {
             "outlinewidth": 0,
             "ticks": ""
            },
            "colorscale": [
             [
              0,
              "#0d0887"
             ],
             [
              0.1111111111111111,
              "#46039f"
             ],
             [
              0.2222222222222222,
              "#7201a8"
             ],
             [
              0.3333333333333333,
              "#9c179e"
             ],
             [
              0.4444444444444444,
              "#bd3786"
             ],
             [
              0.5555555555555556,
              "#d8576b"
             ],
             [
              0.6666666666666666,
              "#ed7953"
             ],
             [
              0.7777777777777778,
              "#fb9f3a"
             ],
             [
              0.8888888888888888,
              "#fdca26"
             ],
             [
              1,
              "#f0f921"
             ]
            ],
            "type": "histogram2d"
           }
          ],
          "histogram2dcontour": [
           {
            "colorbar": {
             "outlinewidth": 0,
             "ticks": ""
            },
            "colorscale": [
             [
              0,
              "#0d0887"
             ],
             [
              0.1111111111111111,
              "#46039f"
             ],
             [
              0.2222222222222222,
              "#7201a8"
             ],
             [
              0.3333333333333333,
              "#9c179e"
             ],
             [
              0.4444444444444444,
              "#bd3786"
             ],
             [
              0.5555555555555556,
              "#d8576b"
             ],
             [
              0.6666666666666666,
              "#ed7953"
             ],
             [
              0.7777777777777778,
              "#fb9f3a"
             ],
             [
              0.8888888888888888,
              "#fdca26"
             ],
             [
              1,
              "#f0f921"
             ]
            ],
            "type": "histogram2dcontour"
           }
          ],
          "mesh3d": [
           {
            "colorbar": {
             "outlinewidth": 0,
             "ticks": ""
            },
            "type": "mesh3d"
           }
          ],
          "parcoords": [
           {
            "line": {
             "colorbar": {
              "outlinewidth": 0,
              "ticks": ""
             }
            },
            "type": "parcoords"
           }
          ],
          "pie": [
           {
            "automargin": true,
            "type": "pie"
           }
          ],
          "scatter": [
           {
            "fillpattern": {
             "fillmode": "overlay",
             "size": 10,
             "solidity": 0.2
            },
            "type": "scatter"
           }
          ],
          "scatter3d": [
           {
            "line": {
             "colorbar": {
              "outlinewidth": 0,
              "ticks": ""
             }
            },
            "marker": {
             "colorbar": {
              "outlinewidth": 0,
              "ticks": ""
             }
            },
            "type": "scatter3d"
           }
          ],
          "scattercarpet": [
           {
            "marker": {
             "colorbar": {
              "outlinewidth": 0,
              "ticks": ""
             }
            },
            "type": "scattercarpet"
           }
          ],
          "scattergeo": [
           {
            "marker": {
             "colorbar": {
              "outlinewidth": 0,
              "ticks": ""
             }
            },
            "type": "scattergeo"
           }
          ],
          "scattergl": [
           {
            "marker": {
             "colorbar": {
              "outlinewidth": 0,
              "ticks": ""
             }
            },
            "type": "scattergl"
           }
          ],
          "scattermap": [
           {
            "marker": {
             "colorbar": {
              "outlinewidth": 0,
              "ticks": ""
             }
            },
            "type": "scattermap"
           }
          ],
          "scattermapbox": [
           {
            "marker": {
             "colorbar": {
              "outlinewidth": 0,
              "ticks": ""
             }
            },
            "type": "scattermapbox"
           }
          ],
          "scatterpolar": [
           {
            "marker": {
             "colorbar": {
              "outlinewidth": 0,
              "ticks": ""
             }
            },
            "type": "scatterpolar"
           }
          ],
          "scatterpolargl": [
           {
            "marker": {
             "colorbar": {
              "outlinewidth": 0,
              "ticks": ""
             }
            },
            "type": "scatterpolargl"
           }
          ],
          "scatterternary": [
           {
            "marker": {
             "colorbar": {
              "outlinewidth": 0,
              "ticks": ""
             }
            },
            "type": "scatterternary"
           }
          ],
          "surface": [
           {
            "colorbar": {
             "outlinewidth": 0,
             "ticks": ""
            },
            "colorscale": [
             [
              0,
              "#0d0887"
             ],
             [
              0.1111111111111111,
              "#46039f"
             ],
             [
              0.2222222222222222,
              "#7201a8"
             ],
             [
              0.3333333333333333,
              "#9c179e"
             ],
             [
              0.4444444444444444,
              "#bd3786"
             ],
             [
              0.5555555555555556,
              "#d8576b"
             ],
             [
              0.6666666666666666,
              "#ed7953"
             ],
             [
              0.7777777777777778,
              "#fb9f3a"
             ],
             [
              0.8888888888888888,
              "#fdca26"
             ],
             [
              1,
              "#f0f921"
             ]
            ],
            "type": "surface"
           }
          ],
          "table": [
           {
            "cells": {
             "fill": {
              "color": "#EBF0F8"
             },
             "line": {
              "color": "white"
             }
            },
            "header": {
             "fill": {
              "color": "#C8D4E3"
             },
             "line": {
              "color": "white"
             }
            },
            "type": "table"
           }
          ]
         },
         "layout": {
          "annotationdefaults": {
           "arrowcolor": "#2a3f5f",
           "arrowhead": 0,
           "arrowwidth": 1
          },
          "autotypenumbers": "strict",
          "coloraxis": {
           "colorbar": {
            "outlinewidth": 0,
            "ticks": ""
           }
          },
          "colorscale": {
           "diverging": [
            [
             0,
             "#8e0152"
            ],
            [
             0.1,
             "#c51b7d"
            ],
            [
             0.2,
             "#de77ae"
            ],
            [
             0.3,
             "#f1b6da"
            ],
            [
             0.4,
             "#fde0ef"
            ],
            [
             0.5,
             "#f7f7f7"
            ],
            [
             0.6,
             "#e6f5d0"
            ],
            [
             0.7,
             "#b8e186"
            ],
            [
             0.8,
             "#7fbc41"
            ],
            [
             0.9,
             "#4d9221"
            ],
            [
             1,
             "#276419"
            ]
           ],
           "sequential": [
            [
             0,
             "#0d0887"
            ],
            [
             0.1111111111111111,
             "#46039f"
            ],
            [
             0.2222222222222222,
             "#7201a8"
            ],
            [
             0.3333333333333333,
             "#9c179e"
            ],
            [
             0.4444444444444444,
             "#bd3786"
            ],
            [
             0.5555555555555556,
             "#d8576b"
            ],
            [
             0.6666666666666666,
             "#ed7953"
            ],
            [
             0.7777777777777778,
             "#fb9f3a"
            ],
            [
             0.8888888888888888,
             "#fdca26"
            ],
            [
             1,
             "#f0f921"
            ]
           ],
           "sequentialminus": [
            [
             0,
             "#0d0887"
            ],
            [
             0.1111111111111111,
             "#46039f"
            ],
            [
             0.2222222222222222,
             "#7201a8"
            ],
            [
             0.3333333333333333,
             "#9c179e"
            ],
            [
             0.4444444444444444,
             "#bd3786"
            ],
            [
             0.5555555555555556,
             "#d8576b"
            ],
            [
             0.6666666666666666,
             "#ed7953"
            ],
            [
             0.7777777777777778,
             "#fb9f3a"
            ],
            [
             0.8888888888888888,
             "#fdca26"
            ],
            [
             1,
             "#f0f921"
            ]
           ]
          },
          "colorway": [
           "#636efa",
           "#EF553B",
           "#00cc96",
           "#ab63fa",
           "#FFA15A",
           "#19d3f3",
           "#FF6692",
           "#B6E880",
           "#FF97FF",
           "#FECB52"
          ],
          "font": {
           "color": "#2a3f5f"
          },
          "geo": {
           "bgcolor": "white",
           "lakecolor": "white",
           "landcolor": "#E5ECF6",
           "showlakes": true,
           "showland": true,
           "subunitcolor": "white"
          },
          "hoverlabel": {
           "align": "left"
          },
          "hovermode": "closest",
          "mapbox": {
           "style": "light"
          },
          "paper_bgcolor": "white",
          "plot_bgcolor": "#E5ECF6",
          "polar": {
           "angularaxis": {
            "gridcolor": "white",
            "linecolor": "white",
            "ticks": ""
           },
           "bgcolor": "#E5ECF6",
           "radialaxis": {
            "gridcolor": "white",
            "linecolor": "white",
            "ticks": ""
           }
          },
          "scene": {
           "xaxis": {
            "backgroundcolor": "#E5ECF6",
            "gridcolor": "white",
            "gridwidth": 2,
            "linecolor": "white",
            "showbackground": true,
            "ticks": "",
            "zerolinecolor": "white"
           },
           "yaxis": {
            "backgroundcolor": "#E5ECF6",
            "gridcolor": "white",
            "gridwidth": 2,
            "linecolor": "white",
            "showbackground": true,
            "ticks": "",
            "zerolinecolor": "white"
           },
           "zaxis": {
            "backgroundcolor": "#E5ECF6",
            "gridcolor": "white",
            "gridwidth": 2,
            "linecolor": "white",
            "showbackground": true,
            "ticks": "",
            "zerolinecolor": "white"
           }
          },
          "shapedefaults": {
           "line": {
            "color": "#2a3f5f"
           }
          },
          "ternary": {
           "aaxis": {
            "gridcolor": "white",
            "linecolor": "white",
            "ticks": ""
           },
           "baxis": {
            "gridcolor": "white",
            "linecolor": "white",
            "ticks": ""
           },
           "bgcolor": "#E5ECF6",
           "caxis": {
            "gridcolor": "white",
            "linecolor": "white",
            "ticks": ""
           }
          },
          "title": {
           "x": 0.05
          },
          "xaxis": {
           "automargin": true,
           "gridcolor": "white",
           "linecolor": "white",
           "ticks": "",
           "title": {
            "standoff": 15
           },
           "zerolinecolor": "white",
           "zerolinewidth": 2
          },
          "yaxis": {
           "automargin": true,
           "gridcolor": "white",
           "linecolor": "white",
           "ticks": "",
           "title": {
            "standoff": 15
           },
           "zerolinecolor": "white",
           "zerolinewidth": 2
          }
         }
        },
        "title": {
         "text": "Financial Variables Distribution"
        },
        "width": 1000,
        "xaxis": {
         "anchor": "y",
         "domain": [
          0,
          0.45
         ],
         "title": {
          "text": "Income Level"
         }
        },
        "xaxis2": {
         "anchor": "y2",
         "domain": [
          0.55,
          1
         ],
         "title": {
          "text": "Total Household Income"
         }
        },
        "yaxis": {
         "anchor": "x",
         "domain": [
          0,
          1
         ],
         "title": {
          "text": "Count"
         }
        },
        "yaxis2": {
         "anchor": "x2",
         "domain": [
          0,
          1
         ],
         "title": {
          "text": "Count"
         }
        }
       }
      }
     },
     "metadata": {},
     "output_type": "display_data"
    }
   ],
   "source": [
    "fig4 = make_subplots(rows=1, cols=2, subplot_titles=('Income Level Distribution',\n",
    "                                                    'Total Household Income Distribution',\n",
    "                                                    ))\n",
    "\n",
    "fig4.add_trace(go.Bar(x=df['Income_Level'].value_counts().index, y=df['Income_Level'].value_counts().values, showlegend=False), row=1, col=1)\n",
    "\n",
    "fig4.add_trace(go.Bar(x=df['Total_Household_Income'].value_counts().index, y=df['Total_Household_Income'].value_counts().values, showlegend=False), row=1, col=2)\n",
    "    \n",
    "\n",
    "fig4.update_layout(height=500, width=1000, title_text=\"Financial Variables Distribution\") \n",
    "\n",
    "fig4.update_layout(\n",
    "    legend_tracegroupgap=30,\n",
    "    legend_title_text=\"Legend Groups\"\n",
    ")\n",
    "fig4.update_yaxes(title_text=\"Count\", row=1, col=1)\n",
    "fig4.update_yaxes(title_text='Count', row=1, col=2)\n",
    "\n",
    "fig4.update_xaxes(title_text=\"Income Level\", row=1, col=1)\n",
    "fig4.update_xaxes(title_text=\"Total Household Income\", row=1, col=2)\n",
    "\n",
    "fig4.show()"
   ]
  },
  {
   "cell_type": "markdown",
   "id": "e0e6ea14",
   "metadata": {},
   "source": [
    "1. **Income Level Distribution**:\n",
    "    - The majority of respondents fall under the \"Middle Income\" category, followed by \"Low Income\" and then \"High Income.\"\n",
    "\n",
    "2. **Total Household Income Distribution**:\n",
    "    - Most respondents have a total household income of \"Under USD500\" or \"Between USD901 and USD1,800.\"\n",
    "    - Very few respondents have a household income of \"More than USD4,500.\"\n",
    "\n",
    "3. **Concern About Rising Prices**:\n",
    "    - A significant portion of respondents are \"Quite concerned\" about rising prices.\n",
    "    - A smaller group is \"Neutral,\" and very few are \"Not concerned.\"\n",
    "\n",
    "4. **Borrowed Money Distribution**:\n",
    "    - Many respondents have \"had to borrow a few times\" to meet their expenses due to rising prices.\n",
    "    - A smaller group \"had to borrow often,\" while some \"have not borrowed.\"\n",
    "\n",
    "5. **Ability to Meet Regular Expenses**:\n",
    "    - A majority of respondents answered \"Yes\" to being able to meet regular expenses.\n",
    "    - A smaller group answered \"Maybe,\" and the least answered \"No.\"\n",
    "6. **Stress Level**:\n",
    "    - Most people are stressed about the situation of their finances and the economy.\n",
    "\n",
    "7. **Income Level and Concern About Rising Prices**:\n",
    "    - Across all income levels, the majority of respondents are \"Quite concerned\" about rising prices.\n",
    "    - \"Neutral\" and \"Not concerned\" responses are less frequent, especially in the \"Low Income\" group.\n",
    "\n",
    "8. **Borrowed Money and Expenses Ability**:\n",
    "    - Respondents who \"had to borrow often\" or \"a few times\" are more likely to answer \"Maybe\" or \"Yes\" regarding their ability to meet regular expenses.\n",
    "    - Most people who borrow money are possibly able to meet their regular expenses thus might be their promay reason for borrowing.\n"
   ]
  },
  {
   "cell_type": "markdown",
   "id": "0a10ea71",
   "metadata": {},
   "source": [
    "### Insights from Household Characteristics Distribution"
   ]
  },
  {
   "cell_type": "code",
   "execution_count": 62,
   "id": "3fb492ef",
   "metadata": {},
   "outputs": [
    {
     "data": {
      "application/vnd.microsoft.datawrangler.viewer.v0+json": {
       "columns": [
        {
         "name": "Household_Size",
         "rawType": "object",
         "type": "string"
        },
        {
         "name": "Between USD1,801 and USD4,500",
         "rawType": "int64",
         "type": "integer"
        },
        {
         "name": "Between USD501 and USD900",
         "rawType": "int64",
         "type": "integer"
        },
        {
         "name": "Between USD901 and USD1,800",
         "rawType": "int64",
         "type": "integer"
        },
        {
         "name": "More than USD4,500",
         "rawType": "int64",
         "type": "integer"
        },
        {
         "name": "Under USD500",
         "rawType": "int64",
         "type": "integer"
        }
       ],
       "ref": "089542ac-1e85-4b2c-a795-93fc9b1df561",
       "rows": [
        [
         "3 or 4 people",
         "106",
         "608",
         "392",
         "19",
         "539"
        ],
        [
         "5 or 6 people",
         "108",
         "207",
         "256",
         "14",
         "126"
        ],
        [
         "More than 6 people",
         "22",
         "19",
         "25",
         "11",
         "15"
        ],
        [
         "Not Provided",
         "31",
         "119",
         "91",
         "7",
         "222"
        ],
        [
         "Up to 2 people",
         "29",
         "247",
         "94",
         "14",
         "613"
        ]
       ],
       "shape": {
        "columns": 5,
        "rows": 5
       }
      },
      "text/html": [
       "<div>\n",
       "<style scoped>\n",
       "    .dataframe tbody tr th:only-of-type {\n",
       "        vertical-align: middle;\n",
       "    }\n",
       "\n",
       "    .dataframe tbody tr th {\n",
       "        vertical-align: top;\n",
       "    }\n",
       "\n",
       "    .dataframe thead th {\n",
       "        text-align: right;\n",
       "    }\n",
       "</style>\n",
       "<table border=\"1\" class=\"dataframe\">\n",
       "  <thead>\n",
       "    <tr style=\"text-align: right;\">\n",
       "      <th>Total_Household_Income</th>\n",
       "      <th>Between USD1,801 and USD4,500</th>\n",
       "      <th>Between USD501 and USD900</th>\n",
       "      <th>Between USD901 and USD1,800</th>\n",
       "      <th>More than USD4,500</th>\n",
       "      <th>Under USD500</th>\n",
       "    </tr>\n",
       "    <tr>\n",
       "      <th>Household_Size</th>\n",
       "      <th></th>\n",
       "      <th></th>\n",
       "      <th></th>\n",
       "      <th></th>\n",
       "      <th></th>\n",
       "    </tr>\n",
       "  </thead>\n",
       "  <tbody>\n",
       "    <tr>\n",
       "      <th>3 or 4 people</th>\n",
       "      <td>106</td>\n",
       "      <td>608</td>\n",
       "      <td>392</td>\n",
       "      <td>19</td>\n",
       "      <td>539</td>\n",
       "    </tr>\n",
       "    <tr>\n",
       "      <th>5 or 6 people</th>\n",
       "      <td>108</td>\n",
       "      <td>207</td>\n",
       "      <td>256</td>\n",
       "      <td>14</td>\n",
       "      <td>126</td>\n",
       "    </tr>\n",
       "    <tr>\n",
       "      <th>More than 6 people</th>\n",
       "      <td>22</td>\n",
       "      <td>19</td>\n",
       "      <td>25</td>\n",
       "      <td>11</td>\n",
       "      <td>15</td>\n",
       "    </tr>\n",
       "    <tr>\n",
       "      <th>Not Provided</th>\n",
       "      <td>31</td>\n",
       "      <td>119</td>\n",
       "      <td>91</td>\n",
       "      <td>7</td>\n",
       "      <td>222</td>\n",
       "    </tr>\n",
       "    <tr>\n",
       "      <th>Up to 2 people</th>\n",
       "      <td>29</td>\n",
       "      <td>247</td>\n",
       "      <td>94</td>\n",
       "      <td>14</td>\n",
       "      <td>613</td>\n",
       "    </tr>\n",
       "  </tbody>\n",
       "</table>\n",
       "</div>"
      ],
      "text/plain": [
       "Total_Household_Income  Between USD1,801 and USD4,500  \\\n",
       "Household_Size                                          \n",
       "3 or 4 people                                     106   \n",
       "5 or 6 people                                     108   \n",
       "More than 6 people                                 22   \n",
       "Not Provided                                       31   \n",
       "Up to 2 people                                     29   \n",
       "\n",
       "Total_Household_Income  Between USD501 and USD900  \\\n",
       "Household_Size                                      \n",
       "3 or 4 people                                 608   \n",
       "5 or 6 people                                 207   \n",
       "More than 6 people                             19   \n",
       "Not Provided                                  119   \n",
       "Up to 2 people                                247   \n",
       "\n",
       "Total_Household_Income  Between USD901 and USD1,800  More than USD4,500  \\\n",
       "Household_Size                                                            \n",
       "3 or 4 people                                   392                  19   \n",
       "5 or 6 people                                   256                  14   \n",
       "More than 6 people                               25                  11   \n",
       "Not Provided                                     91                   7   \n",
       "Up to 2 people                                   94                  14   \n",
       "\n",
       "Total_Household_Income  Under USD500  \n",
       "Household_Size                        \n",
       "3 or 4 people                    539  \n",
       "5 or 6 people                    126  \n",
       "More than 6 people                15  \n",
       "Not Provided                     222  \n",
       "Up to 2 people                   613  "
      ]
     },
     "execution_count": 62,
     "metadata": {},
     "output_type": "execute_result"
    }
   ],
   "source": [
    "size_income_crosstab = pd.crosstab(df['Household_Size'], df['Total_Household_Income'])\n",
    "size_income_crosstab"
   ]
  },
  {
   "cell_type": "code",
   "execution_count": 70,
   "id": "ee614663",
   "metadata": {},
   "outputs": [
    {
     "data": {
      "application/vnd.plotly.v1+json": {
       "config": {
        "plotlyServerURL": "https://plot.ly"
       },
       "data": [
        {
         "name": "Household Size",
         "type": "bar",
         "x": [
          "3 or 4 people",
          "Up to 2 people",
          "5 or 6 people",
          "Not Provided",
          "More than 6 people"
         ],
         "xaxis": "x",
         "y": {
          "bdata": "gAblA8cC1gFcAA==",
          "dtype": "i2"
         },
         "yaxis": "y"
        },
        {
         "name": "Children Under 18",
         "type": "bar",
         "x": [
          "Yes",
          "No"
         ],
         "xaxis": "x2",
         "y": {
          "bdata": "fwrfBA==",
          "dtype": "i2"
         },
         "yaxis": "y2"
        },
        {
         "name": "Household Income",
         "type": "bar",
         "x": [
          "Under USD500",
          "Between USD501 and USD900",
          "Between USD901 and USD1,800",
          "Between USD1,801 and USD4,500",
          "More than USD4,500"
         ],
         "xaxis": "x3",
         "y": {
          "bdata": "6wWwBFoDKAFBAA==",
          "dtype": "i2"
         },
         "yaxis": "y3"
        }
       ],
       "layout": {
        "annotations": [
         {
          "font": {
           "size": 16
          },
          "showarrow": false,
          "text": "Household Size Distribution",
          "x": 0.14444444444444446,
          "xanchor": "center",
          "xref": "paper",
          "y": 1,
          "yanchor": "bottom",
          "yref": "paper"
         },
         {
          "font": {
           "size": 16
          },
          "showarrow": false,
          "text": "Children Under 18 Distribution",
          "x": 0.5,
          "xanchor": "center",
          "xref": "paper",
          "y": 1,
          "yanchor": "bottom",
          "yref": "paper"
         },
         {
          "font": {
           "size": 16
          },
          "showarrow": false,
          "text": "Household Income Distribution",
          "x": 0.8555555555555556,
          "xanchor": "center",
          "xref": "paper",
          "y": 1,
          "yanchor": "bottom",
          "yref": "paper"
         }
        ],
        "height": 600,
        "showlegend": false,
        "template": {
         "data": {
          "bar": [
           {
            "error_x": {
             "color": "#2a3f5f"
            },
            "error_y": {
             "color": "#2a3f5f"
            },
            "marker": {
             "line": {
              "color": "#E5ECF6",
              "width": 0.5
             },
             "pattern": {
              "fillmode": "overlay",
              "size": 10,
              "solidity": 0.2
             }
            },
            "type": "bar"
           }
          ],
          "barpolar": [
           {
            "marker": {
             "line": {
              "color": "#E5ECF6",
              "width": 0.5
             },
             "pattern": {
              "fillmode": "overlay",
              "size": 10,
              "solidity": 0.2
             }
            },
            "type": "barpolar"
           }
          ],
          "carpet": [
           {
            "aaxis": {
             "endlinecolor": "#2a3f5f",
             "gridcolor": "white",
             "linecolor": "white",
             "minorgridcolor": "white",
             "startlinecolor": "#2a3f5f"
            },
            "baxis": {
             "endlinecolor": "#2a3f5f",
             "gridcolor": "white",
             "linecolor": "white",
             "minorgridcolor": "white",
             "startlinecolor": "#2a3f5f"
            },
            "type": "carpet"
           }
          ],
          "choropleth": [
           {
            "colorbar": {
             "outlinewidth": 0,
             "ticks": ""
            },
            "type": "choropleth"
           }
          ],
          "contour": [
           {
            "colorbar": {
             "outlinewidth": 0,
             "ticks": ""
            },
            "colorscale": [
             [
              0,
              "#0d0887"
             ],
             [
              0.1111111111111111,
              "#46039f"
             ],
             [
              0.2222222222222222,
              "#7201a8"
             ],
             [
              0.3333333333333333,
              "#9c179e"
             ],
             [
              0.4444444444444444,
              "#bd3786"
             ],
             [
              0.5555555555555556,
              "#d8576b"
             ],
             [
              0.6666666666666666,
              "#ed7953"
             ],
             [
              0.7777777777777778,
              "#fb9f3a"
             ],
             [
              0.8888888888888888,
              "#fdca26"
             ],
             [
              1,
              "#f0f921"
             ]
            ],
            "type": "contour"
           }
          ],
          "contourcarpet": [
           {
            "colorbar": {
             "outlinewidth": 0,
             "ticks": ""
            },
            "type": "contourcarpet"
           }
          ],
          "heatmap": [
           {
            "colorbar": {
             "outlinewidth": 0,
             "ticks": ""
            },
            "colorscale": [
             [
              0,
              "#0d0887"
             ],
             [
              0.1111111111111111,
              "#46039f"
             ],
             [
              0.2222222222222222,
              "#7201a8"
             ],
             [
              0.3333333333333333,
              "#9c179e"
             ],
             [
              0.4444444444444444,
              "#bd3786"
             ],
             [
              0.5555555555555556,
              "#d8576b"
             ],
             [
              0.6666666666666666,
              "#ed7953"
             ],
             [
              0.7777777777777778,
              "#fb9f3a"
             ],
             [
              0.8888888888888888,
              "#fdca26"
             ],
             [
              1,
              "#f0f921"
             ]
            ],
            "type": "heatmap"
           }
          ],
          "histogram": [
           {
            "marker": {
             "pattern": {
              "fillmode": "overlay",
              "size": 10,
              "solidity": 0.2
             }
            },
            "type": "histogram"
           }
          ],
          "histogram2d": [
           {
            "colorbar": {
             "outlinewidth": 0,
             "ticks": ""
            },
            "colorscale": [
             [
              0,
              "#0d0887"
             ],
             [
              0.1111111111111111,
              "#46039f"
             ],
             [
              0.2222222222222222,
              "#7201a8"
             ],
             [
              0.3333333333333333,
              "#9c179e"
             ],
             [
              0.4444444444444444,
              "#bd3786"
             ],
             [
              0.5555555555555556,
              "#d8576b"
             ],
             [
              0.6666666666666666,
              "#ed7953"
             ],
             [
              0.7777777777777778,
              "#fb9f3a"
             ],
             [
              0.8888888888888888,
              "#fdca26"
             ],
             [
              1,
              "#f0f921"
             ]
            ],
            "type": "histogram2d"
           }
          ],
          "histogram2dcontour": [
           {
            "colorbar": {
             "outlinewidth": 0,
             "ticks": ""
            },
            "colorscale": [
             [
              0,
              "#0d0887"
             ],
             [
              0.1111111111111111,
              "#46039f"
             ],
             [
              0.2222222222222222,
              "#7201a8"
             ],
             [
              0.3333333333333333,
              "#9c179e"
             ],
             [
              0.4444444444444444,
              "#bd3786"
             ],
             [
              0.5555555555555556,
              "#d8576b"
             ],
             [
              0.6666666666666666,
              "#ed7953"
             ],
             [
              0.7777777777777778,
              "#fb9f3a"
             ],
             [
              0.8888888888888888,
              "#fdca26"
             ],
             [
              1,
              "#f0f921"
             ]
            ],
            "type": "histogram2dcontour"
           }
          ],
          "mesh3d": [
           {
            "colorbar": {
             "outlinewidth": 0,
             "ticks": ""
            },
            "type": "mesh3d"
           }
          ],
          "parcoords": [
           {
            "line": {
             "colorbar": {
              "outlinewidth": 0,
              "ticks": ""
             }
            },
            "type": "parcoords"
           }
          ],
          "pie": [
           {
            "automargin": true,
            "type": "pie"
           }
          ],
          "scatter": [
           {
            "fillpattern": {
             "fillmode": "overlay",
             "size": 10,
             "solidity": 0.2
            },
            "type": "scatter"
           }
          ],
          "scatter3d": [
           {
            "line": {
             "colorbar": {
              "outlinewidth": 0,
              "ticks": ""
             }
            },
            "marker": {
             "colorbar": {
              "outlinewidth": 0,
              "ticks": ""
             }
            },
            "type": "scatter3d"
           }
          ],
          "scattercarpet": [
           {
            "marker": {
             "colorbar": {
              "outlinewidth": 0,
              "ticks": ""
             }
            },
            "type": "scattercarpet"
           }
          ],
          "scattergeo": [
           {
            "marker": {
             "colorbar": {
              "outlinewidth": 0,
              "ticks": ""
             }
            },
            "type": "scattergeo"
           }
          ],
          "scattergl": [
           {
            "marker": {
             "colorbar": {
              "outlinewidth": 0,
              "ticks": ""
             }
            },
            "type": "scattergl"
           }
          ],
          "scattermap": [
           {
            "marker": {
             "colorbar": {
              "outlinewidth": 0,
              "ticks": ""
             }
            },
            "type": "scattermap"
           }
          ],
          "scattermapbox": [
           {
            "marker": {
             "colorbar": {
              "outlinewidth": 0,
              "ticks": ""
             }
            },
            "type": "scattermapbox"
           }
          ],
          "scatterpolar": [
           {
            "marker": {
             "colorbar": {
              "outlinewidth": 0,
              "ticks": ""
             }
            },
            "type": "scatterpolar"
           }
          ],
          "scatterpolargl": [
           {
            "marker": {
             "colorbar": {
              "outlinewidth": 0,
              "ticks": ""
             }
            },
            "type": "scatterpolargl"
           }
          ],
          "scatterternary": [
           {
            "marker": {
             "colorbar": {
              "outlinewidth": 0,
              "ticks": ""
             }
            },
            "type": "scatterternary"
           }
          ],
          "surface": [
           {
            "colorbar": {
             "outlinewidth": 0,
             "ticks": ""
            },
            "colorscale": [
             [
              0,
              "#0d0887"
             ],
             [
              0.1111111111111111,
              "#46039f"
             ],
             [
              0.2222222222222222,
              "#7201a8"
             ],
             [
              0.3333333333333333,
              "#9c179e"
             ],
             [
              0.4444444444444444,
              "#bd3786"
             ],
             [
              0.5555555555555556,
              "#d8576b"
             ],
             [
              0.6666666666666666,
              "#ed7953"
             ],
             [
              0.7777777777777778,
              "#fb9f3a"
             ],
             [
              0.8888888888888888,
              "#fdca26"
             ],
             [
              1,
              "#f0f921"
             ]
            ],
            "type": "surface"
           }
          ],
          "table": [
           {
            "cells": {
             "fill": {
              "color": "#EBF0F8"
             },
             "line": {
              "color": "white"
             }
            },
            "header": {
             "fill": {
              "color": "#C8D4E3"
             },
             "line": {
              "color": "white"
             }
            },
            "type": "table"
           }
          ]
         },
         "layout": {
          "annotationdefaults": {
           "arrowcolor": "#2a3f5f",
           "arrowhead": 0,
           "arrowwidth": 1
          },
          "autotypenumbers": "strict",
          "coloraxis": {
           "colorbar": {
            "outlinewidth": 0,
            "ticks": ""
           }
          },
          "colorscale": {
           "diverging": [
            [
             0,
             "#8e0152"
            ],
            [
             0.1,
             "#c51b7d"
            ],
            [
             0.2,
             "#de77ae"
            ],
            [
             0.3,
             "#f1b6da"
            ],
            [
             0.4,
             "#fde0ef"
            ],
            [
             0.5,
             "#f7f7f7"
            ],
            [
             0.6,
             "#e6f5d0"
            ],
            [
             0.7,
             "#b8e186"
            ],
            [
             0.8,
             "#7fbc41"
            ],
            [
             0.9,
             "#4d9221"
            ],
            [
             1,
             "#276419"
            ]
           ],
           "sequential": [
            [
             0,
             "#0d0887"
            ],
            [
             0.1111111111111111,
             "#46039f"
            ],
            [
             0.2222222222222222,
             "#7201a8"
            ],
            [
             0.3333333333333333,
             "#9c179e"
            ],
            [
             0.4444444444444444,
             "#bd3786"
            ],
            [
             0.5555555555555556,
             "#d8576b"
            ],
            [
             0.6666666666666666,
             "#ed7953"
            ],
            [
             0.7777777777777778,
             "#fb9f3a"
            ],
            [
             0.8888888888888888,
             "#fdca26"
            ],
            [
             1,
             "#f0f921"
            ]
           ],
           "sequentialminus": [
            [
             0,
             "#0d0887"
            ],
            [
             0.1111111111111111,
             "#46039f"
            ],
            [
             0.2222222222222222,
             "#7201a8"
            ],
            [
             0.3333333333333333,
             "#9c179e"
            ],
            [
             0.4444444444444444,
             "#bd3786"
            ],
            [
             0.5555555555555556,
             "#d8576b"
            ],
            [
             0.6666666666666666,
             "#ed7953"
            ],
            [
             0.7777777777777778,
             "#fb9f3a"
            ],
            [
             0.8888888888888888,
             "#fdca26"
            ],
            [
             1,
             "#f0f921"
            ]
           ]
          },
          "colorway": [
           "#636efa",
           "#EF553B",
           "#00cc96",
           "#ab63fa",
           "#FFA15A",
           "#19d3f3",
           "#FF6692",
           "#B6E880",
           "#FF97FF",
           "#FECB52"
          ],
          "font": {
           "color": "#2a3f5f"
          },
          "geo": {
           "bgcolor": "white",
           "lakecolor": "white",
           "landcolor": "#E5ECF6",
           "showlakes": true,
           "showland": true,
           "subunitcolor": "white"
          },
          "hoverlabel": {
           "align": "left"
          },
          "hovermode": "closest",
          "mapbox": {
           "style": "light"
          },
          "paper_bgcolor": "white",
          "plot_bgcolor": "#E5ECF6",
          "polar": {
           "angularaxis": {
            "gridcolor": "white",
            "linecolor": "white",
            "ticks": ""
           },
           "bgcolor": "#E5ECF6",
           "radialaxis": {
            "gridcolor": "white",
            "linecolor": "white",
            "ticks": ""
           }
          },
          "scene": {
           "xaxis": {
            "backgroundcolor": "#E5ECF6",
            "gridcolor": "white",
            "gridwidth": 2,
            "linecolor": "white",
            "showbackground": true,
            "ticks": "",
            "zerolinecolor": "white"
           },
           "yaxis": {
            "backgroundcolor": "#E5ECF6",
            "gridcolor": "white",
            "gridwidth": 2,
            "linecolor": "white",
            "showbackground": true,
            "ticks": "",
            "zerolinecolor": "white"
           },
           "zaxis": {
            "backgroundcolor": "#E5ECF6",
            "gridcolor": "white",
            "gridwidth": 2,
            "linecolor": "white",
            "showbackground": true,
            "ticks": "",
            "zerolinecolor": "white"
           }
          },
          "shapedefaults": {
           "line": {
            "color": "#2a3f5f"
           }
          },
          "ternary": {
           "aaxis": {
            "gridcolor": "white",
            "linecolor": "white",
            "ticks": ""
           },
           "baxis": {
            "gridcolor": "white",
            "linecolor": "white",
            "ticks": ""
           },
           "bgcolor": "#E5ECF6",
           "caxis": {
            "gridcolor": "white",
            "linecolor": "white",
            "ticks": ""
           }
          },
          "title": {
           "x": 0.05
          },
          "xaxis": {
           "automargin": true,
           "gridcolor": "white",
           "linecolor": "white",
           "ticks": "",
           "title": {
            "standoff": 15
           },
           "zerolinecolor": "white",
           "zerolinewidth": 2
          },
          "yaxis": {
           "automargin": true,
           "gridcolor": "white",
           "linecolor": "white",
           "ticks": "",
           "title": {
            "standoff": 15
           },
           "zerolinecolor": "white",
           "zerolinewidth": 2
          }
         }
        },
        "title": {
         "text": "Household Characteristics Distribution"
        },
        "width": 1200,
        "xaxis": {
         "anchor": "y",
         "domain": [
          0,
          0.2888888888888889
         ],
         "title": {
          "text": "Household Size"
         }
        },
        "xaxis2": {
         "anchor": "y2",
         "domain": [
          0.35555555555555557,
          0.6444444444444445
         ],
         "title": {
          "text": "Children Under 18"
         }
        },
        "xaxis3": {
         "anchor": "y3",
         "domain": [
          0.7111111111111111,
          1
         ],
         "title": {
          "text": "Household Income"
         }
        },
        "yaxis": {
         "anchor": "x",
         "domain": [
          0,
          1
         ],
         "title": {
          "text": "Count"
         }
        },
        "yaxis2": {
         "anchor": "x2",
         "domain": [
          0,
          1
         ],
         "matches": "y",
         "showticklabels": false,
         "title": {
          "text": "Count"
         }
        },
        "yaxis3": {
         "anchor": "x3",
         "domain": [
          0,
          1
         ],
         "matches": "y",
         "showticklabels": false,
         "title": {
          "text": "Count"
         }
        }
       }
      }
     },
     "metadata": {},
     "output_type": "display_data"
    }
   ],
   "source": [
    "fig5 = make_subplots(rows=1, cols=3, shared_yaxes=True, subplot_titles=(\n",
    "    'Household Size Distribution', \n",
    "    'Children Under 18 Distribution', \n",
    "    'Household Income Distribution'\n",
    "))\n",
    "\n",
    "# Add bar plot for Household Size\n",
    "fig5.add_trace(\n",
    "    go.Bar(\n",
    "        x=df['Household_Size'].value_counts().index, \n",
    "        y=df['Household_Size'].value_counts().values, \n",
    "        name='Household Size'\n",
    "    ), \n",
    "    row=1, col=1\n",
    ")\n",
    "\n",
    "# Add bar plot for Children Under 18\n",
    "fig5.add_trace(\n",
    "    go.Bar(\n",
    "        x=df['Children_Under_18'].value_counts().index, \n",
    "        y=df['Children_Under_18'].value_counts().values, \n",
    "        name='Children Under 18'\n",
    "    ), \n",
    "    row=1, col=2\n",
    ")\n",
    "\n",
    "# Add bar plot for Household Income\n",
    "fig5.add_trace(\n",
    "    go.Bar(\n",
    "        x=df['Total_Household_Income'].value_counts().index, \n",
    "        y=df['Total_Household_Income'].value_counts().values, \n",
    "        name='Household Income'\n",
    "    ), \n",
    "    row=1, col=3\n",
    ")\n",
    "\n",
    "# Update layout\n",
    "fig5.update_layout(\n",
    "    height=600, \n",
    "    width=1200, \n",
    "    title_text=\"Household Characteristics Distribution\", \n",
    "    showlegend=False\n",
    ")\n",
    "\n",
    "# Update y-axis title\n",
    "fig5.update_yaxes(title_text=\"Count\", row=1, col=1)\n",
    "fig5.update_yaxes(title_text=\"Count\", row=1, col=2)\n",
    "fig5.update_yaxes(title_text=\"Count\", row=1, col=3)\n",
    "\n",
    "# Update x-axis titles\n",
    "fig5.update_xaxes(title_text=\"Household Size\", row=1, col=1)\n",
    "fig5.update_xaxes(title_text=\"Children Under 18\", row=1, col=2)\n",
    "fig5.update_xaxes(title_text=\"Household Income\", row=1, col=3)\n",
    "\n",
    "# Show the plot\n",
    "fig5.show()"
   ]
  },
  {
   "cell_type": "markdown",
   "id": "620827e6",
   "metadata": {},
   "source": [
    "1. **Household Size**:\n",
    "    - The majority of households consist of \"3 or 4 people.\"\n",
    "    - Smaller households with \"Up to 2 people\" are the second most common.\n",
    "    - Larger households with \"5 or 6 people\" or \"More than 6 people\" are less frequent.\n",
    "    - A small portion of data is categorized as \"Not Provided.\"\n",
    "\n",
    "2. **Children Under 18**:\n",
    "    - A significant number of respondents have children under 18 in their households.\n",
    "    - Households without children under 18 are less common.\n",
    "\n",
    "3. **Household Income**:\n",
    "    - Most respondents fall under the \"Under USD500\" income category.\n",
    "    - The second most common income range is \"Between USD901 and USD1,800.\"\n",
    "    - Higher income categories, such as \"More than USD4,500,\" are the least represented."
   ]
  }
 ],
 "metadata": {
  "kernelspec": {
   "display_name": ".venv",
   "language": "python",
   "name": "python3"
  },
  "language_info": {
   "codemirror_mode": {
    "name": "ipython",
    "version": 3
   },
   "file_extension": ".py",
   "mimetype": "text/x-python",
   "name": "python",
   "nbconvert_exporter": "python",
   "pygments_lexer": "ipython3",
   "version": "3.13.5"
  }
 },
 "nbformat": 4,
 "nbformat_minor": 5
}
