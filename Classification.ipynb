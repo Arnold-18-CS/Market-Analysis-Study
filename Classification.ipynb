{
 "cells": [
  {
   "cell_type": "markdown",
   "id": "88de4843",
   "metadata": {},
   "source": [
    "Classification of Financial Stress Level Using Random Forest."
   ]
  },
  {
   "cell_type": "markdown",
   "id": "758ecf6d",
   "metadata": {},
   "source": [
    "1. Importing Libraries"
   ]
  },
  {
   "cell_type": "code",
   "execution_count": null,
   "id": "7a3fb7153bc9c96c",
   "metadata": {
    "ExecuteTime": {
     "end_time": "2025-06-22T18:04:58.540938Z",
     "start_time": "2025-06-22T18:04:58.533441Z"
    }
   },
   "outputs": [],
   "source": [
    "from telnetlib import X3PAD\n",
    "\n",
    "import pandas as pd\n",
    "import numpy as np\n",
    "import matplotlib.pyplot as plt\n",
    "import seaborn as sns\n",
    "import nbformat\n",
    "import plotly.express as px\n",
    "import plotly.graph_objects as go\n",
    "from plotly.subplots import make_subplots\n",
    "import sklearn \n",
    "import csv\n",
    "from sklearn.linear_model import LassoCV, Ridge\n",
    "from sklearn.metrics import mean_squared_error, r2_score, root_mean_squared_error\n",
    "from sklearn.model_selection import train_test_split\n",
    "from sklearn.preprocessing import StandardScaler\n",
    "from sklearn.model_selection import train_test_split\n",
    "from sklearn.metrics import confusion_matrix, classification_report\n",
    "from sklearn.ensemble import RandomForestClassifier\n",
    "from sklearn.preprocessing import OrdinalEncoder\n",
    "\n"
   ]
  },
  {
   "cell_type": "markdown",
   "id": "03a4d05d",
   "metadata": {},
   "source": [
    "2. Loading and Exploring Dataset"
   ]
  },
  {
   "cell_type": "code",
   "execution_count": 65,
   "id": "54c0e67a57200a40",
   "metadata": {
    "ExecuteTime": {
     "end_time": "2025-06-22T18:04:58.690158Z",
     "start_time": "2025-06-22T18:04:58.608701Z"
    }
   },
   "outputs": [
    {
     "name": "stdout",
     "output_type": "stream",
     "text": [
      "Non-numeric columns: ['Serial_No', 'Period', 'Job_Market_Difficulty', 'Good_Time_For_Large_Purchase', 'Future_Spend_On_Large_Purchases', 'Able_To_Meet_Regular_Expenses', 'Expected_Income_Change', 'Expected_Economic_Change_City', 'Expected_Economic_Change_Country', 'Earning_Difficulty', 'Country_Direction_Thoughts', 'Meals_Per_Day', 'Gender', 'Marital_Status', 'Age', 'Age_Group', 'Highest_Education_Level', 'Occupation', 'Population_Group', 'Children_Under_18', 'Household_Size', 'Total_Household_Income', 'Income_Level', 'Top_3_Concerns', 'Food_Beverages_Prices_Change', 'Utilities_Prices_Change', 'Furniture_Appliances_Prices_Change', 'Alcoholics_Prices_Change', 'Housing_Rent_Prices_Change', 'Transportation_Prices_Change', 'Clothing_Shoes_Prices_Change', 'Education_Prices_Change', 'Recreation_Prices_Change', 'Communication_Prices_Change', 'Concern_About_Rising_Prices', 'Rising_Prices_Impact_Day_To_Day_Expenses', 'Rising_Prices_Impact_Discretionary_Spending', 'Rising_Prices_Impact_Affordable_Housing', 'Rising_Prices_Impact_Invest_Retirement', 'Rising_Prices_Impact_Healthcare', 'Rising_Prices_Impact_Organic_Food', 'Dealing_With_Rising_Prices', 'Borrowed_Money_For_Rising_Prices', 'Reason_For_Price_Increase', 'Stress_Level', 'Combat_Price_Increase', 'Curb_Inflation_Methods', 'Eating_Habits_Change', 'Meat_Milk_Habits_Change', 'Alcohol_Types_Drunk', 'Alcohol_Category_Most_Drunk']\n",
      "  Serial_No      Period Job_Market_Difficulty Good_Time_For_Large_Purchase  \\\n",
      "0     R3229  2022-06-20             Difficult                          Yes   \n",
      "1     R3377  2022-06-20             Difficult                          Yes   \n",
      "2     R2149  2022-11-20             Difficult                           No   \n",
      "3     R3410  2022-06-20             Difficult                        Maybe   \n",
      "4     R2099  2022-11-20             Difficult                           No   \n",
      "\n",
      "  Future_Spend_On_Large_Purchases Able_To_Meet_Regular_Expenses  \\\n",
      "0                            Same                            No   \n",
      "1                            More                         Maybe   \n",
      "2                            Less                           Yes   \n",
      "3                            More                         Maybe   \n",
      "4                            Less                         Maybe   \n",
      "\n",
      "  Expected_Income_Change Expected_Economic_Change_City  \\\n",
      "0          Stay the same                 Stay the same   \n",
      "1          Stay the same                 Stay the same   \n",
      "2          Stay the same                        Worsen   \n",
      "3          Stay the same                 Stay the same   \n",
      "4                Improve                       Improve   \n",
      "\n",
      "  Expected_Economic_Change_Country Earning_Difficulty  ...  \\\n",
      "0                    Stay the same               Same  ...   \n",
      "1                    Stay the same          Difficult  ...   \n",
      "2                           Worsen          Difficult  ...   \n",
      "3                    Stay the same               Same  ...   \n",
      "4                          Improve          Difficult  ...   \n",
      "\n",
      "                          Dealing_With_Rising_Prices  \\\n",
      "0                    Delayed non-essential purchases   \n",
      "1  Other changes in purchasing habits (e.g., buyi...   \n",
      "2  Searched for sales and promotions;Purchased ch...   \n",
      "3  Searched for sales and promotions;Purchased ch...   \n",
      "4  Other changes in purchasing habits (e.g., buyi...   \n",
      "\n",
      "  Borrowed_Money_For_Rising_Prices               Reason_For_Price_Increase  \\\n",
      "0            No, have not borrowed             Impact of COVID-19 pandemic   \n",
      "1   Yes, had to borrow a few times  Impact of Russia's invasion of Ukraine   \n",
      "2   Yes, had to borrow a few times  Impact of Russia's invasion of Ukraine   \n",
      "3         Yes, had to borrow often  Impact of Russia's invasion of Ukraine   \n",
      "4   Yes, had to borrow a few times             Impact of COVID-19 pandemic   \n",
      "\n",
      "      Stress_Level                              Combat_Price_Increase  \\\n",
      "0  Quite stressful  Governments should support the local productio...   \n",
      "1  Quite stressful                            People should save more   \n",
      "2  Quite stressful   People should spend less;People should save more   \n",
      "3  Quite stressful  Governments should support the local productio...   \n",
      "4  Quite stressful  Governments should support the local productio...   \n",
      "\n",
      "                              Curb_Inflation_Methods Eating_Habits_Change  \\\n",
      "0  I stopped specific diets e.g Keto, Vegan, Glut...                  NaN   \n",
      "1  I am going to bars less often;I am purchasing ...                  NaN   \n",
      "2  I am purchasing less produce;I am purchasing l...                  NaN   \n",
      "3  I am eating out at restaurants less often;I am...                  NaN   \n",
      "4  I am stocking up on cheap street/local market ...                  NaN   \n",
      "\n",
      "  Meat_Milk_Habits_Change Alcohol_Types_Drunk Alcohol_Category_Most_Drunk  \n",
      "0                     NaN                 NaN                         NaN  \n",
      "1                     NaN                 NaN                         NaN  \n",
      "2                     NaN                 NaN                         NaN  \n",
      "3                     NaN                 NaN                         NaN  \n",
      "4                     NaN                 NaN                         NaN  \n",
      "\n",
      "[5 rows x 51 columns]\n"
     ]
    }
   ],
   "source": [
    "file_name='data_cleaned.csv'\n",
    "df=pd.read_csv(file_name)\n",
    "df.head()\n",
    "non_numeric_cols = df.select_dtypes(include=['object']).columns\n",
    "print(\"Non-numeric columns:\", non_numeric_cols.tolist())\n",
    "\n",
    "print(df[non_numeric_cols].head())\n",
    "\n",
    "\n"
   ]
  },
  {
   "cell_type": "markdown",
   "id": "ef7d16de",
   "metadata": {},
   "source": [
    "3. Defining Target and Feature Selection"
   ]
  },
  {
   "cell_type": "code",
   "execution_count": null,
   "id": "5a1d33635ea1bc5",
   "metadata": {
    "ExecuteTime": {
     "end_time": "2025-06-22T18:07:28.534100Z",
     "start_time": "2025-06-22T18:07:28.086922Z"
    }
   },
   "outputs": [
    {
     "name": "stderr",
     "output_type": "stream",
     "text": [
      "C:\\Users\\ggata\\Documents\\GitHub\\Market-Analysis-Study\\venv\\Lib\\site-packages\\sklearn\\base.py:1363: DataConversionWarning: A column-vector y was passed when a 1d array was expected. Please change the shape of y to (n_samples,), for example using ravel().\n",
      "  return fit_method(estimator, *args, **kwargs)\n"
     ]
    },
    {
     "name": "stdout",
     "output_type": "stream",
     "text": [
      "Confusion Matrix:\n",
      "[[ 70   8 120]\n",
      " [ 24  30  26]\n",
      " [ 34   8 467]]\n",
      "\n",
      "Classification Report:\n",
      "                 precision    recall  f1-score   support\n",
      "\n",
      "        Neutral       0.55      0.35      0.43       198\n",
      "  Not stressful       0.65      0.38      0.48        80\n",
      "Quite stressful       0.76      0.92      0.83       509\n",
      "\n",
      "       accuracy                           0.72       787\n",
      "      macro avg       0.65      0.55      0.58       787\n",
      "   weighted avg       0.70      0.72      0.69       787\n",
      "\n"
     ]
    }
   ],
   "source": [
    "y=df[['Stress_Level']]\n",
    "\n",
    "\n",
    "ordinal_cols = [\n",
    "    \"Job_Market_Difficulty\", \"Future_Spend_On_Large_Purchases\", \"Able_To_Meet_Regular_Expenses\",\n",
    "    \"Expected_Income_Change\", \"Expected_Economic_Change_City\", \"Expected_Economic_Change_Country\",\n",
    "    \"Earning_Difficulty\", \"Income_Level\", \"Utilities_Prices_Change\", \"Alcoholics_Prices_Change\",\n",
    "    \"Furniture_Appliances_Prices_Change\", \"Housing_Rent_Prices_Change\", \"Transportation_Prices_Change\",\n",
    "    \"Clothing_Shoes_Prices_Change\", \"Education_Prices_Change\", \"Recreation_Prices_Change\",\n",
    "    \"Communication_Prices_Change\", \"Concern_About_Rising_Prices\",\n",
    "    \"Rising_Prices_Impact_Organic_Food\", \"Rising_Prices_Impact_Day_To_Day_Expenses\",\n",
    "    \"Rising_Prices_Impact_Healthcare\", \"Age_Group\",\"Marital_Status\", \"Household_Size\"\n",
    "]\n",
    "# Define feature matrix\n",
    "X = df[ordinal_cols].copy()\n",
    "encoder = OrdinalEncoder(handle_unknown='use_encoded_value', unknown_value=-1)\n",
    "X[ordinal_cols] = encoder.fit_transform(X[ordinal_cols])\n",
    "\n",
    "X_train, X_test, y_train, y_test = train_test_split(X, y, test_size=0.2, random_state=42)\n",
    "\n",
    "# Initialize and train the model\n",
    "model = RandomForestClassifier(n_estimators=100, max_depth=20,min_samples_leaf=1,min_samples_split=5,random_state=42)\n",
    "model.fit(X_train, y_train)\n",
    "\n",
    "# Make predictions\n",
    "y_pred = model.predict(X_test)\n",
    "\n",
    "# Print metrics\n",
    "print(\"Confusion Matrix:\")\n",
    "print(confusion_matrix(y_test, y_pred))\n",
    "\n",
    "print(\"\\nClassification Report:\")\n",
    "print(classification_report(y_test, y_pred))"
   ]
  },
  {
   "cell_type": "markdown",
   "id": "ab214319",
   "metadata": {},
   "source": [
    "4. Hyperparameter Tuning Using Grid Search"
   ]
  },
  {
   "cell_type": "code",
   "execution_count": 63,
   "id": "9f10b0514ccf2289",
   "metadata": {
    "ExecuteTime": {
     "end_time": "2025-06-22T18:04:58.466522Z",
     "start_time": "2025-06-22T18:03:48.944683Z"
    }
   },
   "outputs": [
    {
     "name": "stdout",
     "output_type": "stream",
     "text": [
      "Best Parameters: {'max_depth': None, 'min_samples_leaf': 1, 'min_samples_split': 5, 'n_estimators': 200}\n"
     ]
    }
   ],
   "source": [
    "from sklearn.model_selection import GridSearchCV\n",
    "\n",
    "param_grid = {\n",
    "    'n_estimators': [100, 150, 200],\n",
    "    'max_depth': [None, 10, 20],\n",
    "    'min_samples_split': [2, 5],\n",
    "    'min_samples_leaf': [1, 2]\n",
    "}\n",
    "\n",
    "grid_search = GridSearchCV(RandomForestClassifier(random_state=42), param_grid, cv=5, scoring='f1_weighted')\n",
    "grid_search.fit(X_train, y_train.values.ravel())\n",
    "\n",
    "print(\"Best Parameters:\", grid_search.best_params_)\n",
    "best_model = grid_search.best_estimator_\n",
    "\n"
   ]
  },
  {
   "cell_type": "code",
   "execution_count": 53,
   "id": "b374ca5566ab1a9a",
   "metadata": {
    "ExecuteTime": {
     "end_time": "2025-06-22T17:58:42.088823Z",
     "start_time": "2025-06-22T17:58:42.064436Z"
    }
   },
   "outputs": [],
   "source": [
    "from sklearn.preprocessing import OrdinalEncoder\n",
    "\n",
    "ordinal_cols = [\n",
    "    \"Job_Market_Difficulty\", \"Future_Spend_On_Large_Purchases\", \"Able_To_Meet_Regular_Expenses\",\n",
    "    \"Expected_Income_Change\", \"Expected_Economic_Change_City\", \"Expected_Economic_Change_Country\",\n",
    "    \"Earning_Difficulty\", \"Income_Level\", \"Utilities_Prices_Change\", \"Alcoholics_Prices_Change\",\n",
    "    \"Furniture_Appliances_Prices_Change\", \"Housing_Rent_Prices_Change\", \"Transportation_Prices_Change\",\n",
    "    \"Clothing_Shoes_Prices_Change\", \"Education_Prices_Change\", \"Recreation_Prices_Change\",\n",
    "    \"Communication_Prices_Change\", \"Concern_About_Rising_Prices\", \n",
    "    \"Rising_Prices_Impact_Organic_Food\", \"Rising_Prices_Impact_Day_To_Day_Expenses\",\n",
    "    \"Rising_Prices_Impact_Healthcare\"\n",
    "]\n",
    "\n",
    "encoder = OrdinalEncoder(handle_unknown='use_encoded_value', unknown_value=-1)\n",
    "X[ordinal_cols] = encoder.fit_transform(X[ordinal_cols])\n"
   ]
  }
 ],
 "metadata": {
  "kernelspec": {
   "display_name": "venv",
   "language": "python",
   "name": "python3"
  },
  "language_info": {
   "codemirror_mode": {
    "name": "ipython",
    "version": 3
   },
   "file_extension": ".py",
   "mimetype": "text/x-python",
   "name": "python",
   "nbconvert_exporter": "python",
   "pygments_lexer": "ipython3",
   "version": "3.12.6"
  }
 },
 "nbformat": 4,
 "nbformat_minor": 5
}
